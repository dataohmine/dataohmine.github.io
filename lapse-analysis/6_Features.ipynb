{
 "cells": [
  {
   "cell_type": "code",
   "execution_count": 3,
   "metadata": {},
   "outputs": [],
   "source": [
    "import boto3\n",
    "import io\n",
    "import pandas as pd\n",
    "import numpy as np\n",
    "\n",
    "import matplotlib.pyplot as plt\n",
    "import seaborn as sns; sns.set()\n",
    "\n",
    "import awswrangler as wr\n",
    "\n",
    "import warnings\n",
    "warnings.filterwarnings(\"ignore\")\n",
    "\n",
    "plt.style.use('seaborn-colorblind')"
   ]
  },
  {
   "cell_type": "markdown",
   "metadata": {},
   "source": [
    "### set-up"
   ]
  },
  {
   "cell_type": "code",
   "execution_count": 4,
   "metadata": {},
   "outputs": [],
   "source": [
    "session = boto3.Session()\n",
    "s3 = session.client('s3')"
   ]
  },
  {
   "cell_type": "code",
   "execution_count": 5,
   "metadata": {},
   "outputs": [],
   "source": [
    "bucket_name = \"cdo-ililapse-364524684987-bucket\"\n",
    "file_path = \"x266754/lapse/\""
   ]
  },
  {
   "cell_type": "markdown",
   "metadata": {},
   "source": [
    "### data intake"
   ]
  },
  {
   "cell_type": "code",
   "execution_count": 6,
   "metadata": {},
   "outputs": [],
   "source": [
    "file_name = \"x266754/lapse/curated_test.parquet\""
   ]
  },
  {
   "cell_type": "code",
   "execution_count": 7,
   "metadata": {},
   "outputs": [
    {
     "name": "stdout",
     "output_type": "stream",
     "text": [
      "CPU times: user 38.6 s, sys: 14.3 s, total: 52.9 s\n",
      "Wall time: 29.7 s\n"
     ]
    }
   ],
   "source": [
    "%%time\n",
    "obj = s3.get_object(Bucket = bucket_name, Key = file_name)\n",
    "df = pd.read_parquet(io.BytesIO(obj['Body'].read())) "
   ]
  },
  {
   "cell_type": "code",
   "execution_count": 8,
   "metadata": {},
   "outputs": [
    {
     "data": {
      "text/html": [
       "<div>\n",
       "<style scoped>\n",
       "    .dataframe tbody tr th:only-of-type {\n",
       "        vertical-align: middle;\n",
       "    }\n",
       "\n",
       "    .dataframe tbody tr th {\n",
       "        vertical-align: top;\n",
       "    }\n",
       "\n",
       "    .dataframe thead th {\n",
       "        text-align: right;\n",
       "    }\n",
       "</style>\n",
       "<table border=\"1\" class=\"dataframe\">\n",
       "  <thead>\n",
       "    <tr style=\"text-align: right;\">\n",
       "      <th></th>\n",
       "      <th>policy_id</th>\n",
       "      <th>month</th>\n",
       "      <th>lapse_ind</th>\n",
       "      <th>surrender_ind</th>\n",
       "      <th>reinstate_ind</th>\n",
       "      <th>current_status</th>\n",
       "      <th>3mo_ahead_status</th>\n",
       "    </tr>\n",
       "  </thead>\n",
       "  <tbody>\n",
       "    <tr>\n",
       "      <th>4951461</th>\n",
       "      <td>V9063643</td>\n",
       "      <td>1</td>\n",
       "      <td>0.0</td>\n",
       "      <td>0.0</td>\n",
       "      <td>0.0</td>\n",
       "      <td>current</td>\n",
       "      <td>current</td>\n",
       "    </tr>\n",
       "    <tr>\n",
       "      <th>4951462</th>\n",
       "      <td>V9063643</td>\n",
       "      <td>2</td>\n",
       "      <td>0.0</td>\n",
       "      <td>0.0</td>\n",
       "      <td>0.0</td>\n",
       "      <td>current</td>\n",
       "      <td>current</td>\n",
       "    </tr>\n",
       "    <tr>\n",
       "      <th>4951463</th>\n",
       "      <td>V9063643</td>\n",
       "      <td>3</td>\n",
       "      <td>0.0</td>\n",
       "      <td>0.0</td>\n",
       "      <td>0.0</td>\n",
       "      <td>current</td>\n",
       "      <td>current</td>\n",
       "    </tr>\n",
       "    <tr>\n",
       "      <th>4951464</th>\n",
       "      <td>V9063643</td>\n",
       "      <td>4</td>\n",
       "      <td>0.0</td>\n",
       "      <td>1.0</td>\n",
       "      <td>0.0</td>\n",
       "      <td>current</td>\n",
       "      <td>surrender</td>\n",
       "    </tr>\n",
       "  </tbody>\n",
       "</table>\n",
       "</div>"
      ],
      "text/plain": [
       "        policy_id  month  lapse_ind  surrender_ind  reinstate_ind  \\\n",
       "4951461  V9063643      1        0.0            0.0            0.0   \n",
       "4951462  V9063643      2        0.0            0.0            0.0   \n",
       "4951463  V9063643      3        0.0            0.0            0.0   \n",
       "4951464  V9063643      4        0.0            1.0            0.0   \n",
       "\n",
       "        current_status 3mo_ahead_status  \n",
       "4951461        current          current  \n",
       "4951462        current          current  \n",
       "4951463        current          current  \n",
       "4951464        current        surrender  "
      ]
     },
     "execution_count": 8,
     "metadata": {},
     "output_type": "execute_result"
    }
   ],
   "source": [
    "df[df['policy_id']=='V9063643'][['policy_id', 'month', \n",
    "                                 'lapse_ind', \n",
    "                                 'surrender_ind', \n",
    "                                 'reinstate_ind', \n",
    "                                 'current_status',\n",
    "                                 '3mo_ahead_status']]"
   ]
  },
  {
   "cell_type": "markdown",
   "metadata": {},
   "source": [
    "### Target Variable"
   ]
  },
  {
   "cell_type": "code",
   "execution_count": 9,
   "metadata": {},
   "outputs": [],
   "source": [
    "df['3mo_ahead_Lapse'] = (np.where((df['3mo_ahead_status']=='lapse') | ((df['3mo_ahead_status']=='surrender')), 1,0))\n",
    "df['current_lapse_status'] = (np.where((df['current_status']=='lapse') | ((df['current_status']=='surrender')), 1,0))"
   ]
  },
  {
   "cell_type": "markdown",
   "metadata": {},
   "source": [
    "### Features"
   ]
  },
  {
   "cell_type": "code",
   "execution_count": 10,
   "metadata": {},
   "outputs": [],
   "source": [
    "# policy holder\n",
    "df['holder_age'] = df['attained_age']"
   ]
  },
  {
   "cell_type": "code",
   "execution_count": 11,
   "metadata": {},
   "outputs": [],
   "source": [
    "# policy age\n",
    "df['policy_age'] = np.round((df['val_dt'] -df['issue_dt'].astype('datetime64[ns]'))/np.timedelta64(1, 'M'), 0).astype(int)"
   ]
  },
  {
   "cell_type": "code",
   "execution_count": 12,
   "metadata": {},
   "outputs": [],
   "source": [
    "# issue year\n",
    "df['issue_year']=  df['issue_dt'].astype('datetime64[ns]').dt.year"
   ]
  },
  {
   "cell_type": "code",
   "execution_count": 13,
   "metadata": {},
   "outputs": [],
   "source": [
    "# cash value\n",
    "df['mod_mpt_total'] = df['mpt_tot_act_val'] - df['tot_loan_prncpl']\n",
    "df['mod_mpt3'] = df['mpt_3'] - df['tot_loan_prncpl']\n",
    "df['mod_mpt4'] = df['mpt_4'] - df['tot_loan_prncpl']"
   ]
  },
  {
   "cell_type": "code",
   "execution_count": 14,
   "metadata": {},
   "outputs": [],
   "source": [
    "# payment\n",
    "df['mod_bld_payment'] = df['modal_prem_bld'] + df['unpd_loan_int_due']\n",
    "df['mod_sch_payment'] = df['modal_prem_sch'] + df['unpd_loan_int_due']"
   ]
  },
  {
   "cell_type": "code",
   "execution_count": 15,
   "metadata": {},
   "outputs": [],
   "source": [
    "# cash value - payment\n",
    "df['cash_accum_prem'] = df['mpt_tot_act_val'] - df['accum_actual_prem_paid']\n",
    "df['diff_mod_bld_value'] = df['mod_mpt_total'] - df['mod_bld_payment']"
   ]
  },
  {
   "cell_type": "code",
   "execution_count": 16,
   "metadata": {},
   "outputs": [],
   "source": [
    "# normalized\n",
    "df['mpt_total_bld_face_amt'] = df['mod_mpt_total']/df['base_face_amt']"
   ]
  },
  {
   "cell_type": "code",
   "execution_count": null,
   "metadata": {},
   "outputs": [],
   "source": [
    "# month over month change in cash value\n",
    "df['mod_mpt_total_lag1'] = df.groupby(['policy_id'])['mod_mpt_total'].shift(1)\n",
    "df['mod_mpt_total_lag1'] = np.where(df['mod_mpt_total_lag1'].isnull(), df['mod_mpt_total'], df['mod_mpt_total_lag1'])\n",
    "df['mom_mod_mpt_total']= df['mod_mpt_total'] - df['mod_mpt_total_lag1'] "
   ]
  },
  {
   "cell_type": "code",
   "execution_count": 17,
   "metadata": {},
   "outputs": [],
   "source": [
    "# month over month change in payment \n",
    "df['accum_actual_prem_paid_lag1'] = df.groupby(['policy_id'])['accum_actual_prem_paid'].shift(1)\n",
    "df['accum_actual_prem_paid_lag1'] = np.where(df['accum_actual_prem_paid_lag1'].isnull(), df['accum_actual_prem_paid'], df['accum_actual_prem_paid_lag1'])\n",
    "df['mom_accum_prem_paid']= df['accum_actual_prem_paid'] - df['accum_actual_prem_paid_lag1'] "
   ]
  },
  {
   "cell_type": "code",
   "execution_count": 18,
   "metadata": {},
   "outputs": [],
   "source": [
    "# month over month change in prem mode\n",
    "df['prem_mode_lag1'] = df.groupby(['policy_id'])['prem_mode'].shift(1)\n",
    "df['prem_mode_lag1'] = np.where(df['prem_mode_lag1'].isnull(), df['prem_mode'], df['prem_mode_lag1'])\n",
    "df['prem_mode_change_flag']= np.where((df['prem_mode_lag1'] !=df['prem_mode']), 1,0)"
   ]
  },
  {
   "cell_type": "code",
   "execution_count": 19,
   "metadata": {},
   "outputs": [],
   "source": [
    "# household AUM\n",
    "df['diff_household_asset_cash_val'] = df['wc_tot_asset_amt']  - df['mod_mpt_total']\n",
    "df['hh_stock_mix'] = df['wc_asset_mix_stk_amt']/df['wc_tot_asset_amt'] \n",
    "df['hh_bond_mix'] = df['wc_asset_mix_bond_amt']/df['wc_tot_asset_amt'] \n",
    "df['hh_annuity_mix'] = df['wc_asset_mix_anty_amt']/df['wc_tot_asset_amt'] "
   ]
  },
  {
   "cell_type": "code",
   "execution_count": 20,
   "metadata": {},
   "outputs": [],
   "source": [
    "# subject aum\n",
    "df['diff_aum_cash_val'] = df['subj_aum_amt']  - df['mod_mpt_total']"
   ]
  },
  {
   "cell_type": "code",
   "execution_count": 21,
   "metadata": {},
   "outputs": [],
   "source": [
    "# other mpt\n",
    "df['rest_mpt'] = df['mpt_10']+df['mpt_600']+df['mpt_620']+df['mpt_1600']+df['mpt_20881']"
   ]
  },
  {
   "cell_type": "code",
   "execution_count": 22,
   "metadata": {},
   "outputs": [],
   "source": [
    "# rider flag\n",
    "df['rdr_face_amt'] = df['rdr1_face_amt']+df['rdr2_face_amt']+df['rdr3_face_amt']\n",
    "df['rider_flag'] =np.where(df['rdr_face_amt']>0, 1, 0)"
   ]
  },
  {
   "cell_type": "code",
   "execution_count": 23,
   "metadata": {},
   "outputs": [],
   "source": [
    "# interaction\n",
    "df['holder_age_cash']=df['holder_age']*df['mod_mpt_total']\n",
    "df['policy_age_cash']=df['policy_age']/12*df['mod_mpt_total']\n",
    "df['issue_age_cash']=df['issue_age']*df['mod_mpt_total']\n",
    "\n",
    "df['diff_policy_issue_issue']=df['policy_age_cash']-df['issue_age_cash']\n",
    "df['diff_cash_holder_issue']=df['holder_age_cash']-df['issue_age_cash']"
   ]
  },
  {
   "cell_type": "code",
   "execution_count": 24,
   "metadata": {},
   "outputs": [],
   "source": [
    "# rolling count\n",
    "df['current'] = df['current_status'].map(lambda x: 1 if x == 'current' else 0)\n",
    "df['lapse'] = df['current_status'].map(lambda x: 1 if x == 'lapse' else 0)\n",
    "df['reinstate'] = df['current_status'].map(lambda x: 1 if x == 'reinstated' else 0)"
   ]
  },
  {
   "cell_type": "code",
   "execution_count": 25,
   "metadata": {},
   "outputs": [
    {
     "name": "stdout",
     "output_type": "stream",
     "text": [
      "CPU times: user 1min 44s, sys: 2.15 s, total: 1min 46s\n",
      "Wall time: 1min 46s\n"
     ]
    }
   ],
   "source": [
    "%%time\n",
    "df['num_current_3m'] = df.groupby('policy_id')['current'].rolling(window=3, min_periods=1).sum().reset_index(level=0, drop=True)\n",
    "df['num_lapse_3m'] = df.groupby('policy_id')['lapse'].rolling(window=3, min_periods=1).sum().reset_index(level=0, drop=True)\n",
    "df['num_reinstate_3m'] = df.groupby('policy_id')['reinstate'].rolling(window=3, min_periods=1).sum().reset_index(level=0, drop=True)\n",
    "\n",
    "#df['num_current_3m'] = df.groupby('policy_id')['current'].transform(lambda x: x.rolling(3).sum())\n",
    "# df['num_lapse_3m'] = df.groupby('policy_id')['lapse'].transform(lambda x: x.rolling(3).sum())\n",
    "# df['num_reinstate_3m'] = df.groupby('policy_id')['reinstate'].transform(lambda x: x.rolling(3).sum())"
   ]
  },
  {
   "cell_type": "code",
   "execution_count": 26,
   "metadata": {},
   "outputs": [],
   "source": [
    "# backward fill\n",
    "df['num_current_3m']=df['num_current_3m'].bfill()\n",
    "df['num_reinstate_3m']=df['num_reinstate_3m'].bfill()\n",
    "df['num_lapse_3m']=df['num_lapse_3m'].bfill()"
   ]
  },
  {
   "cell_type": "code",
   "execution_count": 27,
   "metadata": {},
   "outputs": [],
   "source": [
    "# number of policies per household and month over month change\n",
    "count_df = pd.DataFrame(df[(df['household_id']!=888888888)].groupby(['household_id','val_dt'])['agmt_pkge_id'].count()).reset_index()\n",
    "count_df.columns = ['household_id', 'val_dt', 'num_policies_hh']"
   ]
  },
  {
   "cell_type": "code",
   "execution_count": 28,
   "metadata": {},
   "outputs": [
    {
     "name": "stdout",
     "output_type": "stream",
     "text": [
      "CPU times: user 3min 52s, sys: 1min 59s, total: 5min 52s\n",
      "Wall time: 5min 51s\n"
     ]
    }
   ],
   "source": [
    "%%time\n",
    "df = df.merge(count_df, how= 'left', \n",
    "                      left_on =['household_id','val_dt'],\n",
    "                      right_on =['household_id','val_dt']\n",
    "                     )"
   ]
  },
  {
   "cell_type": "code",
   "execution_count": 29,
   "metadata": {},
   "outputs": [],
   "source": [
    "# month over month change in number of policies per household\n",
    "df['num_policies_hh_lag1'] = df.groupby(['policy_id'])['num_policies_hh'].shift(1)\n",
    "df['num_policies_hh_lag1'] = np.where(df['num_policies_hh_lag1'].isnull(), df['num_policies_hh'], df['num_policies_hh_lag1'])\n",
    "df['mom_hh_policies']= df['num_policies_hh'] - df['num_policies_hh_lag1'] "
   ]
  },
  {
   "cell_type": "code",
   "execution_count": 30,
   "metadata": {},
   "outputs": [],
   "source": [
    "# number of service requests last 6 months\n",
    "df['num_sr_catg'] = df['num_sr_catg'].fillna(0)\n",
    "df['max_sr_time'] = df['max_sr_time'].fillna(0)\n",
    "df['time_to_close'] = df['time_to_close'].fillna(0)\n",
    "\n",
    "df['num_sr_6m'] = df.groupby('policy_id')['num_sr_catg'].rolling(window=6, min_periods=1).sum().reset_index(level=0, drop=True)\n",
    "df['num_sr_6m']=df['num_sr_6m'].bfill()"
   ]
  },
  {
   "cell_type": "code",
   "execution_count": 31,
   "metadata": {},
   "outputs": [],
   "source": [
    "# current month - last service request month \n",
    "# sr_month_df = pd.DataFrame(df[df['num_sr_catg']>=1].groupby(['policy_id'])['pfmc_cur_month'].last()).reset_index()\n",
    "# sr_month_df.columns = ['policy_id', 'last_sr_month']"
   ]
  },
  {
   "cell_type": "code",
   "execution_count": 32,
   "metadata": {},
   "outputs": [],
   "source": [
    "# %%time\n",
    "# df = df.merge(sr_month_df, how= 'left', \n",
    "#                       left_on =['policy_id','pfmc_cur_month'],\n",
    "#                       right_on =['policy_id','last_sr_month']\n",
    "#                      )"
   ]
  },
  {
   "cell_type": "markdown",
   "metadata": {},
   "source": [
    "### buckets "
   ]
  },
  {
   "cell_type": "code",
   "execution_count": 33,
   "metadata": {},
   "outputs": [],
   "source": [
    "#age bucket\n",
    "col         = 'holder_age'  \n",
    "conditions  = [(df[col] <= 20), (df[col] >20) & (df[col] <= 30),  \n",
    "               (df[col] >30) & (df[col] <= 35),  (df[col] >35) & (df[col] <= 40), \n",
    "               (df[col] >40) & (df[col] <= 45), (df[col] >45) & (df[col] <= 50),  \n",
    "               (df[col] >50) & (df[col] <= 55), (df[col] >55) & (df[col] <= 60), \n",
    "               (df[col] >60) & (df[col] <= 65), (df[col] >65) & (df[col] <= 70), \n",
    "               (df[col] >70) & (df[col] <= 75), (df[col] >75) & (df[col] <= 80), \n",
    "               (df[col] >80) & (df[col] <= 85), df[col] >85]  \n",
    "              \n",
    "choices     = [ '1. <20', '2. (20,30]', '3. (30,35]', '4. (35,40]', '5. (40,45]', '6. (45,50]',\n",
    "               '7. (50,55]', '8. (55,60]', '9. (60,65]', '10. (65,70]', '11. (70,75]','12. (75,80]', \n",
    "               '13. (80,85]','14. >85']\n",
    "    \n",
    "df[\"holder_age_bucket\"] = np.select(conditions, choices, default='missing')"
   ]
  },
  {
   "cell_type": "code",
   "execution_count": 34,
   "metadata": {},
   "outputs": [],
   "source": [
    "#cash value\n",
    "col         = 'mod_mpt_total'  \n",
    "conditions  = [(df[col] >=0) & (df[col] <= 10000),\n",
    "               (df[col] >10000) & (df[col] <= 25000),\n",
    "               (df[col] >25000) & (df[col] <= 50000),\n",
    "               (df[col] >50000) & (df[col] <= 100000),  \n",
    "               (df[col] >100000) & (df[col] <= 250000),  \n",
    "               (df[col] >250000) & (df[col] <= 500000),  \n",
    "               (df[col] >500000) & (df[col] <= 750000), \n",
    "               (df[col] >750000) & (df[col] <= 1000000),\n",
    "               (df[col] >1000000) & (df[col] <= 3000000),\n",
    "               (df[col] >3000000) & (df[col] <= 5000000), \n",
    "               (df[col] > 5000000)]  \n",
    "              \n",
    "choices     = [ '1. $0k-10k', '2. $10k-25k', '3. $25k-50k','4. $50k-100k', \n",
    "               '5. $100k-250k', '6. $250k-500k','7. $500k-750k', '8. $750k-1M', \n",
    "               '9. $1M-3M', '10. $3M-5M','11. >$5M']\n",
    "    \n",
    "df[\"cash_val_bucket\"] = np.select(conditions, choices, default='missing')"
   ]
  },
  {
   "cell_type": "code",
   "execution_count": 35,
   "metadata": {},
   "outputs": [
    {
     "data": {
      "text/html": [
       "<div>\n",
       "<style scoped>\n",
       "    .dataframe tbody tr th:only-of-type {\n",
       "        vertical-align: middle;\n",
       "    }\n",
       "\n",
       "    .dataframe tbody tr th {\n",
       "        vertical-align: top;\n",
       "    }\n",
       "\n",
       "    .dataframe thead th {\n",
       "        text-align: right;\n",
       "    }\n",
       "</style>\n",
       "<table border=\"1\" class=\"dataframe\">\n",
       "  <thead>\n",
       "    <tr style=\"text-align: right;\">\n",
       "      <th></th>\n",
       "      <th>policy_id</th>\n",
       "      <th>household_id</th>\n",
       "      <th>month</th>\n",
       "      <th>num_policies_hh</th>\n",
       "      <th>mom_hh_policies</th>\n",
       "      <th>holder_age</th>\n",
       "      <th>holder_age_bucket</th>\n",
       "      <th>issue_year</th>\n",
       "      <th>policy_age</th>\n",
       "      <th>mod_mpt_total</th>\n",
       "      <th>cash_val_bucket</th>\n",
       "      <th>mod_bld_payment</th>\n",
       "      <th>cash_accum_prem</th>\n",
       "      <th>diff_mod_bld_value</th>\n",
       "      <th>mpt_total_bld_face_amt</th>\n",
       "      <th>accum_actual_prem_paid</th>\n",
       "      <th>mom_accum_prem_paid</th>\n",
       "      <th>prem_mode</th>\n",
       "      <th>prem_mode_change_flag</th>\n",
       "      <th>diff_household_asset_cash_val</th>\n",
       "      <th>hh_stock_mix</th>\n",
       "      <th>hh_bond_mix</th>\n",
       "      <th>hh_annuity_mix</th>\n",
       "      <th>diff_aum_cash_val</th>\n",
       "      <th>rest_mpt</th>\n",
       "      <th>rider_flag</th>\n",
       "      <th>diff_policy_issue_issue</th>\n",
       "      <th>diff_cash_holder_issue</th>\n",
       "      <th>num_current_3m</th>\n",
       "      <th>num_lapse_3m</th>\n",
       "      <th>num_reinstate_3m</th>\n",
       "      <th>num_sr_catg</th>\n",
       "      <th>num_sr_6m</th>\n",
       "      <th>3mo_ahead_status</th>\n",
       "    </tr>\n",
       "  </thead>\n",
       "  <tbody>\n",
       "    <tr>\n",
       "      <th>4951461</th>\n",
       "      <td>V9063643</td>\n",
       "      <td>26921591.0</td>\n",
       "      <td>1</td>\n",
       "      <td>1.0</td>\n",
       "      <td>0.0</td>\n",
       "      <td>25.0</td>\n",
       "      <td>2. (20,30]</td>\n",
       "      <td>2007</td>\n",
       "      <td>177</td>\n",
       "      <td>2359.36</td>\n",
       "      <td>1. $0k-10k</td>\n",
       "      <td>30.0</td>\n",
       "      <td>-2027.0</td>\n",
       "      <td>2329.36</td>\n",
       "      <td>0.039323</td>\n",
       "      <td>5310.0</td>\n",
       "      <td>0.0</td>\n",
       "      <td>P</td>\n",
       "      <td>0</td>\n",
       "      <td>399660.64</td>\n",
       "      <td>0.222596</td>\n",
       "      <td>0.003069</td>\n",
       "      <td>0.00239</td>\n",
       "      <td>847.47</td>\n",
       "      <td>3283.0</td>\n",
       "      <td>0</td>\n",
       "      <td>8847.600000</td>\n",
       "      <td>33031.04</td>\n",
       "      <td>1.0</td>\n",
       "      <td>0.0</td>\n",
       "      <td>0.0</td>\n",
       "      <td>0.0</td>\n",
       "      <td>0.0</td>\n",
       "      <td>current</td>\n",
       "    </tr>\n",
       "    <tr>\n",
       "      <th>4951462</th>\n",
       "      <td>V9063643</td>\n",
       "      <td>26921591.0</td>\n",
       "      <td>2</td>\n",
       "      <td>1.0</td>\n",
       "      <td>0.0</td>\n",
       "      <td>25.0</td>\n",
       "      <td>2. (20,30]</td>\n",
       "      <td>2007</td>\n",
       "      <td>178</td>\n",
       "      <td>2339.36</td>\n",
       "      <td>1. $0k-10k</td>\n",
       "      <td>30.0</td>\n",
       "      <td>-2077.0</td>\n",
       "      <td>2309.36</td>\n",
       "      <td>0.038989</td>\n",
       "      <td>5340.0</td>\n",
       "      <td>30.0</td>\n",
       "      <td>P</td>\n",
       "      <td>0</td>\n",
       "      <td>399680.64</td>\n",
       "      <td>0.222596</td>\n",
       "      <td>0.003069</td>\n",
       "      <td>0.00239</td>\n",
       "      <td>890.00</td>\n",
       "      <td>3263.0</td>\n",
       "      <td>0</td>\n",
       "      <td>8967.546667</td>\n",
       "      <td>32751.04</td>\n",
       "      <td>2.0</td>\n",
       "      <td>0.0</td>\n",
       "      <td>0.0</td>\n",
       "      <td>0.0</td>\n",
       "      <td>0.0</td>\n",
       "      <td>current</td>\n",
       "    </tr>\n",
       "    <tr>\n",
       "      <th>4951463</th>\n",
       "      <td>V9063643</td>\n",
       "      <td>26921591.0</td>\n",
       "      <td>3</td>\n",
       "      <td>1.0</td>\n",
       "      <td>0.0</td>\n",
       "      <td>25.0</td>\n",
       "      <td>2. (20,30]</td>\n",
       "      <td>2007</td>\n",
       "      <td>179</td>\n",
       "      <td>2373.36</td>\n",
       "      <td>1. $0k-10k</td>\n",
       "      <td>30.0</td>\n",
       "      <td>-2073.0</td>\n",
       "      <td>2343.36</td>\n",
       "      <td>0.039556</td>\n",
       "      <td>5370.0</td>\n",
       "      <td>30.0</td>\n",
       "      <td>P</td>\n",
       "      <td>0</td>\n",
       "      <td>399646.64</td>\n",
       "      <td>0.222596</td>\n",
       "      <td>0.003069</td>\n",
       "      <td>0.00239</td>\n",
       "      <td>918.68</td>\n",
       "      <td>3297.0</td>\n",
       "      <td>0</td>\n",
       "      <td>9295.660000</td>\n",
       "      <td>33227.04</td>\n",
       "      <td>3.0</td>\n",
       "      <td>0.0</td>\n",
       "      <td>0.0</td>\n",
       "      <td>0.0</td>\n",
       "      <td>0.0</td>\n",
       "      <td>current</td>\n",
       "    </tr>\n",
       "    <tr>\n",
       "      <th>4951464</th>\n",
       "      <td>V9063643</td>\n",
       "      <td>26921591.0</td>\n",
       "      <td>4</td>\n",
       "      <td>1.0</td>\n",
       "      <td>0.0</td>\n",
       "      <td>25.0</td>\n",
       "      <td>2. (20,30]</td>\n",
       "      <td>2007</td>\n",
       "      <td>180</td>\n",
       "      <td>2229.36</td>\n",
       "      <td>1. $0k-10k</td>\n",
       "      <td>30.0</td>\n",
       "      <td>-2247.0</td>\n",
       "      <td>2199.36</td>\n",
       "      <td>0.037156</td>\n",
       "      <td>5400.0</td>\n",
       "      <td>30.0</td>\n",
       "      <td>P</td>\n",
       "      <td>0</td>\n",
       "      <td>399790.64</td>\n",
       "      <td>0.222596</td>\n",
       "      <td>0.003069</td>\n",
       "      <td>0.00239</td>\n",
       "      <td>968.69</td>\n",
       "      <td>3153.0</td>\n",
       "      <td>0</td>\n",
       "      <td>8917.440000</td>\n",
       "      <td>31211.04</td>\n",
       "      <td>3.0</td>\n",
       "      <td>0.0</td>\n",
       "      <td>0.0</td>\n",
       "      <td>0.0</td>\n",
       "      <td>0.0</td>\n",
       "      <td>surrender</td>\n",
       "    </tr>\n",
       "  </tbody>\n",
       "</table>\n",
       "</div>"
      ],
      "text/plain": [
       "        policy_id  household_id  month  num_policies_hh  mom_hh_policies  \\\n",
       "4951461  V9063643    26921591.0      1              1.0              0.0   \n",
       "4951462  V9063643    26921591.0      2              1.0              0.0   \n",
       "4951463  V9063643    26921591.0      3              1.0              0.0   \n",
       "4951464  V9063643    26921591.0      4              1.0              0.0   \n",
       "\n",
       "         holder_age holder_age_bucket  issue_year  policy_age  mod_mpt_total  \\\n",
       "4951461        25.0        2. (20,30]        2007         177        2359.36   \n",
       "4951462        25.0        2. (20,30]        2007         178        2339.36   \n",
       "4951463        25.0        2. (20,30]        2007         179        2373.36   \n",
       "4951464        25.0        2. (20,30]        2007         180        2229.36   \n",
       "\n",
       "        cash_val_bucket  mod_bld_payment  cash_accum_prem  diff_mod_bld_value  \\\n",
       "4951461      1. $0k-10k             30.0          -2027.0             2329.36   \n",
       "4951462      1. $0k-10k             30.0          -2077.0             2309.36   \n",
       "4951463      1. $0k-10k             30.0          -2073.0             2343.36   \n",
       "4951464      1. $0k-10k             30.0          -2247.0             2199.36   \n",
       "\n",
       "         mpt_total_bld_face_amt  accum_actual_prem_paid  mom_accum_prem_paid  \\\n",
       "4951461                0.039323                  5310.0                  0.0   \n",
       "4951462                0.038989                  5340.0                 30.0   \n",
       "4951463                0.039556                  5370.0                 30.0   \n",
       "4951464                0.037156                  5400.0                 30.0   \n",
       "\n",
       "        prem_mode  prem_mode_change_flag  diff_household_asset_cash_val  \\\n",
       "4951461         P                      0                      399660.64   \n",
       "4951462         P                      0                      399680.64   \n",
       "4951463         P                      0                      399646.64   \n",
       "4951464         P                      0                      399790.64   \n",
       "\n",
       "         hh_stock_mix  hh_bond_mix  hh_annuity_mix  diff_aum_cash_val  \\\n",
       "4951461      0.222596     0.003069         0.00239             847.47   \n",
       "4951462      0.222596     0.003069         0.00239             890.00   \n",
       "4951463      0.222596     0.003069         0.00239             918.68   \n",
       "4951464      0.222596     0.003069         0.00239             968.69   \n",
       "\n",
       "         rest_mpt  rider_flag  diff_policy_issue_issue  \\\n",
       "4951461    3283.0           0              8847.600000   \n",
       "4951462    3263.0           0              8967.546667   \n",
       "4951463    3297.0           0              9295.660000   \n",
       "4951464    3153.0           0              8917.440000   \n",
       "\n",
       "         diff_cash_holder_issue  num_current_3m  num_lapse_3m  \\\n",
       "4951461                33031.04             1.0           0.0   \n",
       "4951462                32751.04             2.0           0.0   \n",
       "4951463                33227.04             3.0           0.0   \n",
       "4951464                31211.04             3.0           0.0   \n",
       "\n",
       "         num_reinstate_3m  num_sr_catg  num_sr_6m 3mo_ahead_status  \n",
       "4951461               0.0          0.0        0.0          current  \n",
       "4951462               0.0          0.0        0.0          current  \n",
       "4951463               0.0          0.0        0.0          current  \n",
       "4951464               0.0          0.0        0.0        surrender  "
      ]
     },
     "execution_count": 35,
     "metadata": {},
     "output_type": "execute_result"
    }
   ],
   "source": [
    "pd.set_option('display.max_columns', None)\n",
    "df[df['policy_id']=='V9063643'][['policy_id', 'household_id', \n",
    "                                 'month', \n",
    "                                 'num_policies_hh', 'mom_hh_policies',\n",
    "                                 'holder_age',  \"holder_age_bucket\",\n",
    "                                 'issue_year', 'policy_age',\n",
    "                                 'mod_mpt_total', 'cash_val_bucket',\n",
    "                                 'mod_bld_payment', \n",
    "                                 'cash_accum_prem', 'diff_mod_bld_value',\n",
    "                                 'mpt_total_bld_face_amt',  \n",
    "                                 'accum_actual_prem_paid', 'mom_accum_prem_paid',\n",
    "                                 'prem_mode', 'prem_mode_change_flag', \n",
    "                                 'diff_household_asset_cash_val', \n",
    "                                 'hh_stock_mix', 'hh_bond_mix', 'hh_annuity_mix',\n",
    "                                 'diff_aum_cash_val', \n",
    "                                 'rest_mpt',\n",
    "                                 'rider_flag',\n",
    "                                 'diff_policy_issue_issue',\n",
    "                                 'diff_cash_holder_issue',\n",
    "                                 'num_current_3m',\n",
    "                                 'num_lapse_3m',\n",
    "                                 'num_reinstate_3m',\n",
    "                                 'num_sr_catg',\n",
    "                                 'num_sr_6m',\n",
    "                                # 'last_sr_month',\n",
    "                                # 'month_since_last_sr',\n",
    "                                 '3mo_ahead_status']]"
   ]
  },
  {
   "cell_type": "markdown",
   "metadata": {},
   "source": [
    "### Data Filters"
   ]
  },
  {
   "cell_type": "code",
   "execution_count": 36,
   "metadata": {},
   "outputs": [],
   "source": [
    "# remove decseased  (2 = deceased)\n",
    "#df= df[df['deceasead_ind']!=2]\n",
    "\n",
    "# remove policies with zero base face amount \n",
    "df = df[df['base_face_amt']!=0]\n",
    "\n",
    "# remove negative policies with negative policy age\n",
    "df = df[df['policy_age']>=0]"
   ]
  },
  {
   "cell_type": "markdown",
   "metadata": {},
   "source": [
    "### export features "
   ]
  },
  {
   "cell_type": "code",
   "execution_count": 37,
   "metadata": {},
   "outputs": [
    {
     "name": "stdout",
     "output_type": "stream",
     "text": [
      "Keyring is skipped due to an exception: 'keyring.backends'\n",
      "\u001b[33mWARNING: Running pip as the 'root' user can result in broken permissions and conflicting behaviour with the system package manager. It is recommended to use a virtual environment instead: https://pip.pypa.io/warnings/venv\u001b[0m\u001b[33m\n",
      "\u001b[0m"
     ]
    }
   ],
   "source": [
    "!pip install awswrangler --q"
   ]
  },
  {
   "cell_type": "code",
   "execution_count": 38,
   "metadata": {},
   "outputs": [
    {
     "name": "stdout",
     "output_type": "stream",
     "text": [
      "CPU times: user 1min 47s, sys: 20.5 s, total: 2min 7s\n",
      "Wall time: 1min 42s\n"
     ]
    },
    {
     "data": {
      "text/plain": [
       "{'paths': ['s3://cdo-ililapse-364524684987-bucket/x266754/lapse/curated_features.parquet'],\n",
       " 'partitions_values': {}}"
      ]
     },
     "execution_count": 38,
     "metadata": {},
     "output_type": "execute_result"
    }
   ],
   "source": [
    "%%time\n",
    "import awswrangler as wr\n",
    "\n",
    "wr.s3.to_parquet(\n",
    "    df=df,\n",
    "    path='s3://cdo-ililapse-364524684987-bucket/x266754/lapse/curated_features.parquet'\n",
    ")"
   ]
  }
 ],
 "metadata": {
  "kernelspec": {
   "display_name": "Python 3 (Data Science)",
   "language": "python",
   "name": "python3__SAGEMAKER_INTERNAL__arn:aws:sagemaker:us-east-1:081325390199:image/datascience-1.0"
  },
  "language_info": {
   "codemirror_mode": {
    "name": "ipython",
    "version": 3
   },
   "file_extension": ".py",
   "mimetype": "text/x-python",
   "name": "python",
   "nbconvert_exporter": "python",
   "pygments_lexer": "ipython3",
   "version": "3.7.10"
  },
  "lcc_arn": "arn:aws:sagemaker:us-east-1:364524684987:studio-lifecycle-config/kernel-start-43"
 },
 "nbformat": 4,
 "nbformat_minor": 4
}
