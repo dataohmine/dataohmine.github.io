{
 "cells": [
  {
   "cell_type": "code",
   "execution_count": 2,
   "metadata": {},
   "outputs": [
    {
     "name": "stdout",
     "output_type": "stream",
     "text": [
      "Keyring is skipped due to an exception: 'keyring.backends'\n",
      "\u001b[33mWARNING: Running pip as the 'root' user can result in broken permissions and conflicting behaviour with the system package manager. It is recommended to use a virtual environment instead: https://pip.pypa.io/warnings/venv\u001b[0m\u001b[33m\n",
      "\u001b[0m"
     ]
    }
   ],
   "source": [
    "!pip install awswrangler --q"
   ]
  },
  {
   "cell_type": "code",
   "execution_count": 3,
   "metadata": {},
   "outputs": [],
   "source": [
    "import os\n",
    "import io\n",
    "import pandas as pd\n",
    "import numpy as np\n",
    "import glob\n",
    "import matplotlib.pyplot as plt\n",
    "import seaborn as sns; sns.set()\n",
    "\n",
    "import datetime\n",
    "\n",
    "import awswrangler as wr\n",
    "#import dask.dataframe as dd\n",
    "\n",
    "import warnings\n",
    "warnings.filterwarnings(\"ignore\")"
   ]
  },
  {
   "cell_type": "markdown",
   "metadata": {},
   "source": [
    "### local processing "
   ]
  },
  {
   "cell_type": "code",
   "execution_count": 4,
   "metadata": {},
   "outputs": [],
   "source": [
    "path = \"/root/Lapse/data/\""
   ]
  },
  {
   "cell_type": "markdown",
   "metadata": {},
   "source": [
    "#### pfmc inf"
   ]
  },
  {
   "cell_type": "code",
   "execution_count": 5,
   "metadata": {},
   "outputs": [
    {
     "name": "stdout",
     "output_type": "stream",
     "text": [
      "['/root/Lapse/data/vul_pfmc_inf_monthly_2022_4.csv', '/root/Lapse/data/vul_pfmc_inf_monthly_2022_2.csv', '/root/Lapse/data/vul_pfmc_inf_monthly_2022_6.csv', '/root/Lapse/data/vul_pfmc_inf_monthly_2022_1.csv', '/root/Lapse/data/vul_pfmc_inf_monthly_2022_5.csv', '/root/Lapse/data/vul_pfmc_inf_monthly_2022_3.csv']\n"
     ]
    }
   ],
   "source": [
    "filenames = glob.glob(path + \"*pfmc*.csv\")\n",
    "print(filenames)"
   ]
  },
  {
   "cell_type": "code",
   "execution_count": 6,
   "metadata": {},
   "outputs": [
    {
     "name": "stdout",
     "output_type": "stream",
     "text": [
      "/root/Lapse/data/vul_pfmc_inf_monthly_2022_4.csv\n",
      "/root/Lapse/data/vul_pfmc_inf_monthly_2022_2.csv\n",
      "/root/Lapse/data/vul_pfmc_inf_monthly_2022_6.csv\n",
      "/root/Lapse/data/vul_pfmc_inf_monthly_2022_1.csv\n",
      "/root/Lapse/data/vul_pfmc_inf_monthly_2022_5.csv\n",
      "/root/Lapse/data/vul_pfmc_inf_monthly_2022_3.csv\n",
      "(4933250, 234)\n"
     ]
    }
   ],
   "source": [
    "#list of all df\n",
    "dfs = []\n",
    "for f in filenames: \n",
    "    print(f)\n",
    "    d = pd.read_csv(f, encoding=\"ISO-8859-1\") \n",
    "    dfs.append(d) \n",
    "pfmc = pd.concat(dfs, ignore_index=True)\n",
    "del dfs\n",
    "print(pfmc.shape)"
   ]
  },
  {
   "cell_type": "code",
   "execution_count": 7,
   "metadata": {},
   "outputs": [],
   "source": [
    "pfmc['val_dt']= pfmc['val_dt'].astype('datetime64[ns]')\n",
    "\n",
    "# remove NAT time \n",
    "pfmc = pfmc.dropna(subset=['val_dt'])\n",
    "pfmc['pfmc_cur_month'] = pfmc['val_dt'].map(lambda x: x.strftime('%Y-%m'))"
   ]
  },
  {
   "cell_type": "code",
   "execution_count": 8,
   "metadata": {},
   "outputs": [
    {
     "data": {
      "text/plain": [
       "pfmc_cur_month\n",
       "2022-01    827272\n",
       "2022-02    827819\n",
       "2022-03    823926\n",
       "2022-04    820633\n",
       "2022-05    829921\n",
       "2022-06    803676\n",
       "Name: agmt_pkge_id, dtype: int64"
      ]
     },
     "execution_count": 8,
     "metadata": {},
     "output_type": "execute_result"
    }
   ],
   "source": [
    "pfmc.groupby('pfmc_cur_month')['agmt_pkge_id'].count()"
   ]
  },
  {
   "cell_type": "markdown",
   "metadata": {},
   "source": [
    "#### pfmc events"
   ]
  },
  {
   "cell_type": "code",
   "execution_count": 9,
   "metadata": {},
   "outputs": [
    {
     "name": "stdout",
     "output_type": "stream",
     "text": [
      "['/root/Lapse/data/events_monthly_2022_7.csv', '/root/Lapse/data/events_monthly_2022_5.csv', '/root/Lapse/data/events_monthly_2022_9.csv', '/root/Lapse/data/events_monthly_2022_4.csv', '/root/Lapse/data/events_monthly_2022_8.csv', '/root/Lapse/data/events_monthly_2022_6.csv']\n"
     ]
    }
   ],
   "source": [
    "filenames = glob.glob(path + \"*events_monthly*.csv\")\n",
    "print(filenames)"
   ]
  },
  {
   "cell_type": "code",
   "execution_count": 10,
   "metadata": {},
   "outputs": [
    {
     "name": "stdout",
     "output_type": "stream",
     "text": [
      "/root/Lapse/data/events_monthly_2022_7.csv\n",
      "/root/Lapse/data/events_monthly_2022_5.csv\n",
      "/root/Lapse/data/events_monthly_2022_9.csv\n",
      "/root/Lapse/data/events_monthly_2022_4.csv\n",
      "/root/Lapse/data/events_monthly_2022_8.csv\n",
      "/root/Lapse/data/events_monthly_2022_6.csv\n"
     ]
    }
   ],
   "source": [
    "#list of all df\n",
    "dfs = []\n",
    "for f in filenames: \n",
    "    print(f)\n",
    "    d = pd.read_csv(f, encoding=\"ISO-8859-1\") \n",
    "    dfs.append(d) \n",
    "events = pd.concat(dfs, ignore_index=True)\n",
    "del dfs"
   ]
  },
  {
   "cell_type": "code",
   "execution_count": 11,
   "metadata": {},
   "outputs": [],
   "source": [
    "#import dateutil.relativedelta #evnt_dt or prcs_dt?\n",
    "events['prcs_dt']= events['prcs_dt'].astype('datetime64[ns]')\n",
    "events['evnt_cur_month'] = events['prcs_dt'].map(lambda x: x.strftime('%Y-%m'))\n",
    "events['evnt_3_month_ago'] =  ((events['prcs_dt'] - pd.DateOffset(months=3)).dt.to_period(\"M\")).astype(str)"
   ]
  },
  {
   "cell_type": "code",
   "execution_count": 12,
   "metadata": {},
   "outputs": [],
   "source": [
    "# indicator\n",
    "events['lapse_ind'] = (np.where(events['evnt_desc'].str.contains('Lapse', na=False),1, 0)).astype(int)\n",
    "events['surrender_ind'] = (np.where(events['evnt_desc'].str.contains('Surrender',na=False),1, 0)).astype(int)\n",
    "events['reinstate_ind'] = (np.where(events['evnt_desc'].str.contains('True Reinstatement',na=False),1, 0)).astype(int)"
   ]
  },
  {
   "cell_type": "markdown",
   "metadata": {},
   "source": [
    "### join "
   ]
  },
  {
   "cell_type": "code",
   "execution_count": 13,
   "metadata": {},
   "outputs": [],
   "source": [
    "# Merge pfmv and events\n",
    "df = pfmc.merge(events[['agmt_pkge_id','evnt_desc','lapse_ind', 'surrender_ind', 'reinstate_ind','evnt_3_month_ago', \n",
    "                        'evnt_cur_month']], \n",
    "              how='left', \n",
    "              left_on=['agmt_pkge_id', 'pfmc_cur_month'], \n",
    "              right_on=['agmt_pkge_id', 'evnt_3_month_ago'], \n",
    "              suffixes=('', '_remove'))\n",
    "\n",
    "df.drop([i for i in df.columns if 'remove' in i],axis=1, inplace=True)"
   ]
  },
  {
   "cell_type": "code",
   "execution_count": 14,
   "metadata": {},
   "outputs": [
    {
     "name": "stdout",
     "output_type": "stream",
     "text": [
      "(4933247, 241)\n"
     ]
    }
   ],
   "source": [
    "print(df.shape)"
   ]
  },
  {
   "cell_type": "code",
   "execution_count": 15,
   "metadata": {},
   "outputs": [],
   "source": [
    "# this causes mixed type\n",
    "del df[\"iss_rmo\"]\n",
    "del df['limra_lob_desc']"
   ]
  },
  {
   "cell_type": "markdown",
   "metadata": {},
   "source": [
    "### write back as parquet"
   ]
  },
  {
   "cell_type": "code",
   "execution_count": 16,
   "metadata": {},
   "outputs": [],
   "source": [
    "# import pyarrow\n",
    "# import pyarrow.parquet as pq\n",
    "\n",
    "# table = pyarrow.Table.from_pandas(df)"
   ]
  },
  {
   "cell_type": "code",
   "execution_count": 17,
   "metadata": {},
   "outputs": [
    {
     "name": "stdout",
     "output_type": "stream",
     "text": [
      "CPU times: user 1min 38s, sys: 23.2 s, total: 2min 2s\n",
      "Wall time: 1min 44s\n"
     ]
    },
    {
     "data": {
      "text/plain": [
       "{'paths': ['s3://cdo-ililapse-364524684987-bucket/x266754/lapse/pfmc_jan_jun.parquet'],\n",
       " 'partitions_values': {}}"
      ]
     },
     "execution_count": 17,
     "metadata": {},
     "output_type": "execute_result"
    }
   ],
   "source": [
    "%%time\n",
    "import awswrangler as wr\n",
    "\n",
    "wr.s3.to_parquet(\n",
    "    df=df,\n",
    "    path='s3://cdo-ililapse-364524684987-bucket/x266754/lapse/pfmc_jan_jun.parquet'\n",
    "    #dataset=True\n",
    ")"
   ]
  },
  {
   "cell_type": "markdown",
   "metadata": {},
   "source": [
    "### Aws Set-up"
   ]
  },
  {
   "cell_type": "code",
   "execution_count": 18,
   "metadata": {},
   "outputs": [
    {
     "ename": "NameError",
     "evalue": "name 'boto3' is not defined",
     "output_type": "error",
     "traceback": [
      "\u001b[0;31m---------------------------------------------------------------------------\u001b[0m",
      "\u001b[0;31mNameError\u001b[0m                                 Traceback (most recent call last)",
      "\u001b[0;32m<ipython-input-18-b790f069eee9>\u001b[0m in \u001b[0;36m<module>\u001b[0;34m\u001b[0m\n\u001b[0;32m----> 1\u001b[0;31m \u001b[0msession\u001b[0m \u001b[0;34m=\u001b[0m \u001b[0mboto3\u001b[0m\u001b[0;34m.\u001b[0m\u001b[0mSession\u001b[0m\u001b[0;34m(\u001b[0m\u001b[0;34m)\u001b[0m\u001b[0;34m\u001b[0m\u001b[0;34m\u001b[0m\u001b[0m\n\u001b[0m\u001b[1;32m      2\u001b[0m \u001b[0ms3\u001b[0m \u001b[0;34m=\u001b[0m \u001b[0msession\u001b[0m\u001b[0;34m.\u001b[0m\u001b[0mclient\u001b[0m\u001b[0;34m(\u001b[0m\u001b[0;34m's3'\u001b[0m\u001b[0;34m)\u001b[0m\u001b[0;34m\u001b[0m\u001b[0;34m\u001b[0m\u001b[0m\n",
      "\u001b[0;31mNameError\u001b[0m: name 'boto3' is not defined"
     ]
    }
   ],
   "source": [
    "session = boto3.Session()\n",
    "s3 = session.client('s3')"
   ]
  },
  {
   "cell_type": "markdown",
   "metadata": {},
   "source": [
    "### Test: Read parquet from S3 bucket location"
   ]
  },
  {
   "cell_type": "code",
   "execution_count": null,
   "metadata": {},
   "outputs": [],
   "source": [
    "bucket_name = \"cdo-ililapse-364524684987-bucket\"\n",
    "file_path = \"x266754/lapse/\"\n",
    "#s3_path = \"s3://\"+bucket_name+file_path\n",
    "response = s3.list_objects(Bucket = bucket_name, Prefix = file_path + 'pfmc')"
   ]
  },
  {
   "cell_type": "code",
   "execution_count": null,
   "metadata": {},
   "outputs": [],
   "source": [
    "%%time\n",
    "\n",
    "df = []\n",
    "for i in range(len(response['Contents'])):\n",
    "    key = response['Contents'][i]['Key']\n",
    "    obj = s3.get_object(Bucket = bucket_name, Key = key)\n",
    "    df_temp = pd.read_parquet(io.BytesIO(obj['Body'].read()))\n",
    "    df.append(df_temp)\n",
    "    print(i,' = ',response['Contents'][i]['Key'])\n",
    "df = pd.concat(df, ignore_index = True)"
   ]
  },
  {
   "cell_type": "code",
   "execution_count": null,
   "metadata": {},
   "outputs": [],
   "source": [
    "df.head()"
   ]
  },
  {
   "cell_type": "code",
   "execution_count": null,
   "metadata": {},
   "outputs": [],
   "source": [
    "df.shape"
   ]
  }
 ],
 "metadata": {
  "instance_type": "ml.m5.4xlarge",
  "kernelspec": {
   "display_name": "Python 3 (Data Science)",
   "language": "python",
   "name": "python3__SAGEMAKER_INTERNAL__arn:aws:sagemaker:us-east-1:081325390199:image/datascience-1.0"
  },
  "language_info": {
   "codemirror_mode": {
    "name": "ipython",
    "version": 3
   },
   "file_extension": ".py",
   "mimetype": "text/x-python",
   "name": "python",
   "nbconvert_exporter": "python",
   "pygments_lexer": "ipython3",
   "version": "3.7.10"
  },
  "lcc_arn": "arn:aws:sagemaker:us-east-1:364524684987:studio-lifecycle-config/kernel-start-43"
 },
 "nbformat": 4,
 "nbformat_minor": 4
}
