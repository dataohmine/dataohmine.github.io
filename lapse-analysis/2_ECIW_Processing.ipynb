{
 "cells": [
  {
   "cell_type": "code",
   "execution_count": 15,
   "metadata": {},
   "outputs": [
    {
     "name": "stdout",
     "output_type": "stream",
     "text": [
      "Keyring is skipped due to an exception: 'keyring.backends'\n",
      "\u001b[33mWARNING: Running pip as the 'root' user can result in broken permissions and conflicting behaviour with the system package manager. It is recommended to use a virtual environment instead: https://pip.pypa.io/warnings/venv\u001b[0m\u001b[33m\n",
      "\u001b[0m"
     ]
    }
   ],
   "source": [
    "!pip install awswrangler --q"
   ]
  },
  {
   "cell_type": "code",
   "execution_count": 16,
   "metadata": {},
   "outputs": [],
   "source": [
    "import os\n",
    "import io\n",
    "import pandas as pd\n",
    "import numpy as np\n",
    "import glob\n",
    "import matplotlib.pyplot as plt\n",
    "import seaborn as sns; sns.set()\n",
    "\n",
    "import datetime\n",
    "\n",
    "import awswrangler as wr\n",
    "#import dask.dataframe as dd\n",
    "\n",
    "import warnings\n",
    "warnings.filterwarnings(\"ignore\")"
   ]
  },
  {
   "cell_type": "markdown",
   "metadata": {},
   "source": [
    "#### eciw household "
   ]
  },
  {
   "cell_type": "code",
   "execution_count": 17,
   "metadata": {},
   "outputs": [],
   "source": [
    "path = \"/root/Lapse/data/\""
   ]
  },
  {
   "cell_type": "code",
   "execution_count": 18,
   "metadata": {},
   "outputs": [
    {
     "name": "stdout",
     "output_type": "stream",
     "text": [
      "['/root/Lapse/data/vul_eciw_household_monthly_2022_4.csv', '/root/Lapse/data/vul_eciw_household_monthly_2022_2.csv', '/root/Lapse/data/vul_eciw_household_monthly_2022_6.csv', '/root/Lapse/data/vul_eciw_household_monthly_2022_1.csv', '/root/Lapse/data/vul_eciw_household_monthly_2022_5.csv', '/root/Lapse/data/vul_eciw_household_monthly_2022_3.csv']\n"
     ]
    }
   ],
   "source": [
    "filenames = glob.glob(path + \"*household*.csv\")\n",
    "print(filenames)"
   ]
  },
  {
   "cell_type": "code",
   "execution_count": 19,
   "metadata": {},
   "outputs": [
    {
     "name": "stdout",
     "output_type": "stream",
     "text": [
      "/root/Lapse/data/vul_eciw_household_monthly_2022_4.csv\n",
      "/root/Lapse/data/vul_eciw_household_monthly_2022_2.csv\n",
      "/root/Lapse/data/vul_eciw_household_monthly_2022_6.csv\n",
      "/root/Lapse/data/vul_eciw_household_monthly_2022_1.csv\n",
      "/root/Lapse/data/vul_eciw_household_monthly_2022_5.csv\n",
      "/root/Lapse/data/vul_eciw_household_monthly_2022_3.csv\n",
      "(4618147, 192)\n"
     ]
    }
   ],
   "source": [
    "#list of all df\n",
    "dfs = []\n",
    "for f in filenames: \n",
    "    print(f)\n",
    "    d = pd.read_csv(f, encoding=\"ISO-8859-1\") \n",
    "    dfs.append(d) \n",
    "eciw_hh = pd.concat(dfs, ignore_index=True)\n",
    "del dfs\n",
    "print(eciw_hh.shape)"
   ]
  },
  {
   "cell_type": "code",
   "execution_count": 20,
   "metadata": {},
   "outputs": [],
   "source": [
    "eciw_hh['as_of_hist_dt']=eciw_hh['as_of_hist_dt'].astype('datetime64[ns]')\n",
    "eciw_hh['hhld_acq_dt']=eciw_hh['hhld_acq_dt'].astype('datetime64[ns]')\n",
    "eciw_hh['most_rcnt_pur_dt']=eciw_hh['most_rcnt_pur_dt'].astype('datetime64[ns]')"
   ]
  },
  {
   "cell_type": "code",
   "execution_count": 21,
   "metadata": {},
   "outputs": [],
   "source": [
    "eciw_hh = eciw_hh[['household_id', \n",
    "               #dates\n",
    "               'as_of_hist_dt', 'hhld_acq_dt', 'most_rcnt_pur_dt',\n",
    "               # codes\n",
    "               'incm_rng_cd', 'prim_occup_cd','prmr_prsnc_chld_ind', 'net_wrth_gold_cd',\n",
    "             'hhld_qdrnt_cd',\n",
    "               #asset mix\n",
    "              'wc_tot_asset_amt','wc_asset_mix_anty_amt','wc_asset_mix_bond_amt',\n",
    "               'wc_asset_mix_dep_amt','wc_asset_mix_mf_amt','wc_asset_mix_oth_asset_amt',\n",
    "               'wc_asset_mix_stk_amt']]"
   ]
  },
  {
   "cell_type": "markdown",
   "metadata": {},
   "source": [
    "#### eciw subject "
   ]
  },
  {
   "cell_type": "code",
   "execution_count": 22,
   "metadata": {},
   "outputs": [
    {
     "name": "stdout",
     "output_type": "stream",
     "text": [
      "['/root/Lapse/data/vul_eciw_subject_monthly_2022_3.csv', '/root/Lapse/data/vul_eciw_subject_monthly_2022_5.csv', '/root/Lapse/data/vul_eciw_subject_monthly_2022_1.csv', '/root/Lapse/data/vul_eciw_subject_monthly_2022_4.csv', '/root/Lapse/data/vul_eciw_subject_monthly_2022_6.csv', '/root/Lapse/data/vul_eciw_subject_monthly_2022_2.csv']\n"
     ]
    }
   ],
   "source": [
    "filenames = glob.glob(path + \"*subject*.csv\")\n",
    "print(filenames)"
   ]
  },
  {
   "cell_type": "code",
   "execution_count": 23,
   "metadata": {},
   "outputs": [
    {
     "name": "stdout",
     "output_type": "stream",
     "text": [
      "/root/Lapse/data/vul_eciw_subject_monthly_2022_3.csv\n",
      "/root/Lapse/data/vul_eciw_subject_monthly_2022_5.csv\n",
      "/root/Lapse/data/vul_eciw_subject_monthly_2022_1.csv\n",
      "/root/Lapse/data/vul_eciw_subject_monthly_2022_4.csv\n",
      "/root/Lapse/data/vul_eciw_subject_monthly_2022_6.csv\n",
      "/root/Lapse/data/vul_eciw_subject_monthly_2022_2.csv\n",
      "(4753268, 58)\n"
     ]
    }
   ],
   "source": [
    "#list of all df\n",
    "dfs = []\n",
    "for f in filenames: \n",
    "    print(f)\n",
    "    d = pd.read_csv(f, encoding=\"ISO-8859-1\") \n",
    "    dfs.append(d) \n",
    "eciw_sb = pd.concat(dfs, ignore_index=True)\n",
    "del dfs\n",
    "print(eciw_sb.shape)"
   ]
  },
  {
   "cell_type": "code",
   "execution_count": 24,
   "metadata": {},
   "outputs": [],
   "source": [
    "eciw_sb['as_of_hist_dt']=eciw_sb['as_of_hist_dt'].astype('datetime64[ns]')\n",
    "eciw_sb['subj_acq_dt']=eciw_sb['subj_acq_dt'].astype('datetime64[ns]')"
   ]
  },
  {
   "cell_type": "code",
   "execution_count": 25,
   "metadata": {},
   "outputs": [],
   "source": [
    "eciw_sb = eciw_sb[['household_id', 'subject_id', 'agmt_pkge_id','policy_id',\n",
    "               'as_of_hist_dt', 'subj_acq_dt',\n",
    "               'mrtl_stat_cd', 'gndr_cd', 'subj_state_cd', 'subj_act_ind',\n",
    "               'pref_lang_cd','deceased_ind', 'rtl_dstrb_orphn_cd',\n",
    "               'ixi_buoyancy', 'ixi_fin_cohort_cd', \n",
    "               'subj_aum_amt' ]]"
   ]
  },
  {
   "cell_type": "markdown",
   "metadata": {},
   "source": [
    "#### join "
   ]
  },
  {
   "cell_type": "code",
   "execution_count": 26,
   "metadata": {},
   "outputs": [],
   "source": [
    "df =eciw_sb.merge(eciw_hh, how='left', \n",
    "                left_on=['household_id', 'as_of_hist_dt'], \n",
    "                right_on = ['household_id', 'as_of_hist_dt'],\n",
    "                suffixes=('', '_remove'))\n",
    "df.drop([i for i in df.columns if 'remove' in i],axis=1, inplace=True)"
   ]
  },
  {
   "cell_type": "code",
   "execution_count": null,
   "metadata": {},
   "outputs": [],
   "source": [
    "df = df.sort_values(['household_id', 'as_of_hist_dt'])"
   ]
  },
  {
   "cell_type": "code",
   "execution_count": 27,
   "metadata": {},
   "outputs": [],
   "source": [
    "df = df.drop_duplicates()"
   ]
  },
  {
   "cell_type": "code",
   "execution_count": 28,
   "metadata": {},
   "outputs": [
    {
     "name": "stdout",
     "output_type": "stream",
     "text": [
      "(4753268, 30)\n"
     ]
    }
   ],
   "source": [
    "print(df.shape)"
   ]
  },
  {
   "cell_type": "markdown",
   "metadata": {},
   "source": [
    "#### export"
   ]
  },
  {
   "cell_type": "code",
   "execution_count": 29,
   "metadata": {},
   "outputs": [
    {
     "name": "stdout",
     "output_type": "stream",
     "text": [
      "CPU times: user 20.1 s, sys: 6.43 s, total: 26.5 s\n",
      "Wall time: 16.1 s\n"
     ]
    },
    {
     "data": {
      "text/plain": [
       "{'paths': ['s3://cdo-ililapse-364524684987-bucket/x266754/lapse/eciw_jan_jun.parquet'],\n",
       " 'partitions_values': {}}"
      ]
     },
     "execution_count": 29,
     "metadata": {},
     "output_type": "execute_result"
    }
   ],
   "source": [
    "%%time\n",
    "import awswrangler as wr\n",
    "\n",
    "wr.s3.to_parquet(\n",
    "    df=df,\n",
    "    path='s3://cdo-ililapse-364524684987-bucket/x266754/lapse/eciw_jan_jun.parquet'\n",
    "    #dataset=True\n",
    ")"
   ]
  }
 ],
 "metadata": {
  "kernelspec": {
   "display_name": "Python 3 (Data Science)",
   "language": "python",
   "name": "python3__SAGEMAKER_INTERNAL__arn:aws:sagemaker:us-east-1:081325390199:image/datascience-1.0"
  },
  "language_info": {
   "codemirror_mode": {
    "name": "ipython",
    "version": 3
   },
   "file_extension": ".py",
   "mimetype": "text/x-python",
   "name": "python",
   "nbconvert_exporter": "python",
   "pygments_lexer": "ipython3",
   "version": "3.7.10"
  },
  "lcc_arn": "arn:aws:sagemaker:us-east-1:364524684987:studio-lifecycle-config/kernel-start-43"
 },
 "nbformat": 4,
 "nbformat_minor": 4
}
