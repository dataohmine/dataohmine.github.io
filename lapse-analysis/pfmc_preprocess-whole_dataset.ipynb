{
 "cells": [
  {
   "cell_type": "markdown",
   "metadata": {},
   "source": [
    "## Import Modules"
   ]
  },
  {
   "cell_type": "code",
   "execution_count": 4,
   "metadata": {},
   "outputs": [],
   "source": [
    "import pandas as pd\n",
    "\n",
    "import os\n",
    "import boto3\n",
    "\n",
    "import sagemaker\n",
    "from sagemaker.network import NetworkConfig\n",
    "from sagemaker.processing import ProcessingInput, ProcessingOutput\n",
    "from sagemaker.sklearn.processing import SKLearnProcessor"
   ]
  },
  {
   "cell_type": "markdown",
   "metadata": {},
   "source": [
    "## Set up Processing Job"
   ]
  },
  {
   "cell_type": "code",
   "execution_count": 3,
   "metadata": {},
   "outputs": [],
   "source": [
    "role = sagemaker.get_execution_role()\n",
    "region = boto3.Session().region_name\n",
    "\n",
    "bucket = 'cdo-ililapse-364524684987-bucket'\n",
    "kms_key = 'arn:aws:kms:us-east-1:364524684987:key/a083c34e-20a5-4a4b-a2d7-43ab86c2acf8'\n",
    "subnets = ['subnet-0c6285a21fd5322ce', 'subnet-0c8948f11b21bc735', 'subnet-0c8687b8292e1ebd5']\n",
    "security_group_ids= ['sg-027a01f4d54125468']\n",
    "\n",
    "sm_session= sagemaker.Session()\n",
    "sm_session._default_bucket= bucket\n",
    "sm_client = boto3.client('sagemaker')\n",
    "s3_client = boto3.client('s3')"
   ]
  },
  {
   "cell_type": "code",
   "execution_count": 4,
   "metadata": {},
   "outputs": [],
   "source": [
    "network_kwargs= dict(\n",
    "    subnets=subnets,\n",
    "    security_group_ids=security_group_ids,\n",
    "    enable_network_isolation=True,\n",
    "    encrypt_inter_container_traffic=True\n",
    ")"
   ]
  },
  {
   "cell_type": "code",
   "execution_count": 5,
   "metadata": {},
   "outputs": [],
   "source": [
    "my_xid = 'x268052'"
   ]
  },
  {
   "cell_type": "code",
   "execution_count": 6,
   "metadata": {},
   "outputs": [],
   "source": [
    "sklearn_processor = SKLearnProcessor(                 # from sagemaker.sklearn.processing import SKLearnProcessor\n",
    "    framework_version = '0.23-1',\n",
    "    role = role,                                      # sagemaker.get_execution_role()\n",
    "    instance_type = 'ml.m5.24xlarge',\n",
    "    instance_count = 1,\n",
    "    volume_kms_key = kms_key,                         # os.environ['CDO_KMS_KEY']\n",
    "    output_kms_key = kms_key,\n",
    "    base_job_name = f'{my_xid}-preprocessing',       \n",
    "    sagemaker_session = sm_session,                   # sagemaker.Session()\n",
    "    network_config = NetworkConfig(**network_kwargs)  # from sagemaker.network import NetworkConfig\n",
    ")"
   ]
  },
  {
   "cell_type": "code",
   "execution_count": 7,
   "metadata": {},
   "outputs": [],
   "source": [
    "pfmc_events_input_path_s3 = 's3://cdo-ililapse-364524684987-bucket/x268052/data/pfmc/events'\n",
    "pfmc_inf_input_path_s3 = 's3://cdo-ililapse-364524684987-bucket/x268052/data/pfmc/inf'\n",
    "\n",
    "pfmc_ouput_path_s3 = 's3://cdo-ililapse-364524684987-bucket/x268052/data/pfmc/preprocessed'"
   ]
  },
  {
   "cell_type": "markdown",
   "metadata": {},
   "source": [
    "## Preprocessing script"
   ]
  },
  {
   "cell_type": "code",
   "execution_count": 12,
   "metadata": {},
   "outputs": [
    {
     "name": "stdout",
     "output_type": "stream",
     "text": [
      "Overwriting /root/scripts/pfmc_preprocess_script_whole_dataset.py\n"
     ]
    }
   ],
   "source": [
    "%%writefile '/root/scripts/pfmc_preprocess_script_whole_dataset.py'\n",
    "\n",
    "################################################ import modules ################################################\n",
    "\n",
    "import pandas as pd\n",
    "import numpy as np\n",
    "import datetime\n",
    "import glob\n",
    "\n",
    "import argparse\n",
    "\n",
    "# import warnings\n",
    "# warnings.filterwarnings(\"ignore\")\n",
    "\n",
    "\n",
    "# !pip install pytictoc\n",
    "# !pip install pytictoc --upgrade\n",
    "\n",
    "# from pytictoc import TicToc\n",
    "\n",
    "\n",
    "################################################ paths ################################################\n",
    "\n",
    "# define input paths\n",
    "pfmc_events_input_path = '/opt/ml/processing/input/events'\n",
    "pfmc_inf_input_path = '/opt/ml/processing/input/inf'\n",
    "\n",
    "# define output paths\n",
    "pfmc_output_path = '/opt/ml/processing/output/preprocessed'\n",
    "\n",
    "\n",
    "################################################ functions ################################################\n",
    "\n",
    "def collect_input(path, file_format='csv'):\n",
    "    '''\n",
    "    Collect input files and return as a single DataFrame\n",
    "    \n",
    "    params:\n",
    "        path (str) : path to local directory with CSV files\n",
    "        \n",
    "    returns:\n",
    "        full_frame (DataFrame) : concatenated DataFrame with the input files\n",
    "    '''\n",
    "    \n",
    "    all_files = glob.glob(path + f'/*.{file_format}')\n",
    "\n",
    "    df_list = []\n",
    "\n",
    "    for filename in all_files:\n",
    "        df_part = pd.read_csv(filename, encoding=\"ISO-8859-1\")\n",
    "        df_list.append(df_part)\n",
    "\n",
    "    full_frame = pd.concat(df_list, axis=0, ignore_index=True)\n",
    "    \n",
    "    return full_frame\n",
    "    \n",
    "################################################ main ################################################\n",
    "\n",
    "if __name__ == '__main__':\n",
    "    parser = argparse.ArgumentParser()\n",
    "    parser.add_argument('--my_xid', type=str, default=None)\n",
    "    args, _ = parser.parse_known_args()\n",
    "    \n",
    "    \n",
    "    # collect the input arguments \n",
    "    my_xid = args.my_xid\n",
    "    \n",
    "    \n",
    "################################################ import data from s3 ################################################\n",
    "        \n",
    "#     t = TicToc() #create instance of class\n",
    "#     t.tic()\n",
    "    \n",
    "    # collect input as DataFrame\n",
    "    events = collect_input(pfmc_events_input_path)    \n",
    "    pfmc = collect_input(pfmc_inf_input_path) \n",
    "    \n",
    "#     t.toc('Reading the files took:', restart=True)\n",
    "    \n",
    "################################################ processing ################################################\n",
    "\n",
    "    \n",
    "    ##### pfmc_inf #####\n",
    "    pfmc['val_dt']= pfmc['val_dt'].astype('datetime64[ns]')\n",
    "\n",
    "    # remove NAT time \n",
    "    pfmc = pfmc.dropna(subset=['val_dt'])\n",
    "    pfmc['pfmc_cur_month'] = pfmc['val_dt'].map(lambda x: x.strftime('%Y-%m'))\n",
    "    \n",
    "    \n",
    "    ##### events_monthly #####\n",
    "    events['prcs_dt']= events['prcs_dt'].astype('datetime64[ns]')\n",
    "    events['evnt_cur_month'] = events['prcs_dt'].map(lambda x: x.strftime('%Y-%m'))\n",
    "    events['evnt_3_month_ago'] =  ((events['prcs_dt'] - pd.DateOffset(months=3)).dt.to_period(\"M\")).astype(str)\n",
    "    \n",
    "    # indicator\n",
    "    events['lapse_ind'] = (np.where(events['evnt_desc'].str.contains('Lapse', na=False),1, 0)).astype(int)\n",
    "    events['surrender_ind'] = (np.where(events['evnt_desc'].str.contains('Surrender',na=False),1, 0)).astype(int)\n",
    "    events['reinstate_ind'] = (np.where(events['evnt_desc'].str.contains('True Reinstatement',na=False),1, 0)).astype(int)\n",
    "    \n",
    "#     t.toc('Processing took', restart=True)\n",
    "    \n",
    "    ##### join #####\n",
    "    # Merge pfmc and events\n",
    "    df = pfmc.merge(events[['agmt_pkge_id','evnt_desc','lapse_ind', 'surrender_ind', 'reinstate_ind','evnt_3_month_ago', \n",
    "                            'evnt_cur_month']], \n",
    "                  how='left', \n",
    "                  left_on=['agmt_pkge_id', 'pfmc_cur_month'], \n",
    "                  right_on=['agmt_pkge_id', 'evnt_3_month_ago'], \n",
    "                  suffixes=('', '_remove'))\n",
    "\n",
    "    df.drop([i for i in df.columns if 'remove' in i],axis=1, inplace=True)\n",
    "    \n",
    "#     t.toc('Merging took:', restart=True)\n",
    "    \n",
    "    \n",
    "    # this causes mixed type\n",
    "    del df[\"iss_rmo\"]\n",
    "    del df['limra_lob_desc']\n",
    "        \n",
    "################################################ output data to s3 ################################################\n",
    "\n",
    "    df.to_parquet(f'{pfmc_output_path}/preprocessed_pfmc_inf_events_03.2019-12.2022_whole_dataset.parquet')\n",
    "#     t.toc('Output to parquet took:', restart=True)    "
   ]
  },
  {
   "cell_type": "markdown",
   "metadata": {},
   "source": [
    "## Run Processing Job"
   ]
  },
  {
   "cell_type": "code",
   "execution_count": 13,
   "metadata": {},
   "outputs": [
    {
     "name": "stdout",
     "output_type": "stream",
     "text": [
      "\n",
      "Job Name:  x268052-preprocessing-2023-01-17-19-18-36-685\n",
      "Inputs:  [{'InputName': 'preprocesing_input_pmfc_events', 'AppManaged': False, 'S3Input': {'S3Uri': 's3://cdo-ililapse-364524684987-bucket/x268052/data/pfmc/events', 'LocalPath': '/opt/ml/processing/input/events', 'S3DataType': 'S3Prefix', 'S3InputMode': 'File', 'S3DataDistributionType': 'FullyReplicated', 'S3CompressionType': 'None'}}, {'InputName': 'preprocesing_input_pfmc_inf', 'AppManaged': False, 'S3Input': {'S3Uri': 's3://cdo-ililapse-364524684987-bucket/x268052/data/pfmc/inf', 'LocalPath': '/opt/ml/processing/input/inf', 'S3DataType': 'S3Prefix', 'S3InputMode': 'File', 'S3DataDistributionType': 'FullyReplicated', 'S3CompressionType': 'None'}}, {'InputName': 'code', 'AppManaged': False, 'S3Input': {'S3Uri': 's3://cdo-ililapse-364524684987-bucket/x268052-preprocessing-2023-01-17-19-18-36-685/input/code/pfmc_preprocess_script_whole_dataset.py', 'LocalPath': '/opt/ml/processing/input/code', 'S3DataType': 'S3Prefix', 'S3InputMode': 'File', 'S3DataDistributionType': 'FullyReplicated', 'S3CompressionType': 'None'}}]\n",
      "Outputs:  [{'OutputName': 'preprocessing_output', 'AppManaged': False, 'S3Output': {'S3Uri': 's3://cdo-ililapse-364524684987-bucket/x268052/data/pfmc/preprocessed', 'LocalPath': '/opt/ml/processing/output/preprocessed', 'S3UploadMode': 'EndOfJob'}}]\n",
      "......................................................\u001b[34msys:1: DtypeWarning: Columns (63) have mixed types.Specify dtype option on import or set low_memory=False.\u001b[0m\n",
      "\u001b[34msys:1: DtypeWarning: Columns (63,64) have mixed types.Specify dtype option on import or set low_memory=False.\u001b[0m\n",
      "\u001b[34msys:1: DtypeWarning: Columns (63,64,66) have mixed types.Specify dtype option on import or set low_memory=False.\u001b[0m\n",
      "\u001b[34msys:1: DtypeWarning: Columns (62,63,64,65,66) have mixed types.Specify dtype option on import or set low_memory=False.\u001b[0m\n",
      "\u001b[34msys:1: DtypeWarning: Columns (62,63,64,65,66,116) have mixed types.Specify dtype option on import or set low_memory=False.\u001b[0m\n",
      "\u001b[34msys:1: DtypeWarning: Columns (64,66) have mixed types.Specify dtype option on import or set low_memory=False.\u001b[0m\n",
      "\u001b[34msys:1: DtypeWarning: Columns (71,72,78,211) have mixed types.Specify dtype option on import or set low_memory=False.\u001b[0m\n",
      "\u001b[34msys:1: DtypeWarning: Columns (71,72,78,211,215) have mixed types.Specify dtype option on import or set low_memory=False.\u001b[0m\n",
      "\u001b[34msys:1: DtypeWarning: Columns (41,71,72,78,211) have mixed types.Specify dtype option on import or set low_memory=False.\u001b[0m\n",
      "\u001b[34msys:1: DtypeWarning: Columns (72,78,211,215) have mixed types.Specify dtype option on import or set low_memory=False.\u001b[0m\n",
      "\u001b[34msys:1: DtypeWarning: Columns (41,71,72,78,211,215) have mixed types.Specify dtype option on import or set low_memory=False.\u001b[0m\n",
      "\u001b[34msys:1: DtypeWarning: Columns (78,211) have mixed types.Specify dtype option on import or set low_memory=False.\u001b[0m\n",
      "\u001b[34msys:1: DtypeWarning: Columns (72,78,211) have mixed types.Specify dtype option on import or set low_memory=False.\u001b[0m\n",
      "\u001b[34msys:1: DtypeWarning: Columns (41,72,78,211) have mixed types.Specify dtype option on import or set low_memory=False.\u001b[0m\n",
      "\n",
      "CPU times: user 6.28 s, sys: 315 ms, total: 6.59 s\n",
      "Wall time: 1h 12min\n"
     ]
    }
   ],
   "source": [
    "%%time\n",
    "# script that does the pre-processing for 2019-2022 data: 1 hour and 12 mins wall time\n",
    "\n",
    "sklearn_processor.run(\n",
    "    code='/root/scripts/pfmc_preprocess_script_whole_dataset.py',\n",
    "    inputs=[\n",
    "        ProcessingInput(input_name= 'preprocesing_input_pmfc_events', source= pfmc_events_input_path_s3, destination= '/opt/ml/processing/input/events'),\n",
    "        ProcessingInput(input_name= 'preprocesing_input_pfmc_inf', source= pfmc_inf_input_path_s3, destination= '/opt/ml/processing/input/inf')\n",
    "    ],\n",
    "    outputs=[\n",
    "        ProcessingOutput(output_name= 'preprocessing_output', source= '/opt/ml/processing/output/preprocessed', destination= pfmc_ouput_path_s3)\n",
    "    ],\n",
    "    arguments=['--my_xid', my_xid]\n",
    ")"
   ]
  },
  {
   "cell_type": "markdown",
   "metadata": {},
   "source": [
    "## Check out output"
   ]
  },
  {
   "cell_type": "code",
   "execution_count": null,
   "metadata": {},
   "outputs": [],
   "source": [
    "pfmc = pd.read_parquet('s3://cdo-ililapse-364524684987-bucket/x268052/data/pfmc/preprocessed/\\\n",
    "preprocessed_pfmc_inf_events_03.2019-12.2022_whole_dataset.parquet')"
   ]
  },
  {
   "cell_type": "code",
   "execution_count": 5,
   "metadata": {},
   "outputs": [],
   "source": [
    "# print(pfmc.shape)\n",
    "# pfmc.head()"
   ]
  },
  {
   "cell_type": "code",
   "execution_count": null,
   "metadata": {},
   "outputs": [],
   "source": []
  }
 ],
 "metadata": {
  "instance_type": "ml.m5.2xlarge",
  "kernelspec": {
   "display_name": "Python 3 (Data Science)",
   "language": "python",
   "name": "python3__SAGEMAKER_INTERNAL__arn:aws:sagemaker:us-east-1:081325390199:image/datascience-1.0"
  },
  "language_info": {
   "codemirror_mode": {
    "name": "ipython",
    "version": 3
   },
   "file_extension": ".py",
   "mimetype": "text/x-python",
   "name": "python",
   "nbconvert_exporter": "python",
   "pygments_lexer": "ipython3",
   "version": "3.7.10"
  },
  "lcc_arn": "arn:aws:sagemaker:us-east-1:364524684987:studio-lifecycle-config/kernel-start-43"
 },
 "nbformat": 4,
 "nbformat_minor": 5
}
