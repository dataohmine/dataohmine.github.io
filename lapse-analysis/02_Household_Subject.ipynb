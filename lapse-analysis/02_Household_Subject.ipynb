{
 "cells": [
  {
   "cell_type": "code",
   "execution_count": 1,
   "id": "d956fd00",
   "metadata": {},
   "outputs": [],
   "source": [
    "import os\n",
    "import io\n",
    "import pandas as pd\n",
    "import numpy as np\n",
    "import glob\n",
    "import matplotlib.pyplot as plt\n",
    "import seaborn as sns; sns.set()\n",
    "\n",
    "import datetime\n",
    "from pandas.tseries.offsets import BMonthEnd\n",
    "\n",
    "#dask\n",
    "import dask.dataframe as dd\n",
    "\n",
    "import warnings\n",
    "warnings.filterwarnings(\"ignore\")"
   ]
  },
  {
   "cell_type": "markdown",
   "id": "693544e2",
   "metadata": {},
   "source": [
    "### Household"
   ]
  },
  {
   "cell_type": "code",
   "execution_count": 2,
   "id": "0d8d209d",
   "metadata": {},
   "outputs": [
    {
     "name": "stdout",
     "output_type": "stream",
     "text": [
      "['\\\\\\\\VNCRP1002\\\\ud03$\\\\X266754\\\\My Documents\\\\Lapse\\\\Data\\\\vul_eciw_household_monthly_2022_1.csv', '\\\\\\\\VNCRP1002\\\\ud03$\\\\X266754\\\\My Documents\\\\Lapse\\\\Data\\\\vul_eciw_household_monthly_2022_2.csv', '\\\\\\\\VNCRP1002\\\\ud03$\\\\X266754\\\\My Documents\\\\Lapse\\\\Data\\\\vul_eciw_household_monthly_2022_3.csv', '\\\\\\\\VNCRP1002\\\\ud03$\\\\X266754\\\\My Documents\\\\Lapse\\\\Data\\\\vul_eciw_household_monthly_2022_4.csv', '\\\\\\\\VNCRP1002\\\\ud03$\\\\X266754\\\\My Documents\\\\Lapse\\\\Data\\\\vul_eciw_household_monthly_2022_5.csv', '\\\\\\\\VNCRP1002\\\\ud03$\\\\X266754\\\\My Documents\\\\Lapse\\\\Data\\\\vul_eciw_household_monthly_2022_6.csv']\n"
     ]
    }
   ],
   "source": [
    "# eciw semi info \n",
    "path = r\"\\\\VNCRP1002\\ud03$\\X266754\\My Documents\\Lapse\\Data\"\n",
    "# read all the files with extension .csv\n",
    "filenames = glob.glob(path + \"\\*household*.csv\")\n",
    "print(filenames)"
   ]
  },
  {
   "cell_type": "code",
   "execution_count": 3,
   "id": "a661999a",
   "metadata": {},
   "outputs": [
    {
     "name": "stdout",
     "output_type": "stream",
     "text": [
      "\\\\VNCRP1002\\ud03$\\X266754\\My Documents\\Lapse\\Data\\vul_eciw_household_monthly_2022_1.csv\n",
      "\\\\VNCRP1002\\ud03$\\X266754\\My Documents\\Lapse\\Data\\vul_eciw_household_monthly_2022_2.csv\n",
      "\\\\VNCRP1002\\ud03$\\X266754\\My Documents\\Lapse\\Data\\vul_eciw_household_monthly_2022_3.csv\n",
      "\\\\VNCRP1002\\ud03$\\X266754\\My Documents\\Lapse\\Data\\vul_eciw_household_monthly_2022_4.csv\n",
      "\\\\VNCRP1002\\ud03$\\X266754\\My Documents\\Lapse\\Data\\vul_eciw_household_monthly_2022_5.csv\n",
      "\\\\VNCRP1002\\ud03$\\X266754\\My Documents\\Lapse\\Data\\vul_eciw_household_monthly_2022_6.csv\n"
     ]
    }
   ],
   "source": [
    "#list of all df\n",
    "dfs = []\n",
    "for f in filenames: \n",
    "    print(f)\n",
    "    #d = pd.read_csv(f, encoding=\"ISO-8859-1\", header=None, skiprows=1, na_values=\" \") \n",
    "    d = pd.read_csv(f, encoding=\"ISO-8859-1\", na_values=\" \")\n",
    "    dfs.append(d) \n",
    "df_hh = pd.concat(dfs, ignore_index=True)\n",
    "del dfs"
   ]
  },
  {
   "cell_type": "code",
   "execution_count": 4,
   "id": "dd58b2d0",
   "metadata": {},
   "outputs": [],
   "source": [
    "# df_hh = df_hh.drop_duplicates()"
   ]
  },
  {
   "cell_type": "code",
   "execution_count": 4,
   "id": "6fc9390c",
   "metadata": {},
   "outputs": [],
   "source": [
    "df_hh['as_of_hist_dt']=df_hh['as_of_hist_dt'].astype('datetime64[ns]')\n",
    "df_hh['hhld_acq_dt']=df_hh['hhld_acq_dt'].astype('datetime64[ns]')\n",
    "df_hh['most_rcnt_pur_dt']=df_hh['most_rcnt_pur_dt'].astype('datetime64[ns]')"
   ]
  },
  {
   "cell_type": "code",
   "execution_count": 5,
   "id": "7e2ef35d",
   "metadata": {},
   "outputs": [],
   "source": [
    "df_hh = df_hh[['household_id', \n",
    "               #dates\n",
    "               'as_of_hist_dt', 'hhld_acq_dt', 'most_rcnt_pur_dt',\n",
    "               # codes\n",
    "               'incm_rng_cd', 'prim_occup_cd','prmr_prsnc_chld_ind', 'net_wrth_gold_cd','hhld_qdrnt_cd',\n",
    "               #asset mix\n",
    "              'wc_tot_asset_amt','wc_asset_mix_anty_amt','wc_asset_mix_bond_amt',\n",
    "               'wc_asset_mix_dep_amt','wc_asset_mix_mf_amt','wc_asset_mix_oth_asset_amt',\n",
    "               'wc_asset_mix_stk_amt']]"
   ]
  },
  {
   "cell_type": "code",
   "execution_count": 6,
   "id": "09356ae5",
   "metadata": {},
   "outputs": [],
   "source": [
    "# min_half_date= df_hh['as_of_hist_dt'].min()\n",
    "# max_half_date= df_hh['as_of_hist_dt'].max()"
   ]
  },
  {
   "cell_type": "markdown",
   "id": "1b35d4eb",
   "metadata": {},
   "source": [
    "### Subject"
   ]
  },
  {
   "cell_type": "code",
   "execution_count": 6,
   "id": "b4bd9b21",
   "metadata": {},
   "outputs": [],
   "source": [
    "# eciw monthly info \n",
    "path = r\"\\\\VNCRP1002\\ud03$\\X266754\\My Documents\\Lapse\\Data\"\n",
    "# read all the files with extension .csv\n",
    "filenames = glob.glob(path + \"\\*subject*.csv\")"
   ]
  },
  {
   "cell_type": "code",
   "execution_count": 7,
   "id": "cdc50540",
   "metadata": {},
   "outputs": [
    {
     "name": "stdout",
     "output_type": "stream",
     "text": [
      "\\\\VNCRP1002\\ud03$\\X266754\\My Documents\\Lapse\\Data\\vul_eciw_subject_monthly_2022_1.csv\n",
      "\\\\VNCRP1002\\ud03$\\X266754\\My Documents\\Lapse\\Data\\vul_eciw_subject_monthly_2022_2.csv\n",
      "\\\\VNCRP1002\\ud03$\\X266754\\My Documents\\Lapse\\Data\\vul_eciw_subject_monthly_2022_3.csv\n",
      "\\\\VNCRP1002\\ud03$\\X266754\\My Documents\\Lapse\\Data\\vul_eciw_subject_monthly_2022_4.csv\n",
      "\\\\VNCRP1002\\ud03$\\X266754\\My Documents\\Lapse\\Data\\vul_eciw_subject_monthly_2022_5.csv\n",
      "\\\\VNCRP1002\\ud03$\\X266754\\My Documents\\Lapse\\Data\\vul_eciw_subject_monthly_2022_6.csv\n"
     ]
    }
   ],
   "source": [
    "# drop product id\n",
    "dfs = []\n",
    "for f in filenames: \n",
    "    print(f)\n",
    "    #d = pd.read_csv(f, encoding=\"ISO-8859-1\", header=None, skiprows=1, na_values=\" \") \n",
    "    d= pd.read_csv(f, encoding=\"ISO-8859-1\", na_values=\" \")\n",
    "    dfs.append(d) \n",
    "df_sb = pd.concat(dfs, ignore_index=True)\n",
    "del dfs"
   ]
  },
  {
   "cell_type": "code",
   "execution_count": 8,
   "id": "afa70ea5",
   "metadata": {},
   "outputs": [],
   "source": [
    "# pd.set_option('display.max_rows', None)\n",
    "# df_sb.dtypes"
   ]
  },
  {
   "cell_type": "code",
   "execution_count": 9,
   "id": "8a109219",
   "metadata": {},
   "outputs": [],
   "source": [
    "df_sb = df_sb.sort_values(['subject_id', 'as_of_hist_dt'])\n",
    "df_sb = df_sb.drop_duplicates()"
   ]
  },
  {
   "cell_type": "code",
   "execution_count": 10,
   "id": "7f7c9961",
   "metadata": {},
   "outputs": [],
   "source": [
    "df_sb['as_of_hist_dt']=df_sb['as_of_hist_dt'].astype('datetime64[ns]')\n",
    "df_sb['subj_acq_dt']=df_sb['subj_acq_dt'].astype('datetime64[ns]')"
   ]
  },
  {
   "cell_type": "code",
   "execution_count": 12,
   "id": "973696b9",
   "metadata": {},
   "outputs": [],
   "source": [
    "df_sb = df_sb[['household_id', 'subject_id', 'agmt_pkge_id','policy_id',\n",
    "               'as_of_hist_dt', 'subj_acq_dt',\n",
    "               'mrtl_stat_cd', 'gndr_cd', 'subj_state_cd', 'subj_act_ind',\n",
    "               'pref_lang_cd','deceased_ind', 'rtl_dstrb_orphn_cd',\n",
    "               'ixi_buoyancy', 'ixi_fin_cohort_cd',\n",
    "               'subj_aum_amt' ]]"
   ]
  },
  {
   "cell_type": "markdown",
   "id": "ac1f516a",
   "metadata": {},
   "source": [
    "### Merge"
   ]
  },
  {
   "cell_type": "code",
   "execution_count": 13,
   "id": "21cb68da",
   "metadata": {},
   "outputs": [],
   "source": [
    "df =df_sb.merge(df_hh, how='left', \n",
    "                left_on=['household_id', 'as_of_hist_dt'], \n",
    "                right_on = ['household_id', 'as_of_hist_dt'],\n",
    "                suffixes=('', '_remove'))\n",
    "df.drop([i for i in df.columns if 'remove' in i],axis=1, inplace=True)"
   ]
  },
  {
   "cell_type": "code",
   "execution_count": 14,
   "id": "20c01e2c",
   "metadata": {},
   "outputs": [],
   "source": [
    "# df =df.drop(['half_date', 'as_of_hist_dt_y'], axis=1)\n",
    "# df.columns = df.columns.str.replace('as_of_hist_dt_x', 'as_of_hist_dt')"
   ]
  },
  {
   "cell_type": "code",
   "execution_count": 14,
   "id": "14913d18",
   "metadata": {},
   "outputs": [],
   "source": [
    "# remove dups\n",
    "#del df['prod_type_cd']\n",
    "\n",
    "df = df.drop_duplicates()"
   ]
  },
  {
   "cell_type": "code",
   "execution_count": 15,
   "id": "dec5a252",
   "metadata": {},
   "outputs": [
    {
     "data": {
      "text/html": [
       "<div>\n",
       "<style scoped>\n",
       "    .dataframe tbody tr th:only-of-type {\n",
       "        vertical-align: middle;\n",
       "    }\n",
       "\n",
       "    .dataframe tbody tr th {\n",
       "        vertical-align: top;\n",
       "    }\n",
       "\n",
       "    .dataframe thead th {\n",
       "        text-align: right;\n",
       "    }\n",
       "</style>\n",
       "<table border=\"1\" class=\"dataframe\">\n",
       "  <thead>\n",
       "    <tr style=\"text-align: right;\">\n",
       "      <th></th>\n",
       "      <th>household_id</th>\n",
       "      <th>subject_id</th>\n",
       "      <th>agmt_pkge_id</th>\n",
       "      <th>policy_id</th>\n",
       "      <th>as_of_hist_dt</th>\n",
       "      <th>subj_acq_dt</th>\n",
       "      <th>mrtl_stat_cd</th>\n",
       "      <th>gndr_cd</th>\n",
       "      <th>subj_state_cd</th>\n",
       "      <th>subj_act_ind</th>\n",
       "      <th>pref_lang_cd</th>\n",
       "      <th>deceased_ind</th>\n",
       "      <th>rtl_dstrb_orphn_cd</th>\n",
       "      <th>ixi_buoyancy</th>\n",
       "      <th>ixi_fin_cohort_cd</th>\n",
       "      <th>subj_aum_amt</th>\n",
       "      <th>hhld_acq_dt</th>\n",
       "      <th>most_rcnt_pur_dt</th>\n",
       "      <th>incm_rng_cd</th>\n",
       "      <th>prim_occup_cd</th>\n",
       "      <th>prmr_prsnc_chld_ind</th>\n",
       "      <th>net_wrth_gold_cd</th>\n",
       "      <th>hhld_qdrnt_cd</th>\n",
       "      <th>wc_tot_asset_amt</th>\n",
       "      <th>wc_asset_mix_anty_amt</th>\n",
       "      <th>wc_asset_mix_bond_amt</th>\n",
       "      <th>wc_asset_mix_dep_amt</th>\n",
       "      <th>wc_asset_mix_mf_amt</th>\n",
       "      <th>wc_asset_mix_oth_asset_amt</th>\n",
       "      <th>wc_asset_mix_stk_amt</th>\n",
       "    </tr>\n",
       "  </thead>\n",
       "  <tbody>\n",
       "    <tr>\n",
       "      <th>0</th>\n",
       "      <td>23.0</td>\n",
       "      <td>1147.0</td>\n",
       "      <td>960527100000</td>\n",
       "      <td>96052710</td>\n",
       "      <td>2022-01-28</td>\n",
       "      <td>1994-12-22</td>\n",
       "      <td>1.0</td>\n",
       "      <td>F</td>\n",
       "      <td>DE</td>\n",
       "      <td>1</td>\n",
       "      <td>1</td>\n",
       "      <td>1.0</td>\n",
       "      <td>1</td>\n",
       "      <td>1.0</td>\n",
       "      <td>M46</td>\n",
       "      <td>13258.07</td>\n",
       "      <td>1969-06-19</td>\n",
       "      <td>1995-01-03</td>\n",
       "      <td>0.0</td>\n",
       "      <td>NaN</td>\n",
       "      <td>NaN</td>\n",
       "      <td>NaN</td>\n",
       "      <td>10.0</td>\n",
       "      <td>30440.0</td>\n",
       "      <td>61.0</td>\n",
       "      <td>0.0</td>\n",
       "      <td>29163.0</td>\n",
       "      <td>751.0</td>\n",
       "      <td>16.0</td>\n",
       "      <td>449.0</td>\n",
       "    </tr>\n",
       "    <tr>\n",
       "      <th>2</th>\n",
       "      <td>23.0</td>\n",
       "      <td>1147.0</td>\n",
       "      <td>960527100000</td>\n",
       "      <td>96052710</td>\n",
       "      <td>2022-02-25</td>\n",
       "      <td>1994-12-22</td>\n",
       "      <td>1.0</td>\n",
       "      <td>F</td>\n",
       "      <td>DE</td>\n",
       "      <td>1</td>\n",
       "      <td>1</td>\n",
       "      <td>1.0</td>\n",
       "      <td>1</td>\n",
       "      <td>1.0</td>\n",
       "      <td>M46</td>\n",
       "      <td>12875.85</td>\n",
       "      <td>1969-06-19</td>\n",
       "      <td>1995-01-03</td>\n",
       "      <td>0.0</td>\n",
       "      <td>NaN</td>\n",
       "      <td>NaN</td>\n",
       "      <td>NaN</td>\n",
       "      <td>10.0</td>\n",
       "      <td>30440.0</td>\n",
       "      <td>61.0</td>\n",
       "      <td>0.0</td>\n",
       "      <td>29163.0</td>\n",
       "      <td>751.0</td>\n",
       "      <td>16.0</td>\n",
       "      <td>449.0</td>\n",
       "    </tr>\n",
       "    <tr>\n",
       "      <th>4</th>\n",
       "      <td>23.0</td>\n",
       "      <td>1147.0</td>\n",
       "      <td>960527100000</td>\n",
       "      <td>96052710</td>\n",
       "      <td>2022-03-25</td>\n",
       "      <td>1994-12-22</td>\n",
       "      <td>1.0</td>\n",
       "      <td>F</td>\n",
       "      <td>DE</td>\n",
       "      <td>1</td>\n",
       "      <td>1</td>\n",
       "      <td>1.0</td>\n",
       "      <td>1</td>\n",
       "      <td>1.0</td>\n",
       "      <td>M46</td>\n",
       "      <td>13523.57</td>\n",
       "      <td>1969-06-19</td>\n",
       "      <td>1995-01-03</td>\n",
       "      <td>0.0</td>\n",
       "      <td>NaN</td>\n",
       "      <td>NaN</td>\n",
       "      <td>NaN</td>\n",
       "      <td>10.0</td>\n",
       "      <td>30440.0</td>\n",
       "      <td>61.0</td>\n",
       "      <td>0.0</td>\n",
       "      <td>29163.0</td>\n",
       "      <td>751.0</td>\n",
       "      <td>16.0</td>\n",
       "      <td>449.0</td>\n",
       "    </tr>\n",
       "    <tr>\n",
       "      <th>6</th>\n",
       "      <td>23.0</td>\n",
       "      <td>1147.0</td>\n",
       "      <td>960527100000</td>\n",
       "      <td>96052710</td>\n",
       "      <td>2022-04-29</td>\n",
       "      <td>1994-12-22</td>\n",
       "      <td>1.0</td>\n",
       "      <td>F</td>\n",
       "      <td>DE</td>\n",
       "      <td>1</td>\n",
       "      <td>1</td>\n",
       "      <td>1.0</td>\n",
       "      <td>1</td>\n",
       "      <td>1.0</td>\n",
       "      <td>M46</td>\n",
       "      <td>12445.60</td>\n",
       "      <td>1969-06-19</td>\n",
       "      <td>1995-01-03</td>\n",
       "      <td>0.0</td>\n",
       "      <td>NaN</td>\n",
       "      <td>NaN</td>\n",
       "      <td>NaN</td>\n",
       "      <td>10.0</td>\n",
       "      <td>30440.0</td>\n",
       "      <td>61.0</td>\n",
       "      <td>0.0</td>\n",
       "      <td>29163.0</td>\n",
       "      <td>751.0</td>\n",
       "      <td>16.0</td>\n",
       "      <td>449.0</td>\n",
       "    </tr>\n",
       "    <tr>\n",
       "      <th>8</th>\n",
       "      <td>23.0</td>\n",
       "      <td>1147.0</td>\n",
       "      <td>960527100000</td>\n",
       "      <td>96052710</td>\n",
       "      <td>2022-05-27</td>\n",
       "      <td>1994-12-22</td>\n",
       "      <td>1.0</td>\n",
       "      <td>F</td>\n",
       "      <td>DE</td>\n",
       "      <td>1</td>\n",
       "      <td>1</td>\n",
       "      <td>1.0</td>\n",
       "      <td>1</td>\n",
       "      <td>1.0</td>\n",
       "      <td>M46</td>\n",
       "      <td>11401.31</td>\n",
       "      <td>1969-06-19</td>\n",
       "      <td>1995-01-03</td>\n",
       "      <td>0.0</td>\n",
       "      <td>NaN</td>\n",
       "      <td>NaN</td>\n",
       "      <td>NaN</td>\n",
       "      <td>10.0</td>\n",
       "      <td>30440.0</td>\n",
       "      <td>61.0</td>\n",
       "      <td>0.0</td>\n",
       "      <td>29163.0</td>\n",
       "      <td>751.0</td>\n",
       "      <td>16.0</td>\n",
       "      <td>449.0</td>\n",
       "    </tr>\n",
       "  </tbody>\n",
       "</table>\n",
       "</div>"
      ],
      "text/plain": [
       "   household_id  subject_id  agmt_pkge_id policy_id as_of_hist_dt subj_acq_dt  \\\n",
       "0          23.0      1147.0  960527100000  96052710    2022-01-28  1994-12-22   \n",
       "2          23.0      1147.0  960527100000  96052710    2022-02-25  1994-12-22   \n",
       "4          23.0      1147.0  960527100000  96052710    2022-03-25  1994-12-22   \n",
       "6          23.0      1147.0  960527100000  96052710    2022-04-29  1994-12-22   \n",
       "8          23.0      1147.0  960527100000  96052710    2022-05-27  1994-12-22   \n",
       "\n",
       "   mrtl_stat_cd gndr_cd subj_state_cd  subj_act_ind  pref_lang_cd  \\\n",
       "0           1.0       F            DE             1             1   \n",
       "2           1.0       F            DE             1             1   \n",
       "4           1.0       F            DE             1             1   \n",
       "6           1.0       F            DE             1             1   \n",
       "8           1.0       F            DE             1             1   \n",
       "\n",
       "   deceased_ind  rtl_dstrb_orphn_cd  ixi_buoyancy ixi_fin_cohort_cd  \\\n",
       "0           1.0                   1           1.0               M46   \n",
       "2           1.0                   1           1.0               M46   \n",
       "4           1.0                   1           1.0               M46   \n",
       "6           1.0                   1           1.0               M46   \n",
       "8           1.0                   1           1.0               M46   \n",
       "\n",
       "   subj_aum_amt hhld_acq_dt most_rcnt_pur_dt  incm_rng_cd prim_occup_cd  \\\n",
       "0      13258.07  1969-06-19       1995-01-03          0.0           NaN   \n",
       "2      12875.85  1969-06-19       1995-01-03          0.0           NaN   \n",
       "4      13523.57  1969-06-19       1995-01-03          0.0           NaN   \n",
       "6      12445.60  1969-06-19       1995-01-03          0.0           NaN   \n",
       "8      11401.31  1969-06-19       1995-01-03          0.0           NaN   \n",
       "\n",
       "  prmr_prsnc_chld_ind net_wrth_gold_cd  hhld_qdrnt_cd  wc_tot_asset_amt  \\\n",
       "0                 NaN              NaN           10.0           30440.0   \n",
       "2                 NaN              NaN           10.0           30440.0   \n",
       "4                 NaN              NaN           10.0           30440.0   \n",
       "6                 NaN              NaN           10.0           30440.0   \n",
       "8                 NaN              NaN           10.0           30440.0   \n",
       "\n",
       "   wc_asset_mix_anty_amt  wc_asset_mix_bond_amt  wc_asset_mix_dep_amt  \\\n",
       "0                   61.0                    0.0               29163.0   \n",
       "2                   61.0                    0.0               29163.0   \n",
       "4                   61.0                    0.0               29163.0   \n",
       "6                   61.0                    0.0               29163.0   \n",
       "8                   61.0                    0.0               29163.0   \n",
       "\n",
       "   wc_asset_mix_mf_amt  wc_asset_mix_oth_asset_amt  wc_asset_mix_stk_amt  \n",
       "0                751.0                        16.0                 449.0  \n",
       "2                751.0                        16.0                 449.0  \n",
       "4                751.0                        16.0                 449.0  \n",
       "6                751.0                        16.0                 449.0  \n",
       "8                751.0                        16.0                 449.0  "
      ]
     },
     "execution_count": 15,
     "metadata": {},
     "output_type": "execute_result"
    }
   ],
   "source": [
    "pd.set_option('display.max_columns', None)\n",
    "df.head()"
   ]
  },
  {
   "cell_type": "code",
   "execution_count": 16,
   "id": "f67e9c49",
   "metadata": {},
   "outputs": [
    {
     "name": "stdout",
     "output_type": "stream",
     "text": [
      "(4753268, 30)\n"
     ]
    }
   ],
   "source": [
    "print(df.shape)"
   ]
  },
  {
   "cell_type": "code",
   "execution_count": 26,
   "id": "fcfa7e03",
   "metadata": {},
   "outputs": [],
   "source": [
    "# # missing %\n",
    "# df_missing = pd.DataFrame(df.isnull().sum()/len(df)).reset_index().rename(columns = {\"index\":\"Columns\", 0:\"Missing%\"})\n",
    "# df_missing.out = df_missing.to_csv(\"eciw_missing_percent.csv\",  header=True)"
   ]
  },
  {
   "cell_type": "markdown",
   "id": "c28f4097",
   "metadata": {},
   "source": [
    "#### export to parquet"
   ]
  },
  {
   "cell_type": "code",
   "execution_count": 17,
   "id": "c7e45b6f",
   "metadata": {},
   "outputs": [],
   "source": [
    "del df_hh,  df_sb"
   ]
  },
  {
   "cell_type": "code",
   "execution_count": 18,
   "id": "37c8b73f",
   "metadata": {},
   "outputs": [],
   "source": [
    "df.to_parquet('eciw_jan_june.parquet')"
   ]
  }
 ],
 "metadata": {
  "kernelspec": {
   "display_name": "Python 3 (ipykernel)",
   "language": "python",
   "name": "python3"
  },
  "language_info": {
   "codemirror_mode": {
    "name": "ipython",
    "version": 3
   },
   "file_extension": ".py",
   "mimetype": "text/x-python",
   "name": "python",
   "nbconvert_exporter": "python",
   "pygments_lexer": "ipython3",
   "version": "3.9.12"
  }
 },
 "nbformat": 4,
 "nbformat_minor": 5
}
