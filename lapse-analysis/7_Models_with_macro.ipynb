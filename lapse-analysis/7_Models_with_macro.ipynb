{
 "cells": [
  {
   "cell_type": "code",
   "execution_count": 2,
   "metadata": {},
   "outputs": [],
   "source": [
    "import boto3\n",
    "import io\n",
    "import pandas as pd\n",
    "import numpy as np\n",
    "\n",
    "import matplotlib.pyplot as plt\n",
    "import seaborn as sns; sns.set()\n",
    "\n",
    "#import awswrangler as wr\n",
    "#import s3fs\n",
    "#from fastparquet import write\n",
    "\n",
    "import joblib\n",
    "\n",
    "#modeling\n",
    "import statsmodels.api as sm\n",
    "from statsmodels.api import add_constant\n",
    "from sklearn import preprocessing\n",
    "from sklearn.model_selection import train_test_split,ShuffleSplit, RandomizedSearchCV, StratifiedKFold\n",
    "from sklearn.metrics import roc_curve, auc, precision_score, recall_score, confusion_matrix, ConfusionMatrixDisplay,\\\n",
    "classification_report, accuracy_score, f1_score, precision_recall_curve\n",
    "from scipy.stats import uniform as sp_randFloat\n",
    "from scipy.stats import randint as sp_randInt\n",
    "import sklearn.metrics as metrics\n",
    "from sklearn.metrics import make_scorer, roc_auc_score, log_loss, brier_score_loss\n",
    "from sklearn.utils import resample\n",
    "\n",
    "\n",
    "#import lightgbm as lgbm\n",
    "\n",
    "plt.style.use('fivethirtyeight')\n",
    "\n",
    "import warnings\n",
    "warnings.filterwarnings(\"ignore\")"
   ]
  },
  {
   "cell_type": "code",
   "execution_count": 3,
   "metadata": {},
   "outputs": [
    {
     "name": "stdout",
     "output_type": "stream",
     "text": [
      "Keyring is skipped due to an exception: 'keyring.backends'\n",
      "\u001b[33mWARNING: Running pip as the 'root' user can result in broken permissions and conflicting behaviour with the system package manager. It is recommended to use a virtual environment instead: https://pip.pypa.io/warnings/venv\u001b[0m\u001b[33m\n",
      "\u001b[0mKeyring is skipped due to an exception: 'keyring.backends'\n",
      "\u001b[31mERROR: pip's dependency resolver does not currently take into account all the packages that are installed. This behaviour is the source of the following dependency conflicts.\n",
      "pytest-astropy 0.8.0 requires pytest-cov>=2.0, which is not installed.\n",
      "pytest-astropy 0.8.0 requires pytest-filter-subpackage>=0.1, which is not installed.\n",
      "docker-compose 1.29.2 requires PyYAML<6,>=3.10, but you have pyyaml 6.0 which is incompatible.\u001b[0m\u001b[31m\n",
      "\u001b[0m\u001b[33mWARNING: Running pip as the 'root' user can result in broken permissions and conflicting behaviour with the system package manager. It is recommended to use a virtual environment instead: https://pip.pypa.io/warnings/venv\u001b[0m\u001b[33m\n",
      "\u001b[0m"
     ]
    }
   ],
   "source": [
    "!pip install lightgbm --q\n",
    "!pip install optuna --q"
   ]
  },
  {
   "cell_type": "markdown",
   "metadata": {},
   "source": [
    "### set-up"
   ]
  },
  {
   "cell_type": "code",
   "execution_count": 4,
   "metadata": {},
   "outputs": [],
   "source": [
    "session = boto3.Session()\n",
    "s3 = session.client('s3')"
   ]
  },
  {
   "cell_type": "code",
   "execution_count": 5,
   "metadata": {},
   "outputs": [],
   "source": [
    "bucket_name = \"cdo-ililapse-364524684987-bucket\"\n",
    "file_path = \"x266754/lapse/\""
   ]
  },
  {
   "cell_type": "markdown",
   "metadata": {},
   "source": [
    "### data intake"
   ]
  },
  {
   "cell_type": "code",
   "execution_count": 6,
   "metadata": {},
   "outputs": [],
   "source": [
    "file_name = \"x266754/lapse/curated_features.parquet\""
   ]
  },
  {
   "cell_type": "code",
   "execution_count": 7,
   "metadata": {},
   "outputs": [
    {
     "name": "stdout",
     "output_type": "stream",
     "text": [
      "CPU times: user 36.7 s, sys: 15.2 s, total: 51.9 s\n",
      "Wall time: 42.2 s\n"
     ]
    }
   ],
   "source": [
    "%%time\n",
    "obj = s3.get_object(Bucket = bucket_name, Key = file_name)\n",
    "df = pd.read_parquet(io.BytesIO(obj['Body'].read())) "
   ]
  },
  {
   "cell_type": "code",
   "execution_count": 8,
   "metadata": {},
   "outputs": [],
   "source": [
    "macro = pd.read_csv(\"macro_fred.csv\")"
   ]
  },
  {
   "cell_type": "code",
   "execution_count": 9,
   "metadata": {},
   "outputs": [],
   "source": [
    "macro['macro_cur_month'] = macro['macro_date'].astype('datetime64[ns]').map(lambda x: x.strftime('%Y-%m'))"
   ]
  },
  {
   "cell_type": "code",
   "execution_count": 10,
   "metadata": {},
   "outputs": [
    {
     "name": "stdout",
     "output_type": "stream",
     "text": [
      "CPU times: user 3min 31s, sys: 2min 13s, total: 5min 44s\n",
      "Wall time: 5min 46s\n"
     ]
    }
   ],
   "source": [
    "%%time\n",
    "df=df.merge(macro, how='left', \n",
    "              left_on=['pfmc_cur_month'], \n",
    "              right_on = ['macro_cur_month'],\n",
    "              suffixes=('', '_remove'))"
   ]
  },
  {
   "cell_type": "markdown",
   "metadata": {},
   "source": [
    "### Metrics"
   ]
  },
  {
   "cell_type": "code",
   "execution_count": 11,
   "metadata": {},
   "outputs": [],
   "source": [
    "#roc curve\n",
    "def plot_roc_curve(fpr, tpr):\n",
    "    plt.plot(fpr, tpr, color='orange', label='ROC')\n",
    "    plt.plot([0, 1], [0, 1], color='darkblue', linestyle='--')\n",
    "    plt.xlabel('False Positive Rate')\n",
    "    plt.ylabel('True Positive Rate')\n",
    "    plt.title('ROC Curve')\n",
    "    plt.legend()\n",
    "    plt.show()"
   ]
  },
  {
   "cell_type": "code",
   "execution_count": 12,
   "metadata": {},
   "outputs": [],
   "source": [
    "def fn_importance_features(model):\n",
    "    clf = model\n",
    "    feature_importances_data = []\n",
    "    features = train_X.columns\n",
    "    for feature_name, feature_importance in zip(features, clf.feature_importances_):\n",
    "        feature_importances_data.append({\n",
    "            'feature': feature_name,\n",
    "            'importance': feature_importance\n",
    "        })\n",
    "\n",
    "    # Plot the results\n",
    "    pd.DataFrame(feature_importances_data)\\\n",
    "        .set_index('feature')\\\n",
    "        .sort_values(by='importance')[-15::]\\\n",
    "        .plot(title='Top 20 most important features: '+ str(type(model).__name__),\n",
    "              kind='barh',figsize=(10, 6),\n",
    "              color='#348ABD',alpha=0.6,\n",
    "              lw='1', edgecolor='#348ABD',grid=False,)"
   ]
  },
  {
   "cell_type": "code",
   "execution_count": 13,
   "metadata": {},
   "outputs": [],
   "source": [
    "#key performance metrics\n",
    "def fn_metrics(act, prob, pred):\n",
    "    #ROC\n",
    "    fpr, tpr, thresholds = roc_curve(act, prob)\n",
    "    roc_auc = auc(fpr, tpr)\n",
    "    plot_roc_curve(fpr, tpr)\n",
    "    \n",
    "    print ('ROC value of:{:.2f}'.format(roc_auc*100))\n",
    "    print ('Accuracy:{:.2f}'.format(accuracy_score(act, pred)*100))\n",
    "    print ('F1 score:{:.2f}'.format(f1_score(act, pred)*100))\n",
    "    print ('Recall:{:.2f}'.format(recall_score(act, pred)*100))\n",
    "    print ('Precision:{:.2f}'.format(precision_score(act, pred)*100))\n",
    "    print ('\\n clasification report:\\n',classification_report(act, pred))\n",
    "     \n",
    "    #plot confusion matrix    \n",
    "    fig, ax = plt.subplots(1,1,figsize=(8,6))\n",
    "    plt.rcParams.update({'font.size': 16})\n",
    "    ConfusionMatrixDisplay(confusion_matrix(pred, act, labels=[1,0]), \n",
    "                       display_labels=['3mo_ahead_lapse','No_Lapse']).plot(values_format=\".0f\",ax=ax)\n",
    "\n",
    "    ax.set_xlabel(\"Actual Label\")\n",
    "    ax.set_ylabel(\"Predicted Label\")\n",
    "    plt.show()"
   ]
  },
  {
   "cell_type": "markdown",
   "metadata": {},
   "source": [
    "### Features"
   ]
  },
  {
   "cell_type": "code",
   "execution_count": 16,
   "metadata": {},
   "outputs": [],
   "source": [
    "features =[\n",
    "#target\n",
    "'3mo_ahead_Lapse',\n",
    "'pfmc_cur_month',\n",
    "\n",
    "## CATEGORICAL:\n",
    "'current_status',\n",
    "'holder_age_bucket',\n",
    "\n",
    "    \n",
    "# pfmc    \n",
    "'prem_mode',\n",
    "'val_inforce_cls',\n",
    "'lob_group',\n",
    "'prod_grp',\n",
    "'place_abbrev',\n",
    "'aos_status_code',\n",
    "'smoking_habit',\n",
    "'conv_type',\n",
    "'premium_basis',\n",
    "'tax_basis',\n",
    "'div_option',\n",
    "'spec_und_code',\n",
    "'medical_issue_cd',\n",
    "#'pension_code',\n",
    "'pgls_product_code',\n",
    "#'int_loan_typ_cd',\n",
    "'abbr_pay_typ_cd',\n",
    "'pln_id',\n",
    "'prem_pattern_cd',\n",
    "'ny_state_specific',\n",
    "'rider_flag',\n",
    "\n",
    "#household \n",
    "'incm_rng_cd', \n",
    "'prim_occup_cd',\n",
    "'prmr_prsnc_chld_ind', \n",
    "'net_wrth_gold_cd',\n",
    "'hhld_qdrnt_cd',    \n",
    "    \n",
    "#subject\n",
    "'mrtl_stat_cd', \n",
    "'gndr_cd', \n",
    "'subj_state_cd', \n",
    "'subj_act_ind',               \n",
    "'pref_lang_cd',\n",
    "#'deceased_ind', \n",
    "'rtl_dstrb_orphn_cd',               \n",
    "'ixi_buoyancy', \n",
    "'ixi_fin_cohort_cd',    \n",
    " \n",
    "#clarify \n",
    "'SR_TYPE_CATG',\n",
    "\n",
    "    \n",
    "## NUMERICAL:\n",
    "\n",
    "#pfmc\n",
    "'policy_age',\n",
    "'issue_year',\n",
    "'mod_mpt_total',\n",
    "'mod_mpt3',\n",
    "'mod_mpt4',\n",
    "'trgt_7_pay',\n",
    "'mod_bld_payment',\n",
    "'mod_sch_payment',\n",
    "'base_face_amt',   \n",
    "'cash_accum_prem',\n",
    "'diff_mod_bld_value',\n",
    "'mpt_total_bld_face_amt',\n",
    "'accum_actual_prem_paid',\n",
    "'mom_accum_prem_paid',\n",
    "'prem_mode_change_flag',\n",
    "'rest_mpt',\n",
    "'diff_policy_issue_issue',\n",
    "'diff_cash_holder_issue',\n",
    "    \n",
    "    \n",
    "#household\n",
    "'wc_tot_asset_amt',\n",
    "'wc_asset_mix_anty_amt',\n",
    "'wc_asset_mix_bond_amt',\n",
    "'wc_asset_mix_dep_amt',\n",
    "'wc_asset_mix_mf_amt',\n",
    "'wc_asset_mix_oth_asset_amt',\n",
    "'wc_asset_mix_stk_amt',\n",
    "'diff_household_asset_cash_val',\n",
    "'hh_stock_mix',\n",
    "'hh_bond_mix',\n",
    "'hh_annuity_mix',\n",
    "'num_policies_hh',\n",
    "'mom_hh_policies',\n",
    "\n",
    "    \n",
    "#subject\n",
    "'diff_aum_cash_val',\n",
    "\n",
    "#clarify\n",
    "'num_sr_catg',\n",
    "'max_sr_time',\n",
    "'time_to_close',\n",
    "'num_sr_6m',\n",
    "\n",
    "# macro\n",
    "'Unemp',\n",
    "'ICSA',\n",
    "'Dincome',\n",
    "'PCE',\n",
    "'CPI',\n",
    "'Leading',\n",
    "'CS_HPI',\n",
    "'SP500',\n",
    "'ICE_Corp',\n",
    "'ICE_HY',\n",
    "'FF',\n",
    "'T3M',\n",
    "'T10Y2Y',\n",
    "'Unemp_chg',\n",
    "'ICSA_per',\n",
    "'Dincome_per',\n",
    "'PCE_per',\n",
    "'CPI_per',\n",
    "'Leading_per',\n",
    "'CS_HPI_per',\n",
    "'SP500_per',\n",
    "'ICE_Corp_chg',\n",
    "'ICE_HY_chg',\n",
    "'FF_chg',\n",
    "'T3M_chg',\n",
    "'T10Y2Y_chg'\n",
    "]"
   ]
  },
  {
   "cell_type": "code",
   "execution_count": 17,
   "metadata": {},
   "outputs": [
    {
     "data": {
      "text/plain": [
       "(4328736, 99)"
      ]
     },
     "execution_count": 17,
     "metadata": {},
     "output_type": "execute_result"
    }
   ],
   "source": [
    "ml_dataset =df[features]\n",
    "ml_dataset.shape"
   ]
  },
  {
   "cell_type": "markdown",
   "metadata": {},
   "source": [
    "### fill nan of categorical"
   ]
  },
  {
   "cell_type": "code",
   "execution_count": 18,
   "metadata": {},
   "outputs": [],
   "source": [
    "# change None to NaN\n",
    "ml_dataset.replace(to_replace=[None], value=np.nan, inplace=True)"
   ]
  },
  {
   "cell_type": "code",
   "execution_count": 19,
   "metadata": {},
   "outputs": [],
   "source": [
    "cols = ['conv_type','premium_basis','tax_basis','incm_rng_cd', 'hhld_qdrnt_cd', 'mrtl_stat_cd', \n",
    "        'subj_act_ind', 'pref_lang_cd', 'rtl_dstrb_orphn_cd',\n",
    "       'ixi_buoyancy', 'ixi_fin_cohort_cd']\n",
    "\n",
    "ml_dataset[cols]= ml_dataset[cols].fillna(0)"
   ]
  },
  {
   "cell_type": "markdown",
   "metadata": {},
   "source": [
    "### Categorical"
   ]
  },
  {
   "cell_type": "code",
   "execution_count": 20,
   "metadata": {},
   "outputs": [
    {
     "name": "stdout",
     "output_type": "stream",
     "text": [
      "current_status\n",
      "holder_age_bucket\n",
      "prem_mode\n",
      "val_inforce_cls\n",
      "lob_group\n",
      "prod_grp\n",
      "place_abbrev\n",
      "aos_status_code\n",
      "smoking_habit\n",
      "conv_type\n",
      "premium_basis\n",
      "tax_basis\n",
      "div_option\n",
      "spec_und_code\n",
      "medical_issue_cd\n",
      "pgls_product_code\n",
      "abbr_pay_typ_cd\n",
      "pln_id\n",
      "prem_pattern_cd\n",
      "ny_state_specific\n",
      "rider_flag\n",
      "incm_rng_cd\n",
      "prim_occup_cd\n",
      "prmr_prsnc_chld_ind\n",
      "net_wrth_gold_cd\n",
      "hhld_qdrnt_cd\n",
      "mrtl_stat_cd\n",
      "gndr_cd\n",
      "subj_state_cd\n",
      "subj_act_ind\n",
      "pref_lang_cd\n",
      "rtl_dstrb_orphn_cd\n",
      "ixi_buoyancy\n",
      "ixi_fin_cohort_cd\n",
      "SR_TYPE_CATG\n",
      "CPU times: user 1min 47s, sys: 23.2 s, total: 2min 10s\n",
      "Wall time: 2min 10s\n"
     ]
    }
   ],
   "source": [
    "%%time\n",
    "cat_features = [\n",
    "#'3mo_ahead_Lapse',\n",
    "#'pfmc_cur_month',\n",
    "'current_status',\n",
    "'holder_age_bucket',\n",
    "\n",
    "# pfmc    \n",
    "'prem_mode',\n",
    "'val_inforce_cls',\n",
    "'lob_group',\n",
    "'prod_grp',\n",
    "'place_abbrev',\n",
    "'aos_status_code',\n",
    "'smoking_habit',\n",
    "'conv_type',\n",
    "'premium_basis',\n",
    "'tax_basis',\n",
    "'div_option',\n",
    "'spec_und_code',\n",
    "'medical_issue_cd',\n",
    "#'pension_code',\n",
    "'pgls_product_code',\n",
    "#'int_loan_typ_cd',\n",
    "'abbr_pay_typ_cd',\n",
    "'pln_id',\n",
    "'prem_pattern_cd',\n",
    "'ny_state_specific',\n",
    "'rider_flag',\n",
    "\n",
    "#household \n",
    "'incm_rng_cd', \n",
    "'prim_occup_cd',\n",
    "'prmr_prsnc_chld_ind', \n",
    "'net_wrth_gold_cd',\n",
    "'hhld_qdrnt_cd',    \n",
    "    \n",
    "#subject\n",
    "'mrtl_stat_cd', \n",
    "'gndr_cd', \n",
    "'subj_state_cd', \n",
    "'subj_act_ind',               \n",
    "'pref_lang_cd',\n",
    "#'deceased_ind', \n",
    "'rtl_dstrb_orphn_cd',               \n",
    "'ixi_buoyancy', \n",
    "'ixi_fin_cohort_cd',    \n",
    " \n",
    "#clarify \n",
    "'SR_TYPE_CATG',\n",
    "]   \n",
    "\n",
    "for f in ml_dataset[cat_features]:\n",
    "    print(f)\n",
    "    lbl = preprocessing.LabelEncoder()\n",
    "    lbl.fit(list(ml_dataset[f].values))\n",
    "    ml_dataset[f] = lbl.transform(list(ml_dataset[f].values))"
   ]
  },
  {
   "cell_type": "code",
   "execution_count": null,
   "metadata": {},
   "outputs": [],
   "source": []
  },
  {
   "cell_type": "markdown",
   "metadata": {},
   "source": [
    "### Numerical"
   ]
  },
  {
   "cell_type": "code",
   "execution_count": 21,
   "metadata": {},
   "outputs": [
    {
     "name": "stdout",
     "output_type": "stream",
     "text": [
      "CPU times: user 4.92 s, sys: 6.08 s, total: 11 s\n",
      "Wall time: 6.88 s\n"
     ]
    }
   ],
   "source": [
    "%%time\n",
    "num_features = [\n",
    "\n",
    "#pfmc\n",
    "'policy_age',\n",
    "'issue_year',\n",
    "'mod_mpt_total',\n",
    "'mod_mpt3',\n",
    "'mod_mpt4',\n",
    "'trgt_7_pay',\n",
    "'mod_bld_payment',\n",
    "'mod_sch_payment',\n",
    "'base_face_amt',   \n",
    "'cash_accum_prem',\n",
    "'diff_mod_bld_value',\n",
    "'mpt_total_bld_face_amt',\n",
    "'accum_actual_prem_paid',\n",
    "'mom_accum_prem_paid',\n",
    "'prem_mode_change_flag',\n",
    "'rest_mpt',\n",
    "'diff_policy_issue_issue',\n",
    "'diff_cash_holder_issue',\n",
    "    \n",
    "    \n",
    "#household\n",
    "'wc_tot_asset_amt',\n",
    "'wc_asset_mix_anty_amt',\n",
    "'wc_asset_mix_bond_amt',\n",
    "'wc_asset_mix_dep_amt',\n",
    "'wc_asset_mix_mf_amt',\n",
    "'wc_asset_mix_oth_asset_amt',\n",
    "'wc_asset_mix_stk_amt',\n",
    "'diff_household_asset_cash_val',\n",
    "'hh_stock_mix',\n",
    "'hh_bond_mix',\n",
    "'hh_annuity_mix',\n",
    "'num_policies_hh',\n",
    "'mom_hh_policies',\n",
    "\n",
    "    \n",
    "#subject\n",
    "'diff_aum_cash_val',\n",
    "\n",
    "#clarify\n",
    "'num_sr_catg',\n",
    "'max_sr_time',\n",
    "'time_to_close',\n",
    "'num_sr_6m',\n",
    "\n",
    "# macro \n",
    "'Unemp',\n",
    "'ICSA',\n",
    "'Dincome',\n",
    "'PCE',\n",
    "'CPI',\n",
    "'Leading',\n",
    "'CS_HPI',\n",
    "'SP500',\n",
    "'ICE_Corp',\n",
    "'ICE_HY',\n",
    "'FF',\n",
    "'T3M',\n",
    "'T10Y2Y',\n",
    "'Unemp_chg',\n",
    "'ICSA_per',\n",
    "'Dincome_per',\n",
    "'PCE_per',\n",
    "'CPI_per',\n",
    "'Leading_per',\n",
    "'CS_HPI_per',\n",
    "'SP500_per',\n",
    "'ICE_Corp_chg',\n",
    "'ICE_HY_chg',\n",
    "'FF_chg',\n",
    "'T3M_chg',\n",
    "'T10Y2Y_chg'\n",
    "]\n",
    "\n",
    "for f in ml_dataset[num_features]:\n",
    "    #print(f)\n",
    "    _min = ml_dataset[f].min()\n",
    "    _max = ml_dataset[f].max()\n",
    "    scale = _max - _min\n",
    "    shift = _min\n",
    "    ml_dataset[f] = (ml_dataset[f] - shift).astype(np.float64) / scale"
   ]
  },
  {
   "cell_type": "markdown",
   "metadata": {},
   "source": [
    "### Target, Split data"
   ]
  },
  {
   "cell_type": "code",
   "execution_count": 22,
   "metadata": {},
   "outputs": [],
   "source": [
    "ml_dataset['__target__'] = ml_dataset['3mo_ahead_Lapse']\n",
    "del ml_dataset['3mo_ahead_Lapse']"
   ]
  },
  {
   "cell_type": "code",
   "execution_count": 23,
   "metadata": {},
   "outputs": [
    {
     "name": "stdout",
     "output_type": "stream",
     "text": [
      "Train data has 3246552 rows and 98 columns\n",
      "Valiation data has 1623276 rows and 98 columns\n",
      "Test data has 1623276 rows and 98 columns\n"
     ]
    }
   ],
   "source": [
    "# train, valid, test\n",
    "train, valid = train_test_split(ml_dataset, test_size=0.25, random_state=101)\n",
    "\n",
    "valid, test = train_test_split(train, test_size=0.50, random_state=101)\n",
    "\n",
    "train = train.drop(columns=['pfmc_cur_month'])\n",
    "valid = valid.drop(columns=['pfmc_cur_month'])\n",
    "test = test.drop(columns=['pfmc_cur_month'])\n",
    "\n",
    "print ('Train data has %i rows and %i columns' % (train.shape[0], train.shape[1]))\n",
    "print ('Valiation data has %i rows and %i columns' % (valid.shape[0], valid.shape[1]))\n",
    "print ('Test data has %i rows and %i columns' % (test.shape[0], test.shape[1]))"
   ]
  },
  {
   "cell_type": "code",
   "execution_count": 24,
   "metadata": {},
   "outputs": [],
   "source": [
    "train_X = train.drop('__target__', axis=1)\n",
    "valid_X = valid.drop('__target__', axis=1)\n",
    "test_X = test.drop('__target__', axis=1)\n",
    "\n",
    "train_Y = np.array(train['__target__'])\n",
    "valid_Y = np.array(valid['__target__'])\n",
    "test_Y = np.array(test['__target__'])"
   ]
  },
  {
   "cell_type": "markdown",
   "metadata": {},
   "source": [
    "### LGBM Model"
   ]
  },
  {
   "cell_type": "code",
   "execution_count": 18,
   "metadata": {},
   "outputs": [
    {
     "name": "stdout",
     "output_type": "stream",
     "text": [
      "\u001b[33mWARNING: Running pip as the 'root' user can result in broken permissions and conflicting behaviour with the system package manager. It is recommended to use a virtual environment instead: https://pip.pypa.io/warnings/venv\u001b[0m\u001b[33m\n",
      "\u001b[0m\u001b[33mWARNING: Running pip as the 'root' user can result in broken permissions and conflicting behaviour with the system package manager. It is recommended to use a virtual environment instead: https://pip.pypa.io/warnings/venv\u001b[0m\u001b[33m\n",
      "\u001b[0m"
     ]
    }
   ],
   "source": [
    "# !pip install lightgbm --q\n",
    "# !pip install optuna --q"
   ]
  },
  {
   "cell_type": "code",
   "execution_count": 25,
   "metadata": {},
   "outputs": [],
   "source": [
    "from lightgbm import LGBMClassifier\n",
    "from optuna.samplers import TPESampler\n",
    "from optuna.pruners import SuccessiveHalvingPruner\n",
    "import optuna\n",
    "from optuna.samplers import TPESampler\n",
    "from optuna import Trial\n",
    "from sklearn.model_selection import KFold"
   ]
  },
  {
   "cell_type": "code",
   "execution_count": 26,
   "metadata": {},
   "outputs": [],
   "source": [
    "def accuracy(true, pred):\n",
    "    return np.mean(true==pred)\n",
    "\n",
    "def objective(trial):\n",
    "    \n",
    "    params = {\n",
    "        'objective': 'binary', \n",
    "        'learning_rate': trial.suggest_float('learning_rate', 0.0001, 0.1, log=True), \n",
    "        'num_leaves': trial.suggest_int('num_leaves', 2, 300), \n",
    "        'max_depth': trial.suggest_int('max_depth', 1, 300), \n",
    "        'n_estimators': trial.suggest_int('n_estimators', 10, 300), \n",
    "        'min_child_samples': trial.suggest_int('min_child_samples', 10, 1000), \n",
    "        'subsample': trial.suggest_uniform('subsample', 0.7, 1.0), \n",
    "        'colsample_bytree': trial.suggest_uniform('colsample_bytree', 0.3, 1.0),\n",
    "        'reg_alpha': trial.suggest_uniform('reg_alpha', 0.0, 200.0),\n",
    "        'reg_lambda': trial.suggest_uniform('reg_lambda', 0.0, 200.0),\n",
    "        'scale_pos_weight': trial.suggest_uniform('scale_pos_weight', 0.0, 1000.0),\n",
    "        'min_split_gain': trial.suggest_uniform('min_split_gain', 0.0, 1.0),\n",
    "        'random_state': 101\n",
    "    }\n",
    "    \n",
    "    #scoring = { 'AUC': 'roc_auc',  'Log_loss': 'neg_log_loss', 'F1': 'f1','Recall': 'recall', 'Precision': 'precision'} \n",
    "    #score=[]\n",
    "    clf = LGBMClassifier(**params)\n",
    "    clf.fit(train_X, train_Y, eval_set = [(valid_X, valid_Y)], \n",
    "                              eval_metric =  'neg_log_loss',   #neg_log_loss, recall \n",
    "                              early_stopping_rounds = 50, verbose=50)\n",
    "        \n",
    "    #predicts\n",
    "    pred = clf.predict(test_X)\n",
    "    probs = clf.predict_proba(test_X)\n",
    "    \n",
    "    #metrics\n",
    "    #acc = metrics.accuracy_score(pred, test_Y)\n",
    "    recall = metrics.recall_score(pred, test_Y)\n",
    "    precision = metrics.precision_score(pred, test_Y)\n",
    "    f1 = metrics.f1_score(pred, test_Y)\n",
    "    \n",
    "#     pred = clf.predict(test_X)\n",
    "#     true = test_Y\n",
    "#     score.append(precision(true, pred))\n",
    "#     score = np.mean(score)\n",
    "    return f1, precision"
   ]
  },
  {
   "cell_type": "markdown",
   "metadata": {},
   "source": [
    "### Optuna Tuning"
   ]
  },
  {
   "cell_type": "code",
   "execution_count": 27,
   "metadata": {},
   "outputs": [
    {
     "name": "stderr",
     "output_type": "stream",
     "text": [
      "\u001b[32m[I 2022-12-22 19:08:18,044]\u001b[0m A new study created in memory with name: no-name-65007c5e-36bf-4196-8708-a6c75f949796\u001b[0m\n",
      "\u001b[32m[I 2022-12-22 19:08:39,896]\u001b[0m Trial 0 finished with values: [0.0, 0.0] and parameters: {'learning_rate': 0.004308151494622505, 'num_leaves': 158, 'max_depth': 28, 'n_estimators': 42, 'min_child_samples': 76, 'subsample': 0.7290766099813752, 'colsample_bytree': 0.7029510373624905, 'reg_alpha': 33.49501506190402, 'reg_lambda': 141.15504861498772, 'scale_pos_weight': 400.40273020420716, 'min_split_gain': 0.4877632617406291}. \u001b[0m\n",
      "\u001b[32m[I 2022-12-22 19:08:56,201]\u001b[0m Trial 1 finished with values: [0.0, 0.0] and parameters: {'learning_rate': 0.0001534896670371243, 'num_leaves': 150, 'max_depth': 86, 'n_estimators': 15, 'min_child_samples': 597, 'subsample': 0.7033774550875354, 'colsample_bytree': 0.31451049758002614, 'reg_alpha': 117.46496101949508, 'reg_lambda': 143.41573269227158, 'scale_pos_weight': 433.9759350973488, 'min_split_gain': 0.2984582445852172}. \u001b[0m\n"
     ]
    },
    {
     "name": "stdout",
     "output_type": "stream",
     "text": [
      "[50]\tvalid_0's binary_logloss: 0.0328843\n"
     ]
    },
    {
     "name": "stderr",
     "output_type": "stream",
     "text": [
      "\u001b[32m[I 2022-12-22 19:09:17,995]\u001b[0m Trial 2 finished with values: [0.0, 0.0] and parameters: {'learning_rate': 0.000734467400456749, 'num_leaves': 69, 'max_depth': 286, 'n_estimators': 134, 'min_child_samples': 378, 'subsample': 0.9067634494002167, 'colsample_bytree': 0.36760903872534617, 'reg_alpha': 80.71257819016147, 'reg_lambda': 81.76846297163283, 'scale_pos_weight': 671.5913752674312, 'min_split_gain': 0.7578751410990541}. \u001b[0m\n"
     ]
    },
    {
     "name": "stdout",
     "output_type": "stream",
     "text": [
      "[50]\tvalid_0's binary_logloss: 0.121687\n"
     ]
    },
    {
     "name": "stderr",
     "output_type": "stream",
     "text": [
      "\u001b[32m[I 2022-12-22 19:09:45,118]\u001b[0m Trial 3 finished with values: [0.1689984454807906, 0.1662661131745685] and parameters: {'learning_rate': 0.021976722901146512, 'num_leaves': 228, 'max_depth': 151, 'n_estimators': 195, 'min_child_samples': 361, 'subsample': 0.9326533348469404, 'colsample_bytree': 0.8990881827943769, 'reg_alpha': 32.16335798912071, 'reg_lambda': 97.20549761507655, 'scale_pos_weight': 116.58893858261321, 'min_split_gain': 0.09378016816755208}. \u001b[0m\n"
     ]
    },
    {
     "name": "stdout",
     "output_type": "stream",
     "text": [
      "[50]\tvalid_0's binary_logloss: 0.0713602\n"
     ]
    },
    {
     "name": "stderr",
     "output_type": "stream",
     "text": [
      "\u001b[32m[I 2022-12-22 19:10:12,101]\u001b[0m Trial 4 finished with values: [0.0, 0.0] and parameters: {'learning_rate': 0.00562453471237474, 'num_leaves': 285, 'max_depth': 185, 'n_estimators': 191, 'min_child_samples': 559, 'subsample': 0.7639369045912785, 'colsample_bytree': 0.41171929090212805, 'reg_alpha': 34.174285639000956, 'reg_lambda': 32.574825760095734, 'scale_pos_weight': 208.48541115449814, 'min_split_gain': 0.8831954409752947}. \u001b[0m\n",
      "\u001b[32m[I 2022-12-22 19:10:28,220]\u001b[0m Trial 5 finished with values: [0.014136899645889916, 0.22460126720559317] and parameters: {'learning_rate': 0.07976644914176564, 'num_leaves': 74, 'max_depth': 221, 'n_estimators': 13, 'min_child_samples': 303, 'subsample': 0.8100898538448222, 'colsample_bytree': 0.7409094197862129, 'reg_alpha': 117.7133167993228, 'reg_lambda': 64.77832311584571, 'scale_pos_weight': 870.7811941900147, 'min_split_gain': 0.8788315262813289}. \u001b[0m\n"
     ]
    },
    {
     "name": "stdout",
     "output_type": "stream",
     "text": [
      "[50]\tvalid_0's binary_logloss: 0.0304526\n"
     ]
    },
    {
     "name": "stderr",
     "output_type": "stream",
     "text": [
      "\u001b[32m[I 2022-12-22 19:10:54,632]\u001b[0m Trial 6 finished with values: [0.0, 0.0] and parameters: {'learning_rate': 0.0009928954108636488, 'num_leaves': 247, 'max_depth': 186, 'n_estimators': 218, 'min_child_samples': 756, 'subsample': 0.8588382181256151, 'colsample_bytree': 0.764800934415276, 'reg_alpha': 95.08531366733818, 'reg_lambda': 7.728939716232297, 'scale_pos_weight': 458.4644451993204, 'min_split_gain': 0.5755053937326067}. \u001b[0m\n"
     ]
    },
    {
     "name": "stdout",
     "output_type": "stream",
     "text": [
      "[50]\tvalid_0's binary_logloss: 0.0274352\n"
     ]
    },
    {
     "name": "stderr",
     "output_type": "stream",
     "text": [
      "\u001b[32m[I 2022-12-22 19:11:17,079]\u001b[0m Trial 7 finished with values: [0.0, 0.0] and parameters: {'learning_rate': 0.0004520667455456043, 'num_leaves': 63, 'max_depth': 284, 'n_estimators': 86, 'min_child_samples': 184, 'subsample': 0.9114254637980101, 'colsample_bytree': 0.488623940211411, 'reg_alpha': 137.6509328815809, 'reg_lambda': 156.5907095747719, 'scale_pos_weight': 779.1516685505, 'min_split_gain': 0.12339004740284054}. \u001b[0m\n"
     ]
    },
    {
     "name": "stdout",
     "output_type": "stream",
     "text": [
      "[50]\tvalid_0's binary_logloss: 0.0383053\n"
     ]
    },
    {
     "name": "stderr",
     "output_type": "stream",
     "text": [
      "\u001b[32m[I 2022-12-22 19:11:36,402]\u001b[0m Trial 8 finished with values: [0.0, 0.0] and parameters: {'learning_rate': 0.0008546250173227438, 'num_leaves': 175, 'max_depth': 139, 'n_estimators': 202, 'min_child_samples': 295, 'subsample': 0.9762834527569594, 'colsample_bytree': 0.8551653168008106, 'reg_alpha': 105.41823869108154, 'reg_lambda': 111.46488512124641, 'scale_pos_weight': 923.7574678806583, 'min_split_gain': 0.4225377196053729}. \u001b[0m\n"
     ]
    },
    {
     "name": "stdout",
     "output_type": "stream",
     "text": [
      "[50]\tvalid_0's binary_logloss: 0.522402\n",
      "[100]\tvalid_0's binary_logloss: 0.474064\n",
      "[150]\tvalid_0's binary_logloss: 0.458927\n",
      "[200]\tvalid_0's binary_logloss: 0.450782\n",
      "[250]\tvalid_0's binary_logloss: 0.445078\n"
     ]
    },
    {
     "name": "stderr",
     "output_type": "stream",
     "text": [
      "\u001b[32m[I 2022-12-22 19:12:32,115]\u001b[0m Trial 9 finished with values: [0.031379598921365034, 0.5529823028184401] and parameters: {'learning_rate': 0.04321511988499542, 'num_leaves': 13, 'max_depth': 217, 'n_estimators': 293, 'min_child_samples': 449, 'subsample': 0.8034113139041839, 'colsample_bytree': 0.30650270547439284, 'reg_alpha': 43.79786659974882, 'reg_lambda': 117.28522608019765, 'scale_pos_weight': 310.11066906712415, 'min_split_gain': 0.35164496612179874}. \u001b[0m\n"
     ]
    },
    {
     "name": "stdout",
     "output_type": "stream",
     "text": [
      "[50]\tvalid_0's binary_logloss: 0.211355\n"
     ]
    },
    {
     "name": "stderr",
     "output_type": "stream",
     "text": [
      "\u001b[32m[I 2022-12-22 19:12:55,859]\u001b[0m Trial 10 finished with values: [0.0, 0.0] and parameters: {'learning_rate': 0.0070591975384708995, 'num_leaves': 57, 'max_depth': 227, 'n_estimators': 117, 'min_child_samples': 892, 'subsample': 0.8192766159146719, 'colsample_bytree': 0.4464948604842264, 'reg_alpha': 55.94770001661604, 'reg_lambda': 187.85495844647747, 'scale_pos_weight': 994.1740521390418, 'min_split_gain': 0.1994694761226773}. \u001b[0m\n"
     ]
    },
    {
     "name": "stdout",
     "output_type": "stream",
     "text": [
      "[50]\tvalid_0's binary_logloss: 0.0914818\n"
     ]
    },
    {
     "name": "stderr",
     "output_type": "stream",
     "text": [
      "\u001b[32m[I 2022-12-22 19:13:15,646]\u001b[0m Trial 11 finished with values: [0.0, 0.0] and parameters: {'learning_rate': 0.0030010520779902385, 'num_leaves': 294, 'max_depth': 230, 'n_estimators': 198, 'min_child_samples': 802, 'subsample': 0.7618446534898617, 'colsample_bytree': 0.6634380201579279, 'reg_alpha': 190.64699790032495, 'reg_lambda': 169.67366668107258, 'scale_pos_weight': 769.909273115423, 'min_split_gain': 0.8767113566997401}. \u001b[0m\n",
      "\u001b[32m[I 2022-12-22 19:13:39,267]\u001b[0m Trial 12 finished with values: [0.0, 0.0] and parameters: {'learning_rate': 0.00010090567682729683, 'num_leaves': 274, 'max_depth': 278, 'n_estimators': 34, 'min_child_samples': 690, 'subsample': 0.9468662227101924, 'colsample_bytree': 0.7769656335811783, 'reg_alpha': 58.27999062445735, 'reg_lambda': 9.779749878475897, 'scale_pos_weight': 90.32165224327903, 'min_split_gain': 0.13873570559134207}. \u001b[0m\n"
     ]
    },
    {
     "name": "stdout",
     "output_type": "stream",
     "text": [
      "[50]\tvalid_0's binary_logloss: 0.975744\n"
     ]
    },
    {
     "name": "stderr",
     "output_type": "stream",
     "text": [
      "\u001b[32m[I 2022-12-22 19:14:08,268]\u001b[0m Trial 13 finished with values: [0.007350271527024462, 0.7231811230063361] and parameters: {'learning_rate': 0.06100211679907926, 'num_leaves': 251, 'max_depth': 144, 'n_estimators': 148, 'min_child_samples': 388, 'subsample': 0.8700671309937127, 'colsample_bytree': 0.6227919326537947, 'reg_alpha': 41.62061842266485, 'reg_lambda': 155.05944715062822, 'scale_pos_weight': 339.69641958806176, 'min_split_gain': 0.603249847041115}. \u001b[0m\n"
     ]
    },
    {
     "name": "stdout",
     "output_type": "stream",
     "text": [
      "[50]\tvalid_0's binary_logloss: 0.0249974\n"
     ]
    },
    {
     "name": "stderr",
     "output_type": "stream",
     "text": [
      "\u001b[32m[I 2022-12-22 19:14:32,298]\u001b[0m Trial 14 finished with values: [0.0, 0.0] and parameters: {'learning_rate': 0.00039255975393069414, 'num_leaves': 295, 'max_depth': 156, 'n_estimators': 233, 'min_child_samples': 196, 'subsample': 0.9753523311688719, 'colsample_bytree': 0.753103124053601, 'reg_alpha': 32.53276955465101, 'reg_lambda': 14.992341058013503, 'scale_pos_weight': 929.7804537721177, 'min_split_gain': 0.401267555308892}. \u001b[0m\n"
     ]
    },
    {
     "name": "stdout",
     "output_type": "stream",
     "text": [
      "[50]\tvalid_0's binary_logloss: 0.224211\n"
     ]
    },
    {
     "name": "stderr",
     "output_type": "stream",
     "text": [
      "\u001b[32m[I 2022-12-22 19:14:58,991]\u001b[0m Trial 15 finished with values: [0.04636037688651714, 0.24295389993445488] and parameters: {'learning_rate': 0.0199419091044948, 'num_leaves': 165, 'max_depth': 259, 'n_estimators': 278, 'min_child_samples': 831, 'subsample': 0.8360207083773059, 'colsample_bytree': 0.6472516416562913, 'reg_alpha': 1.8363564975875546, 'reg_lambda': 54.08976608277764, 'scale_pos_weight': 266.806554199829, 'min_split_gain': 0.5907753706044009}. \u001b[0m\n"
     ]
    },
    {
     "name": "stdout",
     "output_type": "stream",
     "text": [
      "[50]\tvalid_0's binary_logloss: 0.0514333\n"
     ]
    },
    {
     "name": "stderr",
     "output_type": "stream",
     "text": [
      "\u001b[32m[I 2022-12-22 19:15:21,598]\u001b[0m Trial 16 finished with values: [0.0, 0.0] and parameters: {'learning_rate': 0.0016970151386115188, 'num_leaves': 138, 'max_depth': 242, 'n_estimators': 189, 'min_child_samples': 972, 'subsample': 0.9523273255415193, 'colsample_bytree': 0.37940867699443376, 'reg_alpha': 199.8020772976664, 'reg_lambda': 67.75218572820714, 'scale_pos_weight': 545.5207714372201, 'min_split_gain': 0.26298045421334737}. \u001b[0m\n"
     ]
    },
    {
     "name": "stdout",
     "output_type": "stream",
     "text": [
      "[50]\tvalid_0's binary_logloss: 0.0732627\n"
     ]
    },
    {
     "name": "stderr",
     "output_type": "stream",
     "text": [
      "\u001b[32m[I 2022-12-22 19:15:42,811]\u001b[0m Trial 17 finished with values: [0.0, 0.0] and parameters: {'learning_rate': 0.00206132892967522, 'num_leaves': 15, 'max_depth': 138, 'n_estimators': 179, 'min_child_samples': 10, 'subsample': 0.7387647283412181, 'colsample_bytree': 0.34326738635596366, 'reg_alpha': 110.13919442261697, 'reg_lambda': 147.247849831234, 'scale_pos_weight': 911.6028012358373, 'min_split_gain': 0.3356443718607711}. \u001b[0m\n"
     ]
    },
    {
     "name": "stdout",
     "output_type": "stream",
     "text": [
      "[50]\tvalid_0's binary_logloss: 0.0213367\n"
     ]
    },
    {
     "name": "stderr",
     "output_type": "stream",
     "text": [
      "\u001b[32m[I 2022-12-22 19:16:03,368]\u001b[0m Trial 18 finished with values: [0.0, 0.0] and parameters: {'learning_rate': 0.00018003112877879087, 'num_leaves': 100, 'max_depth': 178, 'n_estimators': 74, 'min_child_samples': 791, 'subsample': 0.7935490848252069, 'colsample_bytree': 0.6086572111020716, 'reg_alpha': 34.720805304565936, 'reg_lambda': 184.08902546588166, 'scale_pos_weight': 690.9997077132914, 'min_split_gain': 0.9161099747491462}. \u001b[0m\n"
     ]
    },
    {
     "name": "stdout",
     "output_type": "stream",
     "text": [
      "[50]\tvalid_0's binary_logloss: 0.0199538\n"
     ]
    },
    {
     "name": "stderr",
     "output_type": "stream",
     "text": [
      "\u001b[32m[I 2022-12-22 19:16:29,720]\u001b[0m Trial 19 finished with values: [0.0, 0.0] and parameters: {'learning_rate': 0.00017069067056038265, 'num_leaves': 198, 'max_depth': 52, 'n_estimators': 298, 'min_child_samples': 859, 'subsample': 0.8370047653260452, 'colsample_bytree': 0.47594828529082867, 'reg_alpha': 176.06740128560006, 'reg_lambda': 50.90664745232007, 'scale_pos_weight': 323.4182030472199, 'min_split_gain': 0.33808849960890197}. \u001b[0m\n",
      "\u001b[32m[I 2022-12-22 19:16:50,273]\u001b[0m Trial 20 finished with values: [0.0, 0.0] and parameters: {'learning_rate': 0.00038881419139765, 'num_leaves': 261, 'max_depth': 115, 'n_estimators': 44, 'min_child_samples': 689, 'subsample': 0.9318663029850309, 'colsample_bytree': 0.7687046410970257, 'reg_alpha': 68.4632585932621, 'reg_lambda': 63.92876631318678, 'scale_pos_weight': 367.62939621874636, 'min_split_gain': 0.36793090078722746}. \u001b[0m\n"
     ]
    },
    {
     "name": "stdout",
     "output_type": "stream",
     "text": [
      "[50]\tvalid_0's binary_logloss: 0.106398\n"
     ]
    },
    {
     "name": "stderr",
     "output_type": "stream",
     "text": [
      "\u001b[32m[I 2022-12-22 19:17:17,887]\u001b[0m Trial 21 finished with values: [0.0, 0.0] and parameters: {'learning_rate': 0.004183441575434056, 'num_leaves': 274, 'max_depth': 262, 'n_estimators': 213, 'min_child_samples': 100, 'subsample': 0.7086928507534433, 'colsample_bytree': 0.514560778281095, 'reg_alpha': 132.99674671149992, 'reg_lambda': 7.211014168680174, 'scale_pos_weight': 840.0787202111334, 'min_split_gain': 0.5145450761767222}. \u001b[0m\n"
     ]
    },
    {
     "name": "stdout",
     "output_type": "stream",
     "text": [
      "[50]\tvalid_0's binary_logloss: 0.165628\n"
     ]
    },
    {
     "name": "stderr",
     "output_type": "stream",
     "text": [
      "\u001b[32m[I 2022-12-22 19:17:41,268]\u001b[0m Trial 22 finished with values: [0.0, 0.0] and parameters: {'learning_rate': 0.006845217296896281, 'num_leaves': 206, 'max_depth': 57, 'n_estimators': 78, 'min_child_samples': 169, 'subsample': 0.9617010430390458, 'colsample_bytree': 0.7349518298395024, 'reg_alpha': 118.15512611769809, 'reg_lambda': 127.70195397309226, 'scale_pos_weight': 693.4601843951032, 'min_split_gain': 0.9451054414230883}. \u001b[0m\n"
     ]
    },
    {
     "name": "stdout",
     "output_type": "stream",
     "text": [
      "[50]\tvalid_0's binary_logloss: 10.4359\n"
     ]
    },
    {
     "name": "stderr",
     "output_type": "stream",
     "text": [
      "\u001b[32m[I 2022-12-22 19:18:03,372]\u001b[0m Trial 23 finished with values: [0.005847413289016096, 0.020755953681450733] and parameters: {'learning_rate': 0.0974224517624342, 'num_leaves': 73, 'max_depth': 163, 'n_estimators': 96, 'min_child_samples': 660, 'subsample': 0.7592607485456778, 'colsample_bytree': 0.7497998251342586, 'reg_alpha': 160.99682158179874, 'reg_lambda': 199.59410661558965, 'scale_pos_weight': 853.6263498945056, 'min_split_gain': 0.751238570040693}. \u001b[0m\n"
     ]
    },
    {
     "name": "stdout",
     "output_type": "stream",
     "text": [
      "[50]\tvalid_0's binary_logloss: 0.131651\n"
     ]
    },
    {
     "name": "stderr",
     "output_type": "stream",
     "text": [
      "\u001b[32m[I 2022-12-22 19:18:27,606]\u001b[0m Trial 24 finished with values: [0.0, 0.0] and parameters: {'learning_rate': 0.004578765077452728, 'num_leaves': 55, 'max_depth': 181, 'n_estimators': 99, 'min_child_samples': 543, 'subsample': 0.7895497100511353, 'colsample_bytree': 0.546896166240209, 'reg_alpha': 118.71397746123216, 'reg_lambda': 131.35140572104933, 'scale_pos_weight': 806.2404845231778, 'min_split_gain': 0.7192432390831585}. \u001b[0m\n"
     ]
    },
    {
     "name": "stdout",
     "output_type": "stream",
     "text": [
      "[50]\tvalid_0's binary_logloss: 0.240955\n"
     ]
    },
    {
     "name": "stderr",
     "output_type": "stream",
     "text": [
      "\u001b[32m[I 2022-12-22 19:18:55,417]\u001b[0m Trial 25 finished with values: [0.0, 0.0] and parameters: {'learning_rate': 0.015120626636433926, 'num_leaves': 162, 'max_depth': 171, 'n_estimators': 206, 'min_child_samples': 29, 'subsample': 0.8269085972905945, 'colsample_bytree': 0.5673344781966219, 'reg_alpha': 15.071279568919582, 'reg_lambda': 107.08030124138158, 'scale_pos_weight': 408.1189918049413, 'min_split_gain': 0.654291768897747}. \u001b[0m\n"
     ]
    },
    {
     "name": "stdout",
     "output_type": "stream",
     "text": [
      "[50]\tvalid_0's binary_logloss: 0.0427037\n"
     ]
    },
    {
     "name": "stderr",
     "output_type": "stream",
     "text": [
      "\u001b[32m[I 2022-12-22 19:19:20,564]\u001b[0m Trial 26 finished with values: [0.0, 0.0] and parameters: {'learning_rate': 0.016049037997690564, 'num_leaves': 218, 'max_depth': 277, 'n_estimators': 81, 'min_child_samples': 403, 'subsample': 0.9848749228031652, 'colsample_bytree': 0.43873163635180235, 'reg_alpha': 65.1526791803888, 'reg_lambda': 153.24599001541554, 'scale_pos_weight': 31.33245213446212, 'min_split_gain': 0.7579896422389485}. \u001b[0m\n",
      "\u001b[32m[I 2022-12-22 19:19:35,719]\u001b[0m Trial 27 finished with values: [0.0, 0.0] and parameters: {'learning_rate': 0.003398233928531191, 'num_leaves': 267, 'max_depth': 200, 'n_estimators': 14, 'min_child_samples': 647, 'subsample': 0.9159150101918089, 'colsample_bytree': 0.9534432820464318, 'reg_alpha': 66.66144348867323, 'reg_lambda': 154.68024185499672, 'scale_pos_weight': 839.2061554555075, 'min_split_gain': 0.554292742153918}. \u001b[0m\n",
      "\u001b[32m[I 2022-12-22 19:19:52,480]\u001b[0m Trial 28 finished with values: [0.0, 0.0] and parameters: {'learning_rate': 0.006286496755043247, 'num_leaves': 29, 'max_depth': 61, 'n_estimators': 26, 'min_child_samples': 179, 'subsample': 0.7791775159553945, 'colsample_bytree': 0.7550020042477927, 'reg_alpha': 162.15348520463607, 'reg_lambda': 85.1857836561668, 'scale_pos_weight': 846.3403859263354, 'min_split_gain': 0.6511188670190273}. \u001b[0m\n"
     ]
    },
    {
     "name": "stdout",
     "output_type": "stream",
     "text": [
      "[50]\tvalid_0's binary_logloss: 0.251506\n"
     ]
    },
    {
     "name": "stderr",
     "output_type": "stream",
     "text": [
      "\u001b[32m[I 2022-12-22 19:20:19,086]\u001b[0m Trial 29 finished with values: [0.0, 0.0] and parameters: {'learning_rate': 0.010260489024520024, 'num_leaves': 232, 'max_depth': 217, 'n_estimators': 232, 'min_child_samples': 528, 'subsample': 0.8227363905306386, 'colsample_bytree': 0.6197674604507923, 'reg_alpha': 90.73826813471335, 'reg_lambda': 73.68474417160414, 'scale_pos_weight': 934.7813592362766, 'min_split_gain': 0.4610738064711418}. \u001b[0m\n"
     ]
    },
    {
     "name": "stdout",
     "output_type": "stream",
     "text": [
      "[50]\tvalid_0's binary_logloss: 0.0317557\n"
     ]
    },
    {
     "name": "stderr",
     "output_type": "stream",
     "text": [
      "\u001b[32m[I 2022-12-22 19:20:41,888]\u001b[0m Trial 30 finished with values: [0.0, 0.0] and parameters: {'learning_rate': 0.0010047918126420662, 'num_leaves': 101, 'max_depth': 131, 'n_estimators': 160, 'min_child_samples': 760, 'subsample': 0.9906763412625871, 'colsample_bytree': 0.5772722199844681, 'reg_alpha': 182.27464199765896, 'reg_lambda': 81.32343671138204, 'scale_pos_weight': 354.9127859167134, 'min_split_gain': 0.04283438129459749}. \u001b[0m\n"
     ]
    },
    {
     "name": "stdout",
     "output_type": "stream",
     "text": [
      "[50]\tvalid_0's binary_logloss: 0.669383\n"
     ]
    },
    {
     "name": "stderr",
     "output_type": "stream",
     "text": [
      "\u001b[32m[I 2022-12-22 19:21:07,672]\u001b[0m Trial 31 finished with values: [0.01470408038230609, 0.6423421455101594] and parameters: {'learning_rate': 0.023883806784616712, 'num_leaves': 155, 'max_depth': 24, 'n_estimators': 112, 'min_child_samples': 764, 'subsample': 0.7434442823682571, 'colsample_bytree': 0.7162110467417605, 'reg_alpha': 164.51119106162636, 'reg_lambda': 4.077796330054029, 'scale_pos_weight': 888.4819726146029, 'min_split_gain': 0.24006907008854128}. \u001b[0m\n"
     ]
    },
    {
     "name": "stdout",
     "output_type": "stream",
     "text": [
      "[50]\tvalid_0's binary_logloss: 6.35441\n"
     ]
    },
    {
     "name": "stderr",
     "output_type": "stream",
     "text": [
      "\u001b[32m[I 2022-12-22 19:21:37,115]\u001b[0m Trial 32 finished with values: [0.004530001363398468, 0.11251911732575923] and parameters: {'learning_rate': 0.07145653838254044, 'num_leaves': 294, 'max_depth': 135, 'n_estimators': 155, 'min_child_samples': 172, 'subsample': 0.9208759285841974, 'colsample_bytree': 0.5365235623579206, 'reg_alpha': 193.3244103720163, 'reg_lambda': 178.9651992182949, 'scale_pos_weight': 930.9256324655473, 'min_split_gain': 0.3129481689218063}. \u001b[0m\n"
     ]
    },
    {
     "name": "stdout",
     "output_type": "stream",
     "text": [
      "[50]\tvalid_0's binary_logloss: 0.0888001\n"
     ]
    },
    {
     "name": "stderr",
     "output_type": "stream",
     "text": [
      "\u001b[32m[I 2022-12-22 19:21:56,573]\u001b[0m Trial 33 finished with values: [0.0, 0.0] and parameters: {'learning_rate': 0.0036221903735665162, 'num_leaves': 21, 'max_depth': 193, 'n_estimators': 294, 'min_child_samples': 32, 'subsample': 0.7706502776896512, 'colsample_bytree': 0.9977878795620163, 'reg_alpha': 126.29699287243668, 'reg_lambda': 146.77178467294763, 'scale_pos_weight': 501.5862873685331, 'min_split_gain': 0.33818483349911743}. \u001b[0m\n",
      "\u001b[32m[I 2022-12-22 19:22:13,684]\u001b[0m Trial 34 finished with values: [0.0, 0.0] and parameters: {'learning_rate': 0.007431764243671433, 'num_leaves': 94, 'max_depth': 27, 'n_estimators': 23, 'min_child_samples': 390, 'subsample': 0.7167822787445075, 'colsample_bytree': 0.8685123772596142, 'reg_alpha': 159.61617116484547, 'reg_lambda': 79.1918435359441, 'scale_pos_weight': 215.1497787329576, 'min_split_gain': 0.2624874666584931}. \u001b[0m\n"
     ]
    },
    {
     "name": "stdout",
     "output_type": "stream",
     "text": [
      "[50]\tvalid_0's binary_logloss: 0.191753\n"
     ]
    },
    {
     "name": "stderr",
     "output_type": "stream",
     "text": [
      "\u001b[32m[I 2022-12-22 19:22:35,240]\u001b[0m Trial 35 finished with values: [0.0, 0.0] and parameters: {'learning_rate': 0.007955763538857593, 'num_leaves': 67, 'max_depth': 213, 'n_estimators': 173, 'min_child_samples': 594, 'subsample': 0.7340501315836534, 'colsample_bytree': 0.8381550217352427, 'reg_alpha': 53.416745465373424, 'reg_lambda': 168.6395225387875, 'scale_pos_weight': 668.5402704623092, 'min_split_gain': 0.3220433704064267}. \u001b[0m\n"
     ]
    },
    {
     "name": "stdout",
     "output_type": "stream",
     "text": [
      "[50]\tvalid_0's binary_logloss: 0.0659587\n"
     ]
    },
    {
     "name": "stderr",
     "output_type": "stream",
     "text": [
      "\u001b[32m[I 2022-12-22 19:22:57,071]\u001b[0m Trial 36 finished with values: [0.0, 0.0] and parameters: {'learning_rate': 0.002577481917671423, 'num_leaves': 231, 'max_depth': 77, 'n_estimators': 260, 'min_child_samples': 826, 'subsample': 0.7191982780176378, 'colsample_bytree': 0.7956512642376843, 'reg_alpha': 144.4515996892658, 'reg_lambda': 52.017732610274535, 'scale_pos_weight': 521.1363208197973, 'min_split_gain': 0.45162510127784616}. \u001b[0m\n"
     ]
    },
    {
     "name": "stdout",
     "output_type": "stream",
     "text": [
      "[50]\tvalid_0's binary_logloss: 0.0230355\n"
     ]
    },
    {
     "name": "stderr",
     "output_type": "stream",
     "text": [
      "\u001b[32m[I 2022-12-22 19:23:23,690]\u001b[0m Trial 37 finished with values: [0.0, 0.0] and parameters: {'learning_rate': 0.00249521927032488, 'num_leaves': 121, 'max_depth': 243, 'n_estimators': 210, 'min_child_samples': 302, 'subsample': 0.8411489468357538, 'colsample_bytree': 0.5645432889848052, 'reg_alpha': 138.9548168663335, 'reg_lambda': 25.752905891490798, 'scale_pos_weight': 48.30800507101285, 'min_split_gain': 0.04039658352032138}. \u001b[0m\n"
     ]
    },
    {
     "name": "stdout",
     "output_type": "stream",
     "text": [
      "[50]\tvalid_0's binary_logloss: 0.0210555\n"
     ]
    },
    {
     "name": "stderr",
     "output_type": "stream",
     "text": [
      "\u001b[32m[I 2022-12-22 19:23:43,196]\u001b[0m Trial 38 finished with values: [0.0, 0.0] and parameters: {'learning_rate': 0.00016625274015280917, 'num_leaves': 56, 'max_depth': 246, 'n_estimators': 240, 'min_child_samples': 105, 'subsample': 0.7644099394848761, 'colsample_bytree': 0.8978525969829017, 'reg_alpha': 119.43307743625758, 'reg_lambda': 156.41804132379485, 'scale_pos_weight': 709.9761232652227, 'min_split_gain': 0.8897394393824064}. \u001b[0m\n"
     ]
    },
    {
     "name": "stdout",
     "output_type": "stream",
     "text": [
      "[50]\tvalid_0's binary_logloss: 0.0918769\n"
     ]
    },
    {
     "name": "stderr",
     "output_type": "stream",
     "text": [
      "\u001b[32m[I 2022-12-22 19:24:07,644]\u001b[0m Trial 39 finished with values: [0.0, 0.0] and parameters: {'learning_rate': 0.012843376217675171, 'num_leaves': 291, 'max_depth': 181, 'n_estimators': 115, 'min_child_samples': 708, 'subsample': 0.981185065673528, 'colsample_bytree': 0.34897862385912104, 'reg_alpha': 131.02720322279254, 'reg_lambda': 136.33917163028576, 'scale_pos_weight': 109.01984818490318, 'min_split_gain': 0.6711351628612685}. \u001b[0m\n"
     ]
    },
    {
     "name": "stdout",
     "output_type": "stream",
     "text": [
      "[50]\tvalid_0's binary_logloss: 0.485755\n",
      "[100]\tvalid_0's binary_logloss: 0.443189\n",
      "[150]\tvalid_0's binary_logloss: 0.405392\n",
      "[200]\tvalid_0's binary_logloss: 0.373704\n",
      "[250]\tvalid_0's binary_logloss: 0.347261\n"
     ]
    },
    {
     "name": "stderr",
     "output_type": "stream",
     "text": [
      "\u001b[32m[I 2022-12-22 19:25:26,541]\u001b[0m Trial 40 finished with values: [0.07049819471463682, 0.9619838322045008] and parameters: {'learning_rate': 0.03256492148675404, 'num_leaves': 144, 'max_depth': 239, 'n_estimators': 262, 'min_child_samples': 506, 'subsample': 0.9122747422567423, 'colsample_bytree': 0.4749976238526813, 'reg_alpha': 13.506200061837026, 'reg_lambda': 43.64895297579028, 'scale_pos_weight': 400.05562895783953, 'min_split_gain': 0.9963250686881654}. \u001b[0m\n"
     ]
    },
    {
     "name": "stdout",
     "output_type": "stream",
     "text": [
      "[50]\tvalid_0's binary_logloss: 0.0216695\n"
     ]
    },
    {
     "name": "stderr",
     "output_type": "stream",
     "text": [
      "\u001b[32m[I 2022-12-22 19:25:48,544]\u001b[0m Trial 41 finished with values: [0.0, 0.0] and parameters: {'learning_rate': 0.0003802485054819843, 'num_leaves': 53, 'max_depth': 10, 'n_estimators': 221, 'min_child_samples': 653, 'subsample': 0.7912904023517536, 'colsample_bytree': 0.8638953839752634, 'reg_alpha': 33.60957118906853, 'reg_lambda': 13.499360472764632, 'scale_pos_weight': 324.0305883447766, 'min_split_gain': 0.8393078721057287}. \u001b[0m\n",
      "\u001b[32m[I 2022-12-22 19:26:06,496]\u001b[0m Trial 42 finished with values: [0.0, 0.0] and parameters: {'learning_rate': 0.0005203425740627183, 'num_leaves': 22, 'max_depth': 30, 'n_estimators': 40, 'min_child_samples': 346, 'subsample': 0.779457961993323, 'colsample_bytree': 0.7920900390804647, 'reg_alpha': 85.42702663544885, 'reg_lambda': 56.41134675416139, 'scale_pos_weight': 862.3170586835826, 'min_split_gain': 0.3977527513069913}. \u001b[0m\n"
     ]
    },
    {
     "name": "stdout",
     "output_type": "stream",
     "text": [
      "[50]\tvalid_0's binary_logloss: 0.741745\n",
      "[100]\tvalid_0's binary_logloss: 0.554836\n",
      "[150]\tvalid_0's binary_logloss: 0.467902\n"
     ]
    },
    {
     "name": "stderr",
     "output_type": "stream",
     "text": [
      "\u001b[32m[I 2022-12-22 19:27:12,163]\u001b[0m Trial 43 finished with values: [0.035876970842120944, 0.9997815162770374] and parameters: {'learning_rate': 0.047103377852706324, 'num_leaves': 209, 'max_depth': 239, 'n_estimators': 193, 'min_child_samples': 244, 'subsample': 0.711629475269932, 'colsample_bytree': 0.605603474727223, 'reg_alpha': 149.42857471341938, 'reg_lambda': 137.16775365614635, 'scale_pos_weight': 807.0082493837816, 'min_split_gain': 0.24335657433139601}. \u001b[0m\n"
     ]
    },
    {
     "name": "stdout",
     "output_type": "stream",
     "text": [
      "[50]\tvalid_0's binary_logloss: 0.725289\n",
      "[100]\tvalid_0's binary_logloss: 0.558622\n",
      "[150]\tvalid_0's binary_logloss: 0.485974\n",
      "[200]\tvalid_0's binary_logloss: 0.433631\n",
      "[250]\tvalid_0's binary_logloss: 0.390127\n"
     ]
    },
    {
     "name": "stderr",
     "output_type": "stream",
     "text": [
      "\u001b[32m[I 2022-12-22 19:28:28,414]\u001b[0m Trial 44 finished with values: [0.04800478473920024, 0.9995630325540747] and parameters: {'learning_rate': 0.045499004586588475, 'num_leaves': 165, 'max_depth': 260, 'n_estimators': 259, 'min_child_samples': 369, 'subsample': 0.998599604882513, 'colsample_bytree': 0.3978688331263057, 'reg_alpha': 35.57021540804084, 'reg_lambda': 175.24789410596046, 'scale_pos_weight': 636.9142177020569, 'min_split_gain': 0.6796487837469064}. \u001b[0m\n"
     ]
    },
    {
     "name": "stdout",
     "output_type": "stream",
     "text": [
      "[50]\tvalid_0's binary_logloss: 0.02157\n"
     ]
    },
    {
     "name": "stderr",
     "output_type": "stream",
     "text": [
      "\u001b[32m[I 2022-12-22 19:28:49,735]\u001b[0m Trial 45 finished with values: [0.0, 0.0] and parameters: {'learning_rate': 0.00023034596112217647, 'num_leaves': 227, 'max_depth': 146, 'n_estimators': 92, 'min_child_samples': 625, 'subsample': 0.7005625831056072, 'colsample_bytree': 0.313531551595858, 'reg_alpha': 115.43300825310277, 'reg_lambda': 148.96481225124364, 'scale_pos_weight': 465.61795943927655, 'min_split_gain': 0.9795914811323281}. \u001b[0m\n"
     ]
    },
    {
     "name": "stdout",
     "output_type": "stream",
     "text": [
      "[50]\tvalid_0's binary_logloss: 0.021814\n"
     ]
    },
    {
     "name": "stderr",
     "output_type": "stream",
     "text": [
      "\u001b[32m[I 2022-12-22 19:29:10,159]\u001b[0m Trial 46 finished with values: [0.0, 0.0] and parameters: {'learning_rate': 0.00020595059043108965, 'num_leaves': 90, 'max_depth': 122, 'n_estimators': 135, 'min_child_samples': 122, 'subsample': 0.9348587792360183, 'colsample_bytree': 0.6161413443092654, 'reg_alpha': 158.16919353086143, 'reg_lambda': 129.55677714861324, 'scale_pos_weight': 728.0276596897052, 'min_split_gain': 0.660417960761696}. \u001b[0m\n"
     ]
    },
    {
     "name": "stdout",
     "output_type": "stream",
     "text": [
      "[50]\tvalid_0's binary_logloss: 0.0813558\n"
     ]
    },
    {
     "name": "stderr",
     "output_type": "stream",
     "text": [
      "\u001b[32m[I 2022-12-22 19:29:30,082]\u001b[0m Trial 47 finished with values: [0.0, 0.0] and parameters: {'learning_rate': 0.0032364272366485, 'num_leaves': 246, 'max_depth': 21, 'n_estimators': 254, 'min_child_samples': 578, 'subsample': 0.9514792323628996, 'colsample_bytree': 0.7863467298077325, 'reg_alpha': 178.79971466893699, 'reg_lambda': 167.61545765434244, 'scale_pos_weight': 505.9692488390168, 'min_split_gain': 0.7227322662519879}. \u001b[0m\n"
     ]
    },
    {
     "name": "stdout",
     "output_type": "stream",
     "text": [
      "[50]\tvalid_0's binary_logloss: 9.20761\n"
     ]
    },
    {
     "name": "stderr",
     "output_type": "stream",
     "text": [
      "\u001b[32m[I 2022-12-22 19:29:54,507]\u001b[0m Trial 48 finished with values: [0.009376366657920056, 0.17566091326196198] and parameters: {'learning_rate': 0.08657082827679394, 'num_leaves': 126, 'max_depth': 193, 'n_estimators': 223, 'min_child_samples': 83, 'subsample': 0.8629173122556015, 'colsample_bytree': 0.3753744224552725, 'reg_alpha': 50.596655992500274, 'reg_lambda': 84.20188898730068, 'scale_pos_weight': 533.2636842580752, 'min_split_gain': 0.8882160427586316}. \u001b[0m\n"
     ]
    },
    {
     "name": "stdout",
     "output_type": "stream",
     "text": [
      "[50]\tvalid_0's binary_logloss: 0.0365913\n"
     ]
    },
    {
     "name": "stderr",
     "output_type": "stream",
     "text": [
      "\u001b[32m[I 2022-12-22 19:30:14,078]\u001b[0m Trial 49 finished with values: [0.0, 0.0] and parameters: {'learning_rate': 0.000853991893876192, 'num_leaves': 151, 'max_depth': 12, 'n_estimators': 202, 'min_child_samples': 114, 'subsample': 0.9762797179198499, 'colsample_bytree': 0.888562238484988, 'reg_alpha': 177.3042893530952, 'reg_lambda': 96.63860097265274, 'scale_pos_weight': 790.3128966282177, 'min_split_gain': 0.3441484202032433}. \u001b[0m\n"
     ]
    },
    {
     "name": "stdout",
     "output_type": "stream",
     "text": [
      "[50]\tvalid_0's binary_logloss: 0.485525\n",
      "[100]\tvalid_0's binary_logloss: 0.443798\n",
      "[150]\tvalid_0's binary_logloss: 0.406171\n",
      "[200]\tvalid_0's binary_logloss: 0.374156\n",
      "[250]\tvalid_0's binary_logloss: 0.347893\n"
     ]
    },
    {
     "name": "stderr",
     "output_type": "stream",
     "text": [
      "\u001b[32m[I 2022-12-22 19:31:41,941]\u001b[0m Trial 50 finished with values: [0.07777021484545439, 0.9735634695215206] and parameters: {'learning_rate': 0.03256492148675404, 'num_leaves': 144, 'max_depth': 52, 'n_estimators': 298, 'min_child_samples': 506, 'subsample': 0.8370047653260452, 'colsample_bytree': 0.47594828529082867, 'reg_alpha': 13.506200061837026, 'reg_lambda': 50.90664745232007, 'scale_pos_weight': 400.05562895783953, 'min_split_gain': 0.9963250686881654}. \u001b[0m\n"
     ]
    },
    {
     "name": "stdout",
     "output_type": "stream",
     "text": [
      "[50]\tvalid_0's binary_logloss: 0.760177\n"
     ]
    },
    {
     "name": "stderr",
     "output_type": "stream",
     "text": [
      "\u001b[32m[I 2022-12-22 19:32:10,824]\u001b[0m Trial 51 finished with values: [0.05105937288616378, 0.5112519117325759] and parameters: {'learning_rate': 0.0974224517624342, 'num_leaves': 73, 'max_depth': 163, 'n_estimators': 96, 'min_child_samples': 660, 'subsample': 0.8700671309937127, 'colsample_bytree': 0.7497998251342586, 'reg_alpha': 160.99682158179874, 'reg_lambda': 155.05944715062822, 'scale_pos_weight': 209.2036918635798, 'min_split_gain': 0.603249847041115}. \u001b[0m\n"
     ]
    },
    {
     "name": "stdout",
     "output_type": "stream",
     "text": [
      "[50]\tvalid_0's binary_logloss: 0.0779789\n"
     ]
    },
    {
     "name": "stderr",
     "output_type": "stream",
     "text": [
      "\u001b[32m[I 2022-12-22 19:32:37,623]\u001b[0m Trial 52 finished with values: [0.0, 0.0] and parameters: {'learning_rate': 0.004183441575434056, 'num_leaves': 144, 'max_depth': 256, 'n_estimators': 262, 'min_child_samples': 228, 'subsample': 0.7086928507534433, 'colsample_bytree': 0.514560778281095, 'reg_alpha': 13.506200061837026, 'reg_lambda': 7.211014168680174, 'scale_pos_weight': 400.05562895783953, 'min_split_gain': 0.9963250686881654}. \u001b[0m\n"
     ]
    },
    {
     "name": "stdout",
     "output_type": "stream",
     "text": [
      "[50]\tvalid_0's binary_logloss: 0.0500775\n"
     ]
    },
    {
     "name": "stderr",
     "output_type": "stream",
     "text": [
      "\u001b[32m[I 2022-12-22 19:32:59,034]\u001b[0m Trial 53 finished with values: [0.0, 0.0] and parameters: {'learning_rate': 0.00206132892967522, 'num_leaves': 15, 'max_depth': 144, 'n_estimators': 179, 'min_child_samples': 10, 'subsample': 0.7387647283412181, 'colsample_bytree': 0.34326738635596366, 'reg_alpha': 110.13919442261697, 'reg_lambda': 147.247849831234, 'scale_pos_weight': 339.69641958806176, 'min_split_gain': 0.603249847041115}. \u001b[0m\n"
     ]
    },
    {
     "name": "stdout",
     "output_type": "stream",
     "text": [
      "[50]\tvalid_0's binary_logloss: 0.220639\n"
     ]
    },
    {
     "name": "stderr",
     "output_type": "stream",
     "text": [
      "\u001b[32m[I 2022-12-22 19:33:26,894]\u001b[0m Trial 54 finished with values: [0.0, 0.0] and parameters: {'learning_rate': 0.012843376217675171, 'num_leaves': 291, 'max_depth': 178, 'n_estimators': 115, 'min_child_samples': 708, 'subsample': 0.981185065673528, 'colsample_bytree': 0.6086572111020716, 'reg_alpha': 70.62495262385565, 'reg_lambda': 136.33917163028576, 'scale_pos_weight': 477.08374072116334, 'min_split_gain': 0.6711351628612685}. \u001b[0m\n"
     ]
    },
    {
     "name": "stdout",
     "output_type": "stream",
     "text": [
      "[50]\tvalid_0's binary_logloss: 0.509488\n"
     ]
    },
    {
     "name": "stderr",
     "output_type": "stream",
     "text": [
      "\u001b[32m[I 2022-12-22 19:33:51,829]\u001b[0m Trial 55 finished with values: [0.02667641147451124, 0.3030369237491807] and parameters: {'learning_rate': 0.0199419091044948, 'num_leaves': 165, 'max_depth': 259, 'n_estimators': 193, 'min_child_samples': 244, 'subsample': 0.8360207083773059, 'colsample_bytree': 0.6472516416562913, 'reg_alpha': 149.42857471341938, 'reg_lambda': 137.16775365614635, 'scale_pos_weight': 807.0082493837816, 'min_split_gain': 0.24335657433139601}. \u001b[0m\n"
     ]
    },
    {
     "name": "stdout",
     "output_type": "stream",
     "text": [
      "[50]\tvalid_0's binary_logloss: 0.4235\n"
     ]
    },
    {
     "name": "stderr",
     "output_type": "stream",
     "text": [
      "\u001b[32m[I 2022-12-22 19:34:16,673]\u001b[0m Trial 56 finished with values: [0.0503639500147263, 0.26152501638627923] and parameters: {'learning_rate': 0.0199419091044948, 'num_leaves': 165, 'max_depth': 259, 'n_estimators': 259, 'min_child_samples': 369, 'subsample': 0.8684856539423853, 'colsample_bytree': 0.6472516416562913, 'reg_alpha': 1.8363564975875546, 'reg_lambda': 54.08976608277764, 'scale_pos_weight': 636.9142177020569, 'min_split_gain': 0.6796487837469064}. \u001b[0m\n"
     ]
    },
    {
     "name": "stdout",
     "output_type": "stream",
     "text": [
      "[50]\tvalid_0's binary_logloss: 0.0209755\n"
     ]
    },
    {
     "name": "stderr",
     "output_type": "stream",
     "text": [
      "\u001b[32m[I 2022-12-22 19:34:36,393]\u001b[0m Trial 57 finished with values: [0.0, 0.0] and parameters: {'learning_rate': 0.00016625274015280917, 'num_leaves': 67, 'max_depth': 246, 'n_estimators': 173, 'min_child_samples': 105, 'subsample': 0.7644099394848761, 'colsample_bytree': 0.8381550217352427, 'reg_alpha': 27.65158764388762, 'reg_lambda': 156.41804132379485, 'scale_pos_weight': 668.5402704623092, 'min_split_gain': 0.8897394393824064}. \u001b[0m\n"
     ]
    },
    {
     "name": "stdout",
     "output_type": "stream",
     "text": [
      "[50]\tvalid_0's binary_logloss: 8.56886\n"
     ]
    },
    {
     "name": "stderr",
     "output_type": "stream",
     "text": [
      "\u001b[32m[I 2022-12-22 19:35:05,525]\u001b[0m Trial 58 finished with values: [0.009179409955672443, 0.23639938824557571] and parameters: {'learning_rate': 0.07145653838254044, 'num_leaves': 294, 'max_depth': 135, 'n_estimators': 224, 'min_child_samples': 303, 'subsample': 0.9208759285841974, 'colsample_bytree': 0.5365235623579206, 'reg_alpha': 193.3244103720163, 'reg_lambda': 178.9651992182949, 'scale_pos_weight': 870.7811941900147, 'min_split_gain': 0.3129481689218063}. \u001b[0m\n"
     ]
    },
    {
     "name": "stdout",
     "output_type": "stream",
     "text": [
      "[50]\tvalid_0's binary_logloss: 0.121686\n"
     ]
    },
    {
     "name": "stderr",
     "output_type": "stream",
     "text": [
      "\u001b[32m[I 2022-12-22 19:35:31,809]\u001b[0m Trial 59 finished with values: [0.1689984454807906, 0.1662661131745685] and parameters: {'learning_rate': 0.021976722901146512, 'num_leaves': 228, 'max_depth': 151, 'n_estimators': 221, 'min_child_samples': 653, 'subsample': 0.9326533348469404, 'colsample_bytree': 0.8990881827943769, 'reg_alpha': 33.60957118906853, 'reg_lambda': 97.20549761507655, 'scale_pos_weight': 116.58893858261321, 'min_split_gain': 0.5758277511088711}. \u001b[0m\n"
     ]
    },
    {
     "name": "stdout",
     "output_type": "stream",
     "text": [
      "[50]\tvalid_0's binary_logloss: 0.0212882\n"
     ]
    },
    {
     "name": "stderr",
     "output_type": "stream",
     "text": [
      "\u001b[32m[I 2022-12-22 19:35:56,353]\u001b[0m Trial 60 finished with values: [0.0, 0.0] and parameters: {'learning_rate': 0.0003056439799683657, 'num_leaves': 198, 'max_depth': 260, 'n_estimators': 298, 'min_child_samples': 859, 'subsample': 0.8934630057642408, 'colsample_bytree': 0.3978688331263057, 'reg_alpha': 20.710865463857118, 'reg_lambda': 50.90664745232007, 'scale_pos_weight': 323.4182030472199, 'min_split_gain': 0.6796487837469064}. \u001b[0m\n"
     ]
    },
    {
     "name": "stdout",
     "output_type": "stream",
     "text": [
      "[50]\tvalid_0's binary_logloss: 0.0601049\n"
     ]
    },
    {
     "name": "stderr",
     "output_type": "stream",
     "text": [
      "\u001b[32m[I 2022-12-22 19:36:15,173]\u001b[0m Trial 61 finished with values: [0.0, 0.0] and parameters: {'learning_rate': 0.00206132892967522, 'num_leaves': 4, 'max_depth': 178, 'n_estimators': 179, 'min_child_samples': 10, 'subsample': 0.7935490848252069, 'colsample_bytree': 0.6086572111020716, 'reg_alpha': 110.13919442261697, 'reg_lambda': 147.247849831234, 'scale_pos_weight': 478.08794343918316, 'min_split_gain': 0.9161099747491462}. \u001b[0m\n"
     ]
    },
    {
     "name": "stdout",
     "output_type": "stream",
     "text": [
      "[50]\tvalid_0's binary_logloss: 0.0383301\n"
     ]
    },
    {
     "name": "stderr",
     "output_type": "stream",
     "text": [
      "\u001b[32m[I 2022-12-22 19:36:34,114]\u001b[0m Trial 62 finished with values: [0.0, 0.0] and parameters: {'learning_rate': 0.0008546250173227438, 'num_leaves': 175, 'max_depth': 139, 'n_estimators': 260, 'min_child_samples': 826, 'subsample': 0.7191982780176378, 'colsample_bytree': 0.8551653168008106, 'reg_alpha': 144.4515996892658, 'reg_lambda': 111.46488512124641, 'scale_pos_weight': 923.7574678806583, 'min_split_gain': 0.45162510127784616}. \u001b[0m\n"
     ]
    },
    {
     "name": "stdout",
     "output_type": "stream",
     "text": [
      "[50]\tvalid_0's binary_logloss: 0.13908\n"
     ]
    },
    {
     "name": "stderr",
     "output_type": "stream",
     "text": [
      "\u001b[32m[I 2022-12-22 19:36:54,302]\u001b[0m Trial 63 finished with values: [0.0, 0.0] and parameters: {'learning_rate': 0.021976722901146512, 'num_leaves': 53, 'max_depth': 10, 'n_estimators': 221, 'min_child_samples': 824, 'subsample': 0.9326533348469404, 'colsample_bytree': 0.8990881827943769, 'reg_alpha': 32.16335798912071, 'reg_lambda': 113.56816966950612, 'scale_pos_weight': 116.58893858261321, 'min_split_gain': 0.09378016816755208}. \u001b[0m\n"
     ]
    },
    {
     "name": "stdout",
     "output_type": "stream",
     "text": [
      "[50]\tvalid_0's binary_logloss: 0.489465\n",
      "[100]\tvalid_0's binary_logloss: 0.446499\n",
      "[150]\tvalid_0's binary_logloss: 0.410006\n",
      "[200]\tvalid_0's binary_logloss: 0.379458\n",
      "[250]\tvalid_0's binary_logloss: 0.3545\n"
     ]
    },
    {
     "name": "stderr",
     "output_type": "stream",
     "text": [
      "\u001b[32m[I 2022-12-22 19:38:16,197]\u001b[0m Trial 64 finished with values: [0.06774504020615356, 0.9534629670089578] and parameters: {'learning_rate': 0.03256492148675404, 'num_leaves': 144, 'max_depth': 193, 'n_estimators': 262, 'min_child_samples': 506, 'subsample': 0.9122747422567423, 'colsample_bytree': 0.4749976238526813, 'reg_alpha': 126.29699287243668, 'reg_lambda': 114.64189190143288, 'scale_pos_weight': 400.05562895783953, 'min_split_gain': 0.7387317672241934}. \u001b[0m\n"
     ]
    },
    {
     "name": "stdout",
     "output_type": "stream",
     "text": [
      "[50]\tvalid_0's binary_logloss: 0.0274481\n"
     ]
    },
    {
     "name": "stderr",
     "output_type": "stream",
     "text": [
      "\u001b[32m[I 2022-12-22 19:38:38,371]\u001b[0m Trial 65 finished with values: [0.0, 0.0] and parameters: {'learning_rate': 0.0004520667455456043, 'num_leaves': 63, 'max_depth': 284, 'n_estimators': 218, 'min_child_samples': 756, 'subsample': 0.8588382181256151, 'colsample_bytree': 0.488623940211411, 'reg_alpha': 152.7415912136581, 'reg_lambda': 156.5907095747719, 'scale_pos_weight': 779.1516685505, 'min_split_gain': 0.5755053937326067}. \u001b[0m\n",
      "\u001b[32m[I 2022-12-22 19:38:54,820]\u001b[0m Trial 66 finished with values: [0.0, 0.0] and parameters: {'learning_rate': 0.0009928954108636488, 'num_leaves': 101, 'max_depth': 186, 'n_estimators': 15, 'min_child_samples': 756, 'subsample': 0.8588382181256151, 'colsample_bytree': 0.764800934415276, 'reg_alpha': 182.27464199765896, 'reg_lambda': 7.728939716232297, 'scale_pos_weight': 354.9127859167134, 'min_split_gain': 0.5755053937326067}. \u001b[0m\n"
     ]
    },
    {
     "name": "stdout",
     "output_type": "stream",
     "text": [
      "[50]\tvalid_0's binary_logloss: 0.205755\n"
     ]
    },
    {
     "name": "stderr",
     "output_type": "stream",
     "text": [
      "\u001b[32m[I 2022-12-22 19:39:16,124]\u001b[0m Trial 67 finished with values: [0.0, 0.0] and parameters: {'learning_rate': 0.007955763538857593, 'num_leaves': 151, 'max_depth': 12, 'n_estimators': 202, 'min_child_samples': 594, 'subsample': 0.9762797179198499, 'colsample_bytree': 0.888562238484988, 'reg_alpha': 94.12402593133105, 'reg_lambda': 168.6395225387875, 'scale_pos_weight': 790.3128966282177, 'min_split_gain': 0.3441484202032433}. \u001b[0m\n"
     ]
    },
    {
     "name": "stdout",
     "output_type": "stream",
     "text": [
      "[50]\tvalid_0's binary_logloss: 0.0206763\n"
     ]
    },
    {
     "name": "stderr",
     "output_type": "stream",
     "text": [
      "\u001b[32m[I 2022-12-22 19:39:37,134]\u001b[0m Trial 68 finished with values: [0.0, 0.0] and parameters: {'learning_rate': 0.00018003112877879087, 'num_leaves': 100, 'max_depth': 269, 'n_estimators': 218, 'min_child_samples': 791, 'subsample': 0.7848824364122553, 'colsample_bytree': 0.6086572111020716, 'reg_alpha': 95.08531366733818, 'reg_lambda': 184.08902546588166, 'scale_pos_weight': 458.4644451993204, 'min_split_gain': 0.9161099747491462}. \u001b[0m\n",
      "\u001b[32m[I 2022-12-22 19:39:54,170]\u001b[0m Trial 69 finished with values: [0.00593883768462458, 0.0672929866724929] and parameters: {'learning_rate': 0.07976644914176564, 'num_leaves': 74, 'max_depth': 221, 'n_estimators': 13, 'min_child_samples': 303, 'subsample': 0.7167822787445075, 'colsample_bytree': 0.4905319810143839, 'reg_alpha': 117.7133167993228, 'reg_lambda': 64.77832311584571, 'scale_pos_weight': 992.6895752534957, 'min_split_gain': 0.8788315262813289}. \u001b[0m\n",
      "\u001b[32m[I 2022-12-22 19:40:10,065]\u001b[0m Trial 70 finished with values: [0.004125491701045764, 0.06576360061175443] and parameters: {'learning_rate': 0.0974224517624342, 'num_leaves': 73, 'max_depth': 221, 'n_estimators': 13, 'min_child_samples': 303, 'subsample': 0.8899258097232526, 'colsample_bytree': 0.7497998251342586, 'reg_alpha': 117.7133167993228, 'reg_lambda': 64.77832311584571, 'scale_pos_weight': 870.7811941900147, 'min_split_gain': 0.8788315262813289}. \u001b[0m\n"
     ]
    },
    {
     "name": "stdout",
     "output_type": "stream",
     "text": [
      "[50]\tvalid_0's binary_logloss: 0.127203\n"
     ]
    },
    {
     "name": "stderr",
     "output_type": "stream",
     "text": [
      "\u001b[32m[I 2022-12-22 19:40:36,562]\u001b[0m Trial 71 finished with values: [0.1689984454807906, 0.1662661131745685] and parameters: {'learning_rate': 0.021976722901146512, 'num_leaves': 291, 'max_depth': 181, 'n_estimators': 195, 'min_child_samples': 576, 'subsample': 0.981185065673528, 'colsample_bytree': 0.34897862385912104, 'reg_alpha': 32.16335798912071, 'reg_lambda': 136.33917163028576, 'scale_pos_weight': 116.58893858261321, 'min_split_gain': 0.09378016816755208}. \u001b[0m\n"
     ]
    },
    {
     "name": "stdout",
     "output_type": "stream",
     "text": [
      "[50]\tvalid_0's binary_logloss: 0.842042\n",
      "[100]\tvalid_0's binary_logloss: 0.647712\n",
      "[150]\tvalid_0's binary_logloss: 0.559049\n",
      "[200]\tvalid_0's binary_logloss: 0.49528\n",
      "[250]\tvalid_0's binary_logloss: 0.442602\n"
     ]
    },
    {
     "name": "stderr",
     "output_type": "stream",
     "text": [
      "\u001b[32m[I 2022-12-22 19:41:52,778]\u001b[0m Trial 72 finished with values: [0.03185695343956958, 1.0] and parameters: {'learning_rate': 0.045499004586588475, 'num_leaves': 165, 'max_depth': 156, 'n_estimators': 259, 'min_child_samples': 196, 'subsample': 0.998599604882513, 'colsample_bytree': 0.3978688331263057, 'reg_alpha': 35.57021540804084, 'reg_lambda': 175.24789410596046, 'scale_pos_weight': 848.459104687216, 'min_split_gain': 0.6796487837469064}. \u001b[0m\n"
     ]
    },
    {
     "name": "stdout",
     "output_type": "stream",
     "text": [
      "[50]\tvalid_0's binary_logloss: 0.0225024\n"
     ]
    },
    {
     "name": "stderr",
     "output_type": "stream",
     "text": [
      "\u001b[32m[I 2022-12-22 19:42:13,765]\u001b[0m Trial 73 finished with values: [0.0, 0.0] and parameters: {'learning_rate': 0.00038881419139765, 'num_leaves': 227, 'max_depth': 146, 'n_estimators': 92, 'min_child_samples': 625, 'subsample': 0.9318663029850309, 'colsample_bytree': 0.7687046410970257, 'reg_alpha': 115.43300825310277, 'reg_lambda': 63.92876631318678, 'scale_pos_weight': 367.62939621874636, 'min_split_gain': 0.36793090078722746}. \u001b[0m\n"
     ]
    },
    {
     "name": "stdout",
     "output_type": "stream",
     "text": [
      "[50]\tvalid_0's binary_logloss: 0.713114\n",
      "[100]\tvalid_0's binary_logloss: 0.638253\n",
      "[150]\tvalid_0's binary_logloss: 0.615637\n",
      "[200]\tvalid_0's binary_logloss: 0.600392\n",
      "[250]\tvalid_0's binary_logloss: 0.587227\n"
     ]
    },
    {
     "name": "stderr",
     "output_type": "stream",
     "text": [
      "\u001b[32m[I 2022-12-22 19:43:00,581]\u001b[0m Trial 74 finished with values: [0.01604252476205739, 0.8420362682980118] and parameters: {'learning_rate': 0.045499004586588475, 'num_leaves': 21, 'max_depth': 193, 'n_estimators': 294, 'min_child_samples': 369, 'subsample': 0.7706502776896512, 'colsample_bytree': 0.9977878795620163, 'reg_alpha': 35.57021540804084, 'reg_lambda': 175.24789410596046, 'scale_pos_weight': 501.5862873685331, 'min_split_gain': 0.33818483349911743}. \u001b[0m\n"
     ]
    },
    {
     "name": "stdout",
     "output_type": "stream",
     "text": [
      "[50]\tvalid_0's binary_logloss: 0.787997\n",
      "[100]\tvalid_0's binary_logloss: 0.642379\n",
      "[150]\tvalid_0's binary_logloss: 0.584369\n",
      "[200]\tvalid_0's binary_logloss: 0.541768\n",
      "[250]\tvalid_0's binary_logloss: 0.504876\n"
     ]
    },
    {
     "name": "stderr",
     "output_type": "stream",
     "text": [
      "\u001b[32m[I 2022-12-22 19:44:08,527]\u001b[0m Trial 75 finished with values: [0.02460530461899536, 0.9895127812977933] and parameters: {'learning_rate': 0.045499004586588475, 'num_leaves': 93, 'max_depth': 239, 'n_estimators': 259, 'min_child_samples': 369, 'subsample': 0.711629475269932, 'colsample_bytree': 0.3978688331263057, 'reg_alpha': 35.57021540804084, 'reg_lambda': 137.16775365614635, 'scale_pos_weight': 636.9142177020569, 'min_split_gain': 0.24335657433139601}. \u001b[0m\n"
     ]
    },
    {
     "name": "stdout",
     "output_type": "stream",
     "text": [
      "[50]\tvalid_0's binary_logloss: 8.31402\n"
     ]
    },
    {
     "name": "stderr",
     "output_type": "stream",
     "text": [
      "\u001b[32m[I 2022-12-22 19:44:36,164]\u001b[0m Trial 76 finished with values: [0.005075808381658712, 0.08433471706357876] and parameters: {'learning_rate': 0.07145653838254044, 'num_leaves': 294, 'max_depth': 56, 'n_estimators': 155, 'min_child_samples': 172, 'subsample': 0.9848749228031652, 'colsample_bytree': 0.43873163635180235, 'reg_alpha': 65.1526791803888, 'reg_lambda': 153.24599001541554, 'scale_pos_weight': 930.9256324655473, 'min_split_gain': 0.3129481689218063}. \u001b[0m\n"
     ]
    },
    {
     "name": "stdout",
     "output_type": "stream",
     "text": [
      "[50]\tvalid_0's binary_logloss: 0.0884595\n"
     ]
    },
    {
     "name": "stderr",
     "output_type": "stream",
     "text": [
      "\u001b[32m[I 2022-12-22 19:44:59,476]\u001b[0m Trial 77 finished with values: [0.0, 0.0] and parameters: {'learning_rate': 0.0036221903735665162, 'num_leaves': 21, 'max_depth': 193, 'n_estimators': 294, 'min_child_samples': 506, 'subsample': 0.9122747422567423, 'colsample_bytree': 0.4749976238526813, 'reg_alpha': 13.506200061837026, 'reg_lambda': 43.64895297579028, 'scale_pos_weight': 501.5862873685331, 'min_split_gain': 0.33818483349911743}. \u001b[0m\n"
     ]
    },
    {
     "name": "stdout",
     "output_type": "stream",
     "text": [
      "[50]\tvalid_0's binary_logloss: 0.0867081\n"
     ]
    },
    {
     "name": "stderr",
     "output_type": "stream",
     "text": [
      "\u001b[32m[I 2022-12-22 19:45:24,812]\u001b[0m Trial 78 finished with values: [0.0, 0.0] and parameters: {'learning_rate': 0.012843376217675171, 'num_leaves': 251, 'max_depth': 144, 'n_estimators': 115, 'min_child_samples': 388, 'subsample': 0.981185065673528, 'colsample_bytree': 0.6227919326537947, 'reg_alpha': 41.62061842266485, 'reg_lambda': 136.33917163028576, 'scale_pos_weight': 109.01984818490318, 'min_split_gain': 0.6711351628612685}. \u001b[0m\n"
     ]
    },
    {
     "name": "stdout",
     "output_type": "stream",
     "text": [
      "[50]\tvalid_0's binary_logloss: 0.0211788\n"
     ]
    },
    {
     "name": "stderr",
     "output_type": "stream",
     "text": [
      "\u001b[32m[I 2022-12-22 19:45:43,280]\u001b[0m Trial 79 finished with values: [0.0, 0.0] and parameters: {'learning_rate': 0.0001534896670371243, 'num_leaves': 67, 'max_depth': 86, 'n_estimators': 173, 'min_child_samples': 597, 'subsample': 0.7875144761203813, 'colsample_bytree': 0.8381550217352427, 'reg_alpha': 117.46496101949508, 'reg_lambda': 168.6395225387875, 'scale_pos_weight': 869.8910745476046, 'min_split_gain': 0.2984582445852172}. \u001b[0m\n"
     ]
    },
    {
     "name": "stdout",
     "output_type": "stream",
     "text": [
      "[50]\tvalid_0's binary_logloss: 0.173196\n"
     ]
    },
    {
     "name": "stderr",
     "output_type": "stream",
     "text": [
      "\u001b[32m[I 2022-12-22 19:46:09,254]\u001b[0m Trial 80 finished with values: [0.0, 0.0] and parameters: {'learning_rate': 0.010724284100088579, 'num_leaves': 165, 'max_depth': 239, 'n_estimators': 262, 'min_child_samples': 369, 'subsample': 0.998599604882513, 'colsample_bytree': 0.3978688331263057, 'reg_alpha': 13.506200061837026, 'reg_lambda': 43.64895297579028, 'scale_pos_weight': 400.05562895783953, 'min_split_gain': 0.9963250686881654}. \u001b[0m\n",
      "\u001b[32m[I 2022-12-22 19:46:27,293]\u001b[0m Trial 81 finished with values: [0.02226582494454871, 0.5702425169324885] and parameters: {'learning_rate': 0.04321511988499542, 'num_leaves': 267, 'max_depth': 217, 'n_estimators': 14, 'min_child_samples': 647, 'subsample': 0.8034113139041839, 'colsample_bytree': 0.9534432820464318, 'reg_alpha': 66.66144348867323, 'reg_lambda': 117.28522608019765, 'scale_pos_weight': 310.11066906712415, 'min_split_gain': 0.554292742153918}. \u001b[0m\n"
     ]
    },
    {
     "name": "stdout",
     "output_type": "stream",
     "text": [
      "[50]\tvalid_0's binary_logloss: 0.0499378\n"
     ]
    },
    {
     "name": "stderr",
     "output_type": "stream",
     "text": [
      "\u001b[32m[I 2022-12-22 19:46:47,698]\u001b[0m Trial 82 finished with values: [0.0, 0.0] and parameters: {'learning_rate': 0.0016970151386115188, 'num_leaves': 138, 'max_depth': 186, 'n_estimators': 189, 'min_child_samples': 972, 'subsample': 0.9523273255415193, 'colsample_bytree': 0.764800934415276, 'reg_alpha': 95.08531366733818, 'reg_lambda': 67.75218572820714, 'scale_pos_weight': 545.5207714372201, 'min_split_gain': 0.5755053937326067}. \u001b[0m\n"
     ]
    },
    {
     "name": "stdout",
     "output_type": "stream",
     "text": [
      "[50]\tvalid_0's binary_logloss: 0.174617\n"
     ]
    },
    {
     "name": "stderr",
     "output_type": "stream",
     "text": [
      "\u001b[32m[I 2022-12-22 19:47:08,065]\u001b[0m Trial 83 finished with values: [0.0, 0.0] and parameters: {'learning_rate': 0.006286496755043247, 'num_leaves': 29, 'max_depth': 239, 'n_estimators': 262, 'min_child_samples': 506, 'subsample': 0.9400280864203613, 'colsample_bytree': 0.7550020042477927, 'reg_alpha': 162.15348520463607, 'reg_lambda': 43.64895297579028, 'scale_pos_weight': 846.3403859263354, 'min_split_gain': 0.9963250686881654}. \u001b[0m\n"
     ]
    },
    {
     "name": "stdout",
     "output_type": "stream",
     "text": [
      "[50]\tvalid_0's binary_logloss: 0.0724078\n"
     ]
    },
    {
     "name": "stderr",
     "output_type": "stream",
     "text": [
      "\u001b[32m[I 2022-12-22 19:47:30,408]\u001b[0m Trial 84 finished with values: [0.0, 0.0] and parameters: {'learning_rate': 0.00206132892967522, 'num_leaves': 218, 'max_depth': 138, 'n_estimators': 81, 'min_child_samples': 10, 'subsample': 0.7387647283412181, 'colsample_bytree': 0.34326738635596366, 'reg_alpha': 110.13919442261697, 'reg_lambda': 147.247849831234, 'scale_pos_weight': 911.6028012358373, 'min_split_gain': 0.7579896422389485}. \u001b[0m\n",
      "\u001b[32m[I 2022-12-22 19:47:46,579]\u001b[0m Trial 85 finished with values: [0.0, 0.0] and parameters: {'learning_rate': 0.00206132892967522, 'num_leaves': 150, 'max_depth': 86, 'n_estimators': 15, 'min_child_samples': 597, 'subsample': 0.7387647283412181, 'colsample_bytree': 0.34326738635596366, 'reg_alpha': 110.13919442261697, 'reg_lambda': 147.247849831234, 'scale_pos_weight': 911.6028012358373, 'min_split_gain': 0.7107978734521417}. \u001b[0m\n"
     ]
    },
    {
     "name": "stdout",
     "output_type": "stream",
     "text": [
      "[50]\tvalid_0's binary_logloss: 0.218787\n"
     ]
    },
    {
     "name": "stderr",
     "output_type": "stream",
     "text": [
      "\u001b[32m[I 2022-12-22 19:48:12,414]\u001b[0m Trial 86 finished with values: [0.12204545454545454, 0.2346515184618746] and parameters: {'learning_rate': 0.0199419091044948, 'num_leaves': 165, 'max_depth': 259, 'n_estimators': 278, 'min_child_samples': 506, 'subsample': 0.8360207083773059, 'colsample_bytree': 0.6472516416562913, 'reg_alpha': 13.506200061837026, 'reg_lambda': 43.64895297579028, 'scale_pos_weight': 266.806554199829, 'min_split_gain': 0.9963250686881654}. \u001b[0m\n"
     ]
    },
    {
     "name": "stdout",
     "output_type": "stream",
     "text": [
      "[50]\tvalid_0's binary_logloss: 9.20761\n"
     ]
    },
    {
     "name": "stderr",
     "output_type": "stream",
     "text": [
      "\u001b[32m[I 2022-12-22 19:48:36,889]\u001b[0m Trial 87 finished with values: [0.009376366657920056, 0.17566091326196198] and parameters: {'learning_rate': 0.08657082827679394, 'num_leaves': 126, 'max_depth': 193, 'n_estimators': 134, 'min_child_samples': 83, 'subsample': 0.9067634494002167, 'colsample_bytree': 0.3753744224552725, 'reg_alpha': 50.596655992500274, 'reg_lambda': 84.20188898730068, 'scale_pos_weight': 533.2636842580752, 'min_split_gain': 0.7578751410990541}. \u001b[0m\n"
     ]
    },
    {
     "name": "stdout",
     "output_type": "stream",
     "text": [
      "[50]\tvalid_0's binary_logloss: 0.0255545\n"
     ]
    },
    {
     "name": "stderr",
     "output_type": "stream",
     "text": [
      "\u001b[32m[I 2022-12-22 19:49:01,349]\u001b[0m Trial 88 finished with values: [0.0, 0.0] and parameters: {'learning_rate': 0.0004520667455456043, 'num_leaves': 274, 'max_depth': 262, 'n_estimators': 213, 'min_child_samples': 100, 'subsample': 0.9114254637980101, 'colsample_bytree': 0.6856178944528284, 'reg_alpha': 198.7368635673352, 'reg_lambda': 7.211014168680174, 'scale_pos_weight': 840.0787202111334, 'min_split_gain': 0.12339004740284054}. \u001b[0m\n",
      "\u001b[32m[I 2022-12-22 19:49:25,146]\u001b[0m Trial 89 finished with values: [0.023562244927980903, 0.6124098754642779] and parameters: {'learning_rate': 0.03256492148675404, 'num_leaves': 144, 'max_depth': 33, 'n_estimators': 40, 'min_child_samples': 346, 'subsample': 0.779457961993323, 'colsample_bytree': 0.7920900390804647, 'reg_alpha': 85.42702663544885, 'reg_lambda': 43.64895297579028, 'scale_pos_weight': 400.05562895783953, 'min_split_gain': 0.9963250686881654}. \u001b[0m\n"
     ]
    },
    {
     "name": "stdout",
     "output_type": "stream",
     "text": [
      "[50]\tvalid_0's binary_logloss: 0.0383053\n"
     ]
    },
    {
     "name": "stderr",
     "output_type": "stream",
     "text": [
      "\u001b[32m[I 2022-12-22 19:49:44,123]\u001b[0m Trial 90 finished with values: [0.0, 0.0] and parameters: {'learning_rate': 0.0008546250173227438, 'num_leaves': 175, 'max_depth': 139, 'n_estimators': 202, 'min_child_samples': 295, 'subsample': 0.9762834527569594, 'colsample_bytree': 0.8551653168008106, 'reg_alpha': 105.41823869108154, 'reg_lambda': 111.46488512124641, 'scale_pos_weight': 923.7574678806583, 'min_split_gain': 0.4225377196053729}. \u001b[0m\n",
      "\u001b[32m[I 2022-12-22 19:50:02,760]\u001b[0m Trial 91 finished with values: [0.021484434172541995, 0.5422766003932707] and parameters: {'learning_rate': 0.03256492148675404, 'num_leaves': 94, 'max_depth': 27, 'n_estimators': 23, 'min_child_samples': 390, 'subsample': 0.8581969088636741, 'colsample_bytree': 0.8685123772596142, 'reg_alpha': 22.53183206927627, 'reg_lambda': 79.1918435359441, 'scale_pos_weight': 400.05562895783953, 'min_split_gain': 0.9963250686881654}. \u001b[0m\n"
     ]
    },
    {
     "name": "stdout",
     "output_type": "stream",
     "text": [
      "[50]\tvalid_0's binary_logloss: 11.5737\n"
     ]
    },
    {
     "name": "stderr",
     "output_type": "stream",
     "text": [
      "\u001b[32m[I 2022-12-22 19:50:30,240]\u001b[0m Trial 92 finished with values: [0.012505761869451069, 0.06816692156434345] and parameters: {'learning_rate': 0.08864205137553138, 'num_leaves': 274, 'max_depth': 178, 'n_estimators': 74, 'min_child_samples': 100, 'subsample': 0.7935490848252069, 'colsample_bytree': 0.6086572111020716, 'reg_alpha': 34.720805304565936, 'reg_lambda': 88.54482794687601, 'scale_pos_weight': 840.0787202111334, 'min_split_gain': 0.9161099747491462}. \u001b[0m\n"
     ]
    },
    {
     "name": "stdout",
     "output_type": "stream",
     "text": [
      "[50]\tvalid_0's binary_logloss: 0.0335411\n"
     ]
    },
    {
     "name": "stderr",
     "output_type": "stream",
     "text": [
      "\u001b[32m[I 2022-12-22 19:50:52,463]\u001b[0m Trial 93 finished with values: [0.0, 0.0] and parameters: {'learning_rate': 0.000853991893876192, 'num_leaves': 151, 'max_depth': 12, 'n_estimators': 202, 'min_child_samples': 83, 'subsample': 0.9762797179198499, 'colsample_bytree': 0.3753744224552725, 'reg_alpha': 177.3042893530952, 'reg_lambda': 84.20188898730068, 'scale_pos_weight': 533.2636842580752, 'min_split_gain': 0.3441484202032433}. \u001b[0m\n"
     ]
    },
    {
     "name": "stdout",
     "output_type": "stream",
     "text": [
      "[50]\tvalid_0's binary_logloss: 0.522402\n",
      "[100]\tvalid_0's binary_logloss: 0.474064\n",
      "[150]\tvalid_0's binary_logloss: 0.458927\n",
      "[200]\tvalid_0's binary_logloss: 0.450782\n"
     ]
    },
    {
     "name": "stderr",
     "output_type": "stream",
     "text": [
      "\u001b[32m[I 2022-12-22 19:51:42,575]\u001b[0m Trial 94 finished with values: [0.030038086569094787, 0.5479571771902993] and parameters: {'learning_rate': 0.04321511988499542, 'num_leaves': 13, 'max_depth': 217, 'n_estimators': 248, 'min_child_samples': 449, 'subsample': 0.8034113139041839, 'colsample_bytree': 0.30650270547439284, 'reg_alpha': 43.79786659974882, 'reg_lambda': 117.28522608019765, 'scale_pos_weight': 310.11066906712415, 'min_split_gain': 0.35164496612179874}. \u001b[0m\n"
     ]
    },
    {
     "name": "stdout",
     "output_type": "stream",
     "text": [
      "[50]\tvalid_0's binary_logloss: 0.0204019\n"
     ]
    },
    {
     "name": "stderr",
     "output_type": "stream",
     "text": [
      "\u001b[32m[I 2022-12-22 19:52:06,991]\u001b[0m Trial 95 finished with values: [0.0, 0.0] and parameters: {'learning_rate': 0.00020595059043108965, 'num_leaves': 294, 'max_depth': 135, 'n_estimators': 155, 'min_child_samples': 122, 'subsample': 0.9348587792360183, 'colsample_bytree': 0.5365235623579206, 'reg_alpha': 193.3244103720163, 'reg_lambda': 178.9651992182949, 'scale_pos_weight': 316.864882291319, 'min_split_gain': 0.660417960761696}. \u001b[0m\n"
     ]
    },
    {
     "name": "stdout",
     "output_type": "stream",
     "text": [
      "[50]\tvalid_0's binary_logloss: 0.629223\n",
      "[100]\tvalid_0's binary_logloss: 0.445083\n",
      "[150]\tvalid_0's binary_logloss: 0.364038\n",
      "[200]\tvalid_0's binary_logloss: 0.302947\n"
     ]
    },
    {
     "name": "stderr",
     "output_type": "stream",
     "text": [
      "\u001b[32m[I 2022-12-22 19:53:21,799]\u001b[0m Trial 96 finished with values: [0.0930663247654517, 0.9991260651081495] and parameters: {'learning_rate': 0.0540031066277866, 'num_leaves': 246, 'max_depth': 21, 'n_estimators': 216, 'min_child_samples': 578, 'subsample': 0.9514792323628996, 'colsample_bytree': 0.6086572111020716, 'reg_alpha': 34.720805304565936, 'reg_lambda': 184.08902546588166, 'scale_pos_weight': 505.9692488390168, 'min_split_gain': 0.7227322662519879}. \u001b[0m\n",
      "\u001b[32m[I 2022-12-22 19:53:43,758]\u001b[0m Trial 97 finished with values: [0.0, 0.0] and parameters: {'learning_rate': 0.004308151494622505, 'num_leaves': 158, 'max_depth': 227, 'n_estimators': 42, 'min_child_samples': 892, 'subsample': 0.7290766099813752, 'colsample_bytree': 0.4464948604842264, 'reg_alpha': 33.49501506190402, 'reg_lambda': 141.15504861498772, 'scale_pos_weight': 400.40273020420716, 'min_split_gain': 0.4877632617406291}. \u001b[0m\n"
     ]
    },
    {
     "name": "stdout",
     "output_type": "stream",
     "text": [
      "[50]\tvalid_0's binary_logloss: 0.0377782\n"
     ]
    },
    {
     "name": "stderr",
     "output_type": "stream",
     "text": [
      "\u001b[32m[I 2022-12-22 19:54:03,068]\u001b[0m Trial 98 finished with values: [0.0, 0.0] and parameters: {'learning_rate': 0.0008546250173227438, 'num_leaves': 175, 'max_depth': 139, 'n_estimators': 202, 'min_child_samples': 660, 'subsample': 0.7592607485456778, 'colsample_bytree': 0.7497998251342586, 'reg_alpha': 105.41823869108154, 'reg_lambda': 66.43165691155288, 'scale_pos_weight': 923.7574678806583, 'min_split_gain': 0.4225377196053729}. \u001b[0m\n"
     ]
    },
    {
     "name": "stdout",
     "output_type": "stream",
     "text": [
      "[50]\tvalid_0's binary_logloss: 8.34832\n"
     ]
    },
    {
     "name": "stderr",
     "output_type": "stream",
     "text": [
      "\u001b[32m[I 2022-12-22 19:54:26,138]\u001b[0m Trial 99 finished with values: [0.01234014684085347, 0.1173257592309373] and parameters: {'learning_rate': 0.0974224517624342, 'num_leaves': 126, 'max_depth': 163, 'n_estimators': 96, 'min_child_samples': 17, 'subsample': 0.7592607485456778, 'colsample_bytree': 0.7497998251342586, 'reg_alpha': 160.99682158179874, 'reg_lambda': 84.20188898730068, 'scale_pos_weight': 533.2636842580752, 'min_split_gain': 0.8882160427586316}. \u001b[0m\n"
     ]
    }
   ],
   "source": [
    "study = optuna.create_study(directions=[ 'maximize', 'maximize'])\n",
    "study.optimize(objective, n_trials=100)"
   ]
  },
  {
   "cell_type": "code",
   "execution_count": 28,
   "metadata": {},
   "outputs": [
    {
     "name": "stdout",
     "output_type": "stream",
     "text": [
      "[LightGBM] [Warning] Unknown parameter boosting_type=FrozenTrial(number=3,\n",
      "[LightGBM] [Warning] 12, is set=, 12,= will be ignored. Current value: 12,=\n",
      "[LightGBM] [Warning] 22, is set=, 22,= will be ignored. Current value: 22,=\n",
      "[LightGBM] [Warning] 19, is set=, 19,= will be ignored. Current value: 19,=\n",
      "[LightGBM] [Warning] 9, is set=, 9,= will be ignored. Current value: 9,=\n",
      "[LightGBM] [Warning] num_leaves': is set=, num_leaves':= will be ignored. Current value: num_leaves':=\n",
      "[LightGBM] [Warning] log is set=True,, log=False, will be ignored. Current value: log=True,\n",
      "[LightGBM] [Warning] low is set=0.0001,, low=2, will be ignored. Current value: low=0.0001,\n",
      "[LightGBM] [Warning] step is set=None),, step=1), will be ignored. Current value: step=None),\n",
      "[LightGBM] [Warning] max_depth': is set=, max_depth':= will be ignored. Current value: max_depth':=\n",
      "[LightGBM] [Warning] IntDistribution(high is set=300,, IntDistribution(high=300, will be ignored. Current value: IntDistribution(high=300,\n",
      "[LightGBM] [Warning] log is set=True,, log=False, will be ignored. Current value: log=True,\n",
      "[LightGBM] [Warning] low is set=0.0001,, low=1, will be ignored. Current value: low=0.0001,\n",
      "[LightGBM] [Warning] step is set=None),, step=1), will be ignored. Current value: step=None),\n",
      "[LightGBM] [Warning] n_estimators': is set=, n_estimators':= will be ignored. Current value: n_estimators':=\n",
      "[LightGBM] [Warning] IntDistribution(high is set=300,, IntDistribution(high=300, will be ignored. Current value: IntDistribution(high=300,\n",
      "[LightGBM] [Warning] log is set=True,, log=False, will be ignored. Current value: log=True,\n",
      "[LightGBM] [Warning] low is set=0.0001,, low=10, will be ignored. Current value: low=0.0001,\n",
      "[LightGBM] [Warning] step is set=None),, step=1), will be ignored. Current value: step=None),\n",
      "[LightGBM] [Warning] min_child_samples': is set=, min_child_samples':= will be ignored. Current value: min_child_samples':=\n",
      "[LightGBM] [Warning] IntDistribution(high is set=300,, IntDistribution(high=1000, will be ignored. Current value: IntDistribution(high=300,\n",
      "[LightGBM] [Warning] log is set=True,, log=False, will be ignored. Current value: log=True,\n",
      "[LightGBM] [Warning] low is set=0.0001,, low=10, will be ignored. Current value: low=0.0001,\n",
      "[LightGBM] [Warning] step is set=None),, step=1), will be ignored. Current value: step=None),\n",
      "[LightGBM] [Warning] subsample': is set=, subsample':= will be ignored. Current value: subsample':=\n",
      "[LightGBM] [Warning] FloatDistribution(high is set=0.1,, FloatDistribution(high=1.0, will be ignored. Current value: FloatDistribution(high=0.1,\n",
      "[LightGBM] [Warning] log is set=True,, log=False, will be ignored. Current value: log=True,\n",
      "[LightGBM] [Warning] low is set=0.0001,, low=0.7, will be ignored. Current value: low=0.0001,\n",
      "[LightGBM] [Warning] step is set=None),, step=None), will be ignored. Current value: step=None),\n",
      "[LightGBM] [Warning] colsample_bytree': is set=, colsample_bytree':= will be ignored. Current value: colsample_bytree':=\n",
      "[LightGBM] [Warning] FloatDistribution(high is set=0.1,, FloatDistribution(high=1.0, will be ignored. Current value: FloatDistribution(high=0.1,\n",
      "[LightGBM] [Warning] log is set=True,, log=False, will be ignored. Current value: log=True,\n",
      "[LightGBM] [Warning] low is set=0.0001,, low=0.3, will be ignored. Current value: low=0.0001,\n",
      "[LightGBM] [Warning] step is set=None),, step=None), will be ignored. Current value: step=None),\n",
      "[LightGBM] [Warning] reg_alpha': is set=, reg_alpha':= will be ignored. Current value: reg_alpha':=\n",
      "[LightGBM] [Warning] FloatDistribution(high is set=0.1,, FloatDistribution(high=200.0, will be ignored. Current value: FloatDistribution(high=0.1,\n",
      "[LightGBM] [Warning] log is set=True,, log=False, will be ignored. Current value: log=True,\n",
      "[LightGBM] [Warning] low is set=0.0001,, low=0.0, will be ignored. Current value: low=0.0001,\n",
      "[LightGBM] [Warning] step is set=None),, step=None), will be ignored. Current value: step=None),\n",
      "[LightGBM] [Warning] reg_lambda': is set=, reg_lambda':= will be ignored. Current value: reg_lambda':=\n",
      "[LightGBM] [Warning] FloatDistribution(high is set=0.1,, FloatDistribution(high=200.0, will be ignored. Current value: FloatDistribution(high=0.1,\n",
      "[LightGBM] [Warning] log is set=True,, log=False, will be ignored. Current value: log=True,\n",
      "[LightGBM] [Warning] low is set=0.0001,, low=0.0, will be ignored. Current value: low=0.0001,\n",
      "[LightGBM] [Warning] step is set=None),, step=None), will be ignored. Current value: step=None),\n",
      "[LightGBM] [Warning] scale_pos_weight': is set=, scale_pos_weight':= will be ignored. Current value: scale_pos_weight':=\n",
      "[LightGBM] [Warning] FloatDistribution(high is set=0.1,, FloatDistribution(high=1000.0, will be ignored. Current value: FloatDistribution(high=0.1,\n",
      "[LightGBM] [Warning] log is set=True,, log=False, will be ignored. Current value: log=True,\n",
      "[LightGBM] [Warning] low is set=0.0001,, low=0.0, will be ignored. Current value: low=0.0001,\n",
      "[LightGBM] [Warning] step is set=None),, step=None), will be ignored. Current value: step=None),\n",
      "[LightGBM] [Warning] min_split_gain': is set=, min_split_gain':= will be ignored. Current value: min_split_gain':=\n",
      "[LightGBM] [Warning] FloatDistribution(high is set=0.1,, FloatDistribution(high=1.0, will be ignored. Current value: FloatDistribution(high=0.1,\n",
      "[LightGBM] [Warning] log is set=True,, log=False, will be ignored. Current value: log=True,\n",
      "[LightGBM] [Warning] low is set=0.0001,, low=0.0, will be ignored. Current value: low=0.0001,\n",
      "[LightGBM] [Warning] step is set=None),, step=None)}, will be ignored. Current value: step=None),\n",
      "[LightGBM] [Warning] Unknown parameter value=None),FrozenTrial(number=43,\n",
      "[LightGBM] [Warning] values is set=[0.1689984454807906,, values=[0.035876970842120944, will be ignored. Current value: values=[0.1689984454807906,\n",
      "[LightGBM] [Warning] datetime_start is set=datetime.datetime(2022,, datetime_start=datetime.datetime(2022, will be ignored. Current value: datetime_start=datetime.datetime(2022,\n",
      "[LightGBM] [Warning] 12, is set=, 12,= will be ignored. Current value: 12,=\n",
      "[LightGBM] [Warning] 22, is set=, 22,= will be ignored. Current value: 22,=\n",
      "[LightGBM] [Warning] 19, is set=, 19,= will be ignored. Current value: 19,=\n",
      "[LightGBM] [Warning] datetime_complete is set=datetime.datetime(2022,, datetime_complete=datetime.datetime(2022, will be ignored. Current value: datetime_complete=datetime.datetime(2022,\n",
      "[LightGBM] [Warning] 12, is set=, 12,= will be ignored. Current value: 12,=\n",
      "[LightGBM] [Warning] 22, is set=, 22,= will be ignored. Current value: 22,=\n",
      "[LightGBM] [Warning] 19, is set=, 19,= will be ignored. Current value: 19,=\n",
      "[LightGBM] [Warning] 12, is set=, 12,= will be ignored. Current value: 12,=\n",
      "[LightGBM] [Warning] params is set={'learning_rate':, params={'learning_rate': will be ignored. Current value: params={'learning_rate':\n",
      "[LightGBM] [Warning] num_leaves': is set=, num_leaves':= will be ignored. Current value: num_leaves':=\n",
      "[LightGBM] [Warning] max_depth': is set=, max_depth':= will be ignored. Current value: max_depth':=\n",
      "[LightGBM] [Warning] n_estimators': is set=, n_estimators':= will be ignored. Current value: n_estimators':=\n",
      "[LightGBM] [Warning] min_child_samples': is set=, min_child_samples':= will be ignored. Current value: min_child_samples':=\n",
      "[LightGBM] [Warning] subsample': is set=, subsample':= will be ignored. Current value: subsample':=\n",
      "[LightGBM] [Warning] colsample_bytree': is set=, colsample_bytree':= will be ignored. Current value: colsample_bytree':=\n",
      "[LightGBM] [Warning] reg_alpha': is set=, reg_alpha':= will be ignored. Current value: reg_alpha':=\n",
      "[LightGBM] [Warning] reg_lambda': is set=, reg_lambda':= will be ignored. Current value: reg_lambda':=\n",
      "[LightGBM] [Warning] scale_pos_weight': is set=, scale_pos_weight':= will be ignored. Current value: scale_pos_weight':=\n",
      "[LightGBM] [Warning] min_split_gain': is set=, min_split_gain':= will be ignored. Current value: min_split_gain':=\n",
      "[LightGBM] [Warning] distributions is set={'learning_rate':, distributions={'learning_rate': will be ignored. Current value: distributions={'learning_rate':\n",
      "[LightGBM] [Warning] FloatDistribution(high is set=0.1,, FloatDistribution(high=0.1, will be ignored. Current value: FloatDistribution(high=0.1,\n",
      "[LightGBM] [Warning] log is set=True,, log=True, will be ignored. Current value: log=True,\n",
      "[LightGBM] [Warning] low is set=0.0001,, low=0.0001, will be ignored. Current value: low=0.0001,\n",
      "[LightGBM] [Warning] step is set=None),, step=None), will be ignored. Current value: step=None),\n",
      "[LightGBM] [Warning] num_leaves': is set=, num_leaves':= will be ignored. Current value: num_leaves':=\n",
      "[LightGBM] [Warning] IntDistribution(high is set=300,, IntDistribution(high=300, will be ignored. Current value: IntDistribution(high=300,\n",
      "[LightGBM] [Warning] log is set=True,, log=False, will be ignored. Current value: log=True,\n",
      "[LightGBM] [Warning] low is set=0.0001,, low=2, will be ignored. Current value: low=0.0001,\n",
      "[LightGBM] [Warning] step is set=None),, step=1), will be ignored. Current value: step=None),\n",
      "[LightGBM] [Warning] max_depth': is set=, max_depth':= will be ignored. Current value: max_depth':=\n",
      "[LightGBM] [Warning] IntDistribution(high is set=300,, IntDistribution(high=300, will be ignored. Current value: IntDistribution(high=300,\n",
      "[LightGBM] [Warning] log is set=True,, log=False, will be ignored. Current value: log=True,\n",
      "[LightGBM] [Warning] low is set=0.0001,, low=1, will be ignored. Current value: low=0.0001,\n",
      "[LightGBM] [Warning] step is set=None),, step=1), will be ignored. Current value: step=None),\n",
      "[LightGBM] [Warning] n_estimators': is set=, n_estimators':= will be ignored. Current value: n_estimators':=\n",
      "[LightGBM] [Warning] IntDistribution(high is set=300,, IntDistribution(high=300, will be ignored. Current value: IntDistribution(high=300,\n",
      "[LightGBM] [Warning] log is set=True,, log=False, will be ignored. Current value: log=True,\n",
      "[LightGBM] [Warning] low is set=0.0001,, low=10, will be ignored. Current value: low=0.0001,\n",
      "[LightGBM] [Warning] step is set=None),, step=1), will be ignored. Current value: step=None),\n",
      "[LightGBM] [Warning] min_child_samples': is set=, min_child_samples':= will be ignored. Current value: min_child_samples':=\n",
      "[LightGBM] [Warning] IntDistribution(high is set=300,, IntDistribution(high=1000, will be ignored. Current value: IntDistribution(high=300,\n",
      "[LightGBM] [Warning] log is set=True,, log=False, will be ignored. Current value: log=True,\n",
      "[LightGBM] [Warning] low is set=0.0001,, low=10, will be ignored. Current value: low=0.0001,\n",
      "[LightGBM] [Warning] step is set=None),, step=1), will be ignored. Current value: step=None),\n",
      "[LightGBM] [Warning] subsample': is set=, subsample':= will be ignored. Current value: subsample':=\n",
      "[LightGBM] [Warning] FloatDistribution(high is set=0.1,, FloatDistribution(high=1.0, will be ignored. Current value: FloatDistribution(high=0.1,\n",
      "[LightGBM] [Warning] log is set=True,, log=False, will be ignored. Current value: log=True,\n",
      "[LightGBM] [Warning] low is set=0.0001,, low=0.7, will be ignored. Current value: low=0.0001,\n",
      "[LightGBM] [Warning] step is set=None),, step=None), will be ignored. Current value: step=None),\n",
      "[LightGBM] [Warning] colsample_bytree': is set=, colsample_bytree':= will be ignored. Current value: colsample_bytree':=\n",
      "[LightGBM] [Warning] FloatDistribution(high is set=0.1,, FloatDistribution(high=1.0, will be ignored. Current value: FloatDistribution(high=0.1,\n",
      "[LightGBM] [Warning] log is set=True,, log=False, will be ignored. Current value: log=True,\n",
      "[LightGBM] [Warning] low is set=0.0001,, low=0.3, will be ignored. Current value: low=0.0001,\n",
      "[LightGBM] [Warning] step is set=None),, step=None), will be ignored. Current value: step=None),\n",
      "[LightGBM] [Warning] reg_alpha': is set=, reg_alpha':= will be ignored. Current value: reg_alpha':=\n",
      "[LightGBM] [Warning] FloatDistribution(high is set=0.1,, FloatDistribution(high=200.0, will be ignored. Current value: FloatDistribution(high=0.1,\n",
      "[LightGBM] [Warning] log is set=True,, log=False, will be ignored. Current value: log=True,\n",
      "[LightGBM] [Warning] low is set=0.0001,, low=0.0, will be ignored. Current value: low=0.0001,\n",
      "[LightGBM] [Warning] step is set=None),, step=None), will be ignored. Current value: step=None),\n",
      "[LightGBM] [Warning] reg_lambda': is set=, reg_lambda':= will be ignored. Current value: reg_lambda':=\n",
      "[LightGBM] [Warning] FloatDistribution(high is set=0.1,, FloatDistribution(high=200.0, will be ignored. Current value: FloatDistribution(high=0.1,\n",
      "[LightGBM] [Warning] log is set=True,, log=False, will be ignored. Current value: log=True,\n",
      "[LightGBM] [Warning] low is set=0.0001,, low=0.0, will be ignored. Current value: low=0.0001,\n",
      "[LightGBM] [Warning] step is set=None),, step=None), will be ignored. Current value: step=None),\n",
      "[LightGBM] [Warning] scale_pos_weight': is set=, scale_pos_weight':= will be ignored. Current value: scale_pos_weight':=\n",
      "[LightGBM] [Warning] FloatDistribution(high is set=0.1,, FloatDistribution(high=1000.0, will be ignored. Current value: FloatDistribution(high=0.1,\n",
      "[LightGBM] [Warning] log is set=True,, log=False, will be ignored. Current value: log=True,\n",
      "[LightGBM] [Warning] low is set=0.0001,, low=0.0, will be ignored. Current value: low=0.0001,\n",
      "[LightGBM] [Warning] step is set=None),, step=None), will be ignored. Current value: step=None),\n",
      "[LightGBM] [Warning] min_split_gain': is set=, min_split_gain':= will be ignored. Current value: min_split_gain':=\n",
      "[LightGBM] [Warning] FloatDistribution(high is set=0.1,, FloatDistribution(high=1.0, will be ignored. Current value: FloatDistribution(high=0.1,\n",
      "[LightGBM] [Warning] log is set=True,, log=False, will be ignored. Current value: log=True,\n",
      "[LightGBM] [Warning] low is set=0.0001,, low=0.0, will be ignored. Current value: low=0.0001,\n",
      "[LightGBM] [Warning] step is set=None),, step=None)}, will be ignored. Current value: step=None),\n",
      "[LightGBM] [Warning] user_attrs is set={},, user_attrs={}, will be ignored. Current value: user_attrs={},\n",
      "[LightGBM] [Warning] system_attrs is set={'nsga2:generation':, system_attrs={'nsga2:generation': will be ignored. Current value: system_attrs={'nsga2:generation':\n",
      "[LightGBM] [Warning] 0}, is set=, 0},= will be ignored. Current value: 0},=\n",
      "[LightGBM] [Warning] intermediate_values is set={},, intermediate_values={}, will be ignored. Current value: intermediate_values={},\n",
      "[LightGBM] [Warning] trial_id is set=3,, trial_id=43, will be ignored. Current value: trial_id=3,\n",
      "[LightGBM] [Warning] state is set=TrialState.COMPLETE,, state=TrialState.COMPLETE, will be ignored. Current value: state=TrialState.COMPLETE,\n",
      "[LightGBM] [Warning] Unknown parameter value=None),FrozenTrial(number=44,\n",
      "[LightGBM] [Warning] values is set=[0.1689984454807906,, values=[0.04800478473920024, will be ignored. Current value: values=[0.1689984454807906,\n",
      "[LightGBM] [Warning] datetime_start is set=datetime.datetime(2022,, datetime_start=datetime.datetime(2022, will be ignored. Current value: datetime_start=datetime.datetime(2022,\n",
      "[LightGBM] [Warning] 12, is set=, 12,= will be ignored. Current value: 12,=\n",
      "[LightGBM] [Warning] 22, is set=, 22,= will be ignored. Current value: 22,=\n",
      "[LightGBM] [Warning] 19, is set=, 19,= will be ignored. Current value: 19,=\n",
      "[LightGBM] [Warning] 27, is set=, 27,= will be ignored. Current value: 27,=\n",
      "[LightGBM] [Warning] 12, is set=, 12,= will be ignored. Current value: 12,=\n",
      "[LightGBM] [Warning] datetime_complete is set=datetime.datetime(2022,, datetime_complete=datetime.datetime(2022, will be ignored. Current value: datetime_complete=datetime.datetime(2022,\n",
      "[LightGBM] [Warning] 12, is set=, 12,= will be ignored. Current value: 12,=\n",
      "[LightGBM] [Warning] 22, is set=, 22,= will be ignored. Current value: 22,=\n",
      "[LightGBM] [Warning] 19, is set=, 19,= will be ignored. Current value: 19,=\n",
      "[LightGBM] [Warning] 28, is set=, 28,= will be ignored. Current value: 28,=\n",
      "[LightGBM] [Warning] params is set={'learning_rate':, params={'learning_rate': will be ignored. Current value: params={'learning_rate':\n",
      "[LightGBM] [Warning] num_leaves': is set=, num_leaves':= will be ignored. Current value: num_leaves':=\n",
      "[LightGBM] [Warning] max_depth': is set=, max_depth':= will be ignored. Current value: max_depth':=\n",
      "[LightGBM] [Warning] n_estimators': is set=, n_estimators':= will be ignored. Current value: n_estimators':=\n",
      "[LightGBM] [Warning] min_child_samples': is set=, min_child_samples':= will be ignored. Current value: min_child_samples':=\n",
      "[LightGBM] [Warning] subsample': is set=, subsample':= will be ignored. Current value: subsample':=\n",
      "[LightGBM] [Warning] colsample_bytree': is set=, colsample_bytree':= will be ignored. Current value: colsample_bytree':=\n",
      "[LightGBM] [Warning] reg_alpha': is set=, reg_alpha':= will be ignored. Current value: reg_alpha':=\n",
      "[LightGBM] [Warning] reg_lambda': is set=, reg_lambda':= will be ignored. Current value: reg_lambda':=\n",
      "[LightGBM] [Warning] scale_pos_weight': is set=, scale_pos_weight':= will be ignored. Current value: scale_pos_weight':=\n",
      "[LightGBM] [Warning] min_split_gain': is set=, min_split_gain':= will be ignored. Current value: min_split_gain':=\n",
      "[LightGBM] [Warning] distributions is set={'learning_rate':, distributions={'learning_rate': will be ignored. Current value: distributions={'learning_rate':\n",
      "[LightGBM] [Warning] FloatDistribution(high is set=0.1,, FloatDistribution(high=0.1, will be ignored. Current value: FloatDistribution(high=0.1,\n",
      "[LightGBM] [Warning] log is set=True,, log=True, will be ignored. Current value: log=True,\n",
      "[LightGBM] [Warning] low is set=0.0001,, low=0.0001, will be ignored. Current value: low=0.0001,\n",
      "[LightGBM] [Warning] step is set=None),, step=None), will be ignored. Current value: step=None),\n",
      "[LightGBM] [Warning] num_leaves': is set=, num_leaves':= will be ignored. Current value: num_leaves':=\n",
      "[LightGBM] [Warning] IntDistribution(high is set=300,, IntDistribution(high=300, will be ignored. Current value: IntDistribution(high=300,\n",
      "[LightGBM] [Warning] log is set=True,, log=False, will be ignored. Current value: log=True,\n",
      "[LightGBM] [Warning] low is set=0.0001,, low=2, will be ignored. Current value: low=0.0001,\n",
      "[LightGBM] [Warning] step is set=None),, step=1), will be ignored. Current value: step=None),\n",
      "[LightGBM] [Warning] max_depth': is set=, max_depth':= will be ignored. Current value: max_depth':=\n",
      "[LightGBM] [Warning] IntDistribution(high is set=300,, IntDistribution(high=300, will be ignored. Current value: IntDistribution(high=300,\n",
      "[LightGBM] [Warning] log is set=True,, log=False, will be ignored. Current value: log=True,\n",
      "[LightGBM] [Warning] low is set=0.0001,, low=1, will be ignored. Current value: low=0.0001,\n",
      "[LightGBM] [Warning] step is set=None),, step=1), will be ignored. Current value: step=None),\n",
      "[LightGBM] [Warning] n_estimators': is set=, n_estimators':= will be ignored. Current value: n_estimators':=\n",
      "[LightGBM] [Warning] IntDistribution(high is set=300,, IntDistribution(high=300, will be ignored. Current value: IntDistribution(high=300,\n",
      "[LightGBM] [Warning] log is set=True,, log=False, will be ignored. Current value: log=True,\n",
      "[LightGBM] [Warning] low is set=0.0001,, low=10, will be ignored. Current value: low=0.0001,\n",
      "[LightGBM] [Warning] step is set=None),, step=1), will be ignored. Current value: step=None),\n",
      "[LightGBM] [Warning] min_child_samples': is set=, min_child_samples':= will be ignored. Current value: min_child_samples':=\n",
      "[LightGBM] [Warning] IntDistribution(high is set=300,, IntDistribution(high=1000, will be ignored. Current value: IntDistribution(high=300,\n",
      "[LightGBM] [Warning] log is set=True,, log=False, will be ignored. Current value: log=True,\n",
      "[LightGBM] [Warning] low is set=0.0001,, low=10, will be ignored. Current value: low=0.0001,\n",
      "[LightGBM] [Warning] step is set=None),, step=1), will be ignored. Current value: step=None),\n",
      "[LightGBM] [Warning] subsample': is set=, subsample':= will be ignored. Current value: subsample':=\n",
      "[LightGBM] [Warning] FloatDistribution(high is set=0.1,, FloatDistribution(high=1.0, will be ignored. Current value: FloatDistribution(high=0.1,\n",
      "[LightGBM] [Warning] log is set=True,, log=False, will be ignored. Current value: log=True,\n",
      "[LightGBM] [Warning] low is set=0.0001,, low=0.7, will be ignored. Current value: low=0.0001,\n",
      "[LightGBM] [Warning] step is set=None),, step=None), will be ignored. Current value: step=None),\n",
      "[LightGBM] [Warning] colsample_bytree': is set=, colsample_bytree':= will be ignored. Current value: colsample_bytree':=\n",
      "[LightGBM] [Warning] FloatDistribution(high is set=0.1,, FloatDistribution(high=1.0, will be ignored. Current value: FloatDistribution(high=0.1,\n",
      "[LightGBM] [Warning] log is set=True,, log=False, will be ignored. Current value: log=True,\n",
      "[LightGBM] [Warning] low is set=0.0001,, low=0.3, will be ignored. Current value: low=0.0001,\n",
      "[LightGBM] [Warning] step is set=None),, step=None), will be ignored. Current value: step=None),\n",
      "[LightGBM] [Warning] reg_alpha': is set=, reg_alpha':= will be ignored. Current value: reg_alpha':=\n",
      "[LightGBM] [Warning] FloatDistribution(high is set=0.1,, FloatDistribution(high=200.0, will be ignored. Current value: FloatDistribution(high=0.1,\n",
      "[LightGBM] [Warning] log is set=True,, log=False, will be ignored. Current value: log=True,\n",
      "[LightGBM] [Warning] low is set=0.0001,, low=0.0, will be ignored. Current value: low=0.0001,\n",
      "[LightGBM] [Warning] step is set=None),, step=None), will be ignored. Current value: step=None),\n",
      "[LightGBM] [Warning] reg_lambda': is set=, reg_lambda':= will be ignored. Current value: reg_lambda':=\n",
      "[LightGBM] [Warning] FloatDistribution(high is set=0.1,, FloatDistribution(high=200.0, will be ignored. Current value: FloatDistribution(high=0.1,\n",
      "[LightGBM] [Warning] log is set=True,, log=False, will be ignored. Current value: log=True,\n",
      "[LightGBM] [Warning] low is set=0.0001,, low=0.0, will be ignored. Current value: low=0.0001,\n",
      "[LightGBM] [Warning] step is set=None),, step=None), will be ignored. Current value: step=None),\n",
      "[LightGBM] [Warning] scale_pos_weight': is set=, scale_pos_weight':= will be ignored. Current value: scale_pos_weight':=\n",
      "[LightGBM] [Warning] FloatDistribution(high is set=0.1,, FloatDistribution(high=1000.0, will be ignored. Current value: FloatDistribution(high=0.1,\n",
      "[LightGBM] [Warning] log is set=True,, log=False, will be ignored. Current value: log=True,\n",
      "[LightGBM] [Warning] low is set=0.0001,, low=0.0, will be ignored. Current value: low=0.0001,\n",
      "[LightGBM] [Warning] step is set=None),, step=None), will be ignored. Current value: step=None),\n",
      "[LightGBM] [Warning] min_split_gain': is set=, min_split_gain':= will be ignored. Current value: min_split_gain':=\n",
      "[LightGBM] [Warning] FloatDistribution(high is set=0.1,, FloatDistribution(high=1.0, will be ignored. Current value: FloatDistribution(high=0.1,\n",
      "[LightGBM] [Warning] log is set=True,, log=False, will be ignored. Current value: log=True,\n",
      "[LightGBM] [Warning] low is set=0.0001,, low=0.0, will be ignored. Current value: low=0.0001,\n",
      "[LightGBM] [Warning] step is set=None),, step=None)}, will be ignored. Current value: step=None),\n",
      "[LightGBM] [Warning] user_attrs is set={},, user_attrs={}, will be ignored. Current value: user_attrs={},\n",
      "[LightGBM] [Warning] system_attrs is set={'nsga2:generation':, system_attrs={'nsga2:generation': will be ignored. Current value: system_attrs={'nsga2:generation':\n",
      "[LightGBM] [Warning] 0}, is set=, 0},= will be ignored. Current value: 0},=\n",
      "[LightGBM] [Warning] intermediate_values is set={},, intermediate_values={}, will be ignored. Current value: intermediate_values={},\n",
      "[LightGBM] [Warning] trial_id is set=3,, trial_id=44, will be ignored. Current value: trial_id=3,\n",
      "[LightGBM] [Warning] state is set=TrialState.COMPLETE,, state=TrialState.COMPLETE, will be ignored. Current value: state=TrialState.COMPLETE,\n",
      "[LightGBM] [Warning] Unknown parameter value=None),FrozenTrial(number=59,\n",
      "[LightGBM] [Warning] values is set=[0.1689984454807906,, values=[0.1689984454807906, will be ignored. Current value: values=[0.1689984454807906,\n",
      "[LightGBM] [Warning] 0.1662661131745685], is set=, 0.1662661131745685],= will be ignored. Current value: 0.1662661131745685],=\n",
      "[LightGBM] [Warning] datetime_start is set=datetime.datetime(2022,, datetime_start=datetime.datetime(2022, will be ignored. Current value: datetime_start=datetime.datetime(2022,\n",
      "[LightGBM] [Warning] 12, is set=, 12,= will be ignored. Current value: 12,=\n",
      "[LightGBM] [Warning] 22, is set=, 22,= will be ignored. Current value: 22,=\n",
      "[LightGBM] [Warning] 19, is set=, 19,= will be ignored. Current value: 19,=\n",
      "[LightGBM] [Warning] datetime_complete is set=datetime.datetime(2022,, datetime_complete=datetime.datetime(2022, will be ignored. Current value: datetime_complete=datetime.datetime(2022,\n",
      "[LightGBM] [Warning] 12, is set=, 12,= will be ignored. Current value: 12,=\n",
      "[LightGBM] [Warning] 22, is set=, 22,= will be ignored. Current value: 22,=\n",
      "[LightGBM] [Warning] 19, is set=, 19,= will be ignored. Current value: 19,=\n",
      "[LightGBM] [Warning] 35, is set=, 35,= will be ignored. Current value: 35,=\n",
      "[LightGBM] [Warning] params is set={'learning_rate':, params={'learning_rate': will be ignored. Current value: params={'learning_rate':\n",
      "[LightGBM] [Warning] 0.021976722901146512, is set=, 0.021976722901146512,= will be ignored. Current value: 0.021976722901146512,=\n",
      "[LightGBM] [Warning] num_leaves': is set=, num_leaves':= will be ignored. Current value: num_leaves':=\n",
      "[LightGBM] [Warning] 228, is set=, 228,= will be ignored. Current value: 228,=\n",
      "[LightGBM] [Warning] max_depth': is set=, max_depth':= will be ignored. Current value: max_depth':=\n",
      "[LightGBM] [Warning] 151, is set=, 151,= will be ignored. Current value: 151,=\n",
      "[LightGBM] [Warning] n_estimators': is set=, n_estimators':= will be ignored. Current value: n_estimators':=\n",
      "[LightGBM] [Warning] min_child_samples': is set=, min_child_samples':= will be ignored. Current value: min_child_samples':=\n",
      "[LightGBM] [Warning] subsample': is set=, subsample':= will be ignored. Current value: subsample':=\n",
      "[LightGBM] [Warning] 0.9326533348469404, is set=, 0.9326533348469404,= will be ignored. Current value: 0.9326533348469404,=\n",
      "[LightGBM] [Warning] colsample_bytree': is set=, colsample_bytree':= will be ignored. Current value: colsample_bytree':=\n",
      "[LightGBM] [Warning] 0.8990881827943769, is set=, 0.8990881827943769,= will be ignored. Current value: 0.8990881827943769,=\n",
      "[LightGBM] [Warning] reg_alpha': is set=, reg_alpha':= will be ignored. Current value: reg_alpha':=\n",
      "[LightGBM] [Warning] reg_lambda': is set=, reg_lambda':= will be ignored. Current value: reg_lambda':=\n",
      "[LightGBM] [Warning] 97.20549761507655, is set=, 97.20549761507655,= will be ignored. Current value: 97.20549761507655,=\n",
      "[LightGBM] [Warning] scale_pos_weight': is set=, scale_pos_weight':= will be ignored. Current value: scale_pos_weight':=\n",
      "[LightGBM] [Warning] 116.58893858261321, is set=, 116.58893858261321,= will be ignored. Current value: 116.58893858261321,=\n",
      "[LightGBM] [Warning] min_split_gain': is set=, min_split_gain':= will be ignored. Current value: min_split_gain':=\n",
      "[LightGBM] [Warning] distributions is set={'learning_rate':, distributions={'learning_rate': will be ignored. Current value: distributions={'learning_rate':\n",
      "[LightGBM] [Warning] FloatDistribution(high is set=0.1,, FloatDistribution(high=0.1, will be ignored. Current value: FloatDistribution(high=0.1,\n",
      "[LightGBM] [Warning] log is set=True,, log=True, will be ignored. Current value: log=True,\n",
      "[LightGBM] [Warning] low is set=0.0001,, low=0.0001, will be ignored. Current value: low=0.0001,\n",
      "[LightGBM] [Warning] step is set=None),, step=None), will be ignored. Current value: step=None),\n",
      "[LightGBM] [Warning] num_leaves': is set=, num_leaves':= will be ignored. Current value: num_leaves':=\n",
      "[LightGBM] [Warning] IntDistribution(high is set=300,, IntDistribution(high=300, will be ignored. Current value: IntDistribution(high=300,\n",
      "[LightGBM] [Warning] log is set=True,, log=False, will be ignored. Current value: log=True,\n",
      "[LightGBM] [Warning] low is set=0.0001,, low=2, will be ignored. Current value: low=0.0001,\n",
      "[LightGBM] [Warning] step is set=None),, step=1), will be ignored. Current value: step=None),\n",
      "[LightGBM] [Warning] max_depth': is set=, max_depth':= will be ignored. Current value: max_depth':=\n",
      "[LightGBM] [Warning] IntDistribution(high is set=300,, IntDistribution(high=300, will be ignored. Current value: IntDistribution(high=300,\n",
      "[LightGBM] [Warning] log is set=True,, log=False, will be ignored. Current value: log=True,\n",
      "[LightGBM] [Warning] low is set=0.0001,, low=1, will be ignored. Current value: low=0.0001,\n",
      "[LightGBM] [Warning] step is set=None),, step=1), will be ignored. Current value: step=None),\n",
      "[LightGBM] [Warning] n_estimators': is set=, n_estimators':= will be ignored. Current value: n_estimators':=\n",
      "[LightGBM] [Warning] IntDistribution(high is set=300,, IntDistribution(high=300, will be ignored. Current value: IntDistribution(high=300,\n",
      "[LightGBM] [Warning] log is set=True,, log=False, will be ignored. Current value: log=True,\n",
      "[LightGBM] [Warning] low is set=0.0001,, low=10, will be ignored. Current value: low=0.0001,\n",
      "[LightGBM] [Warning] step is set=None),, step=1), will be ignored. Current value: step=None),\n",
      "[LightGBM] [Warning] min_child_samples': is set=, min_child_samples':= will be ignored. Current value: min_child_samples':=\n",
      "[LightGBM] [Warning] IntDistribution(high is set=300,, IntDistribution(high=1000, will be ignored. Current value: IntDistribution(high=300,\n",
      "[LightGBM] [Warning] log is set=True,, log=False, will be ignored. Current value: log=True,\n",
      "[LightGBM] [Warning] low is set=0.0001,, low=10, will be ignored. Current value: low=0.0001,\n",
      "[LightGBM] [Warning] step is set=None),, step=1), will be ignored. Current value: step=None),\n",
      "[LightGBM] [Warning] subsample': is set=, subsample':= will be ignored. Current value: subsample':=\n",
      "[LightGBM] [Warning] FloatDistribution(high is set=0.1,, FloatDistribution(high=1.0, will be ignored. Current value: FloatDistribution(high=0.1,\n",
      "[LightGBM] [Warning] log is set=True,, log=False, will be ignored. Current value: log=True,\n",
      "[LightGBM] [Warning] low is set=0.0001,, low=0.7, will be ignored. Current value: low=0.0001,\n",
      "[LightGBM] [Warning] step is set=None),, step=None), will be ignored. Current value: step=None),\n",
      "[LightGBM] [Warning] colsample_bytree': is set=, colsample_bytree':= will be ignored. Current value: colsample_bytree':=\n",
      "[LightGBM] [Warning] FloatDistribution(high is set=0.1,, FloatDistribution(high=1.0, will be ignored. Current value: FloatDistribution(high=0.1,\n",
      "[LightGBM] [Warning] log is set=True,, log=False, will be ignored. Current value: log=True,\n",
      "[LightGBM] [Warning] low is set=0.0001,, low=0.3, will be ignored. Current value: low=0.0001,\n",
      "[LightGBM] [Warning] step is set=None),, step=None), will be ignored. Current value: step=None),\n",
      "[LightGBM] [Warning] reg_alpha': is set=, reg_alpha':= will be ignored. Current value: reg_alpha':=\n",
      "[LightGBM] [Warning] FloatDistribution(high is set=0.1,, FloatDistribution(high=200.0, will be ignored. Current value: FloatDistribution(high=0.1,\n",
      "[LightGBM] [Warning] log is set=True,, log=False, will be ignored. Current value: log=True,\n",
      "[LightGBM] [Warning] low is set=0.0001,, low=0.0, will be ignored. Current value: low=0.0001,\n",
      "[LightGBM] [Warning] step is set=None),, step=None), will be ignored. Current value: step=None),\n",
      "[LightGBM] [Warning] reg_lambda': is set=, reg_lambda':= will be ignored. Current value: reg_lambda':=\n",
      "[LightGBM] [Warning] FloatDistribution(high is set=0.1,, FloatDistribution(high=200.0, will be ignored. Current value: FloatDistribution(high=0.1,\n",
      "[LightGBM] [Warning] log is set=True,, log=False, will be ignored. Current value: log=True,\n",
      "[LightGBM] [Warning] low is set=0.0001,, low=0.0, will be ignored. Current value: low=0.0001,\n",
      "[LightGBM] [Warning] step is set=None),, step=None), will be ignored. Current value: step=None),\n",
      "[LightGBM] [Warning] scale_pos_weight': is set=, scale_pos_weight':= will be ignored. Current value: scale_pos_weight':=\n",
      "[LightGBM] [Warning] FloatDistribution(high is set=0.1,, FloatDistribution(high=1000.0, will be ignored. Current value: FloatDistribution(high=0.1,\n",
      "[LightGBM] [Warning] log is set=True,, log=False, will be ignored. Current value: log=True,\n",
      "[LightGBM] [Warning] low is set=0.0001,, low=0.0, will be ignored. Current value: low=0.0001,\n",
      "[LightGBM] [Warning] step is set=None),, step=None), will be ignored. Current value: step=None),\n",
      "[LightGBM] [Warning] min_split_gain': is set=, min_split_gain':= will be ignored. Current value: min_split_gain':=\n",
      "[LightGBM] [Warning] FloatDistribution(high is set=0.1,, FloatDistribution(high=1.0, will be ignored. Current value: FloatDistribution(high=0.1,\n",
      "[LightGBM] [Warning] log is set=True,, log=False, will be ignored. Current value: log=True,\n",
      "[LightGBM] [Warning] low is set=0.0001,, low=0.0, will be ignored. Current value: low=0.0001,\n",
      "[LightGBM] [Warning] step is set=None),, step=None)}, will be ignored. Current value: step=None),\n",
      "[LightGBM] [Warning] user_attrs is set={},, user_attrs={}, will be ignored. Current value: user_attrs={},\n",
      "[LightGBM] [Warning] system_attrs is set={'nsga2:generation':, system_attrs={'nsga2:generation': will be ignored. Current value: system_attrs={'nsga2:generation':\n",
      "[LightGBM] [Warning] intermediate_values is set={},, intermediate_values={}, will be ignored. Current value: intermediate_values={},\n",
      "[LightGBM] [Warning] trial_id is set=3,, trial_id=59, will be ignored. Current value: trial_id=3,\n",
      "[LightGBM] [Warning] state is set=TrialState.COMPLETE,, state=TrialState.COMPLETE, will be ignored. Current value: state=TrialState.COMPLETE,\n",
      "[LightGBM] [Warning] Unknown parameter value=None),FrozenTrial(number=71,\n",
      "[LightGBM] [Warning] values is set=[0.1689984454807906,, values=[0.1689984454807906, will be ignored. Current value: values=[0.1689984454807906,\n",
      "[LightGBM] [Warning] 0.1662661131745685], is set=, 0.1662661131745685],= will be ignored. Current value: 0.1662661131745685],=\n",
      "[LightGBM] [Warning] datetime_start is set=datetime.datetime(2022,, datetime_start=datetime.datetime(2022, will be ignored. Current value: datetime_start=datetime.datetime(2022,\n",
      "[LightGBM] [Warning] 12, is set=, 12,= will be ignored. Current value: 12,=\n",
      "[LightGBM] [Warning] 22, is set=, 22,= will be ignored. Current value: 22,=\n",
      "[LightGBM] [Warning] 19, is set=, 19,= will be ignored. Current value: 19,=\n",
      "[LightGBM] [Warning] datetime_complete is set=datetime.datetime(2022,, datetime_complete=datetime.datetime(2022, will be ignored. Current value: datetime_complete=datetime.datetime(2022,\n",
      "[LightGBM] [Warning] 12, is set=, 12,= will be ignored. Current value: 12,=\n",
      "[LightGBM] [Warning] 22, is set=, 22,= will be ignored. Current value: 22,=\n",
      "[LightGBM] [Warning] 19, is set=, 19,= will be ignored. Current value: 19,=\n",
      "[LightGBM] [Warning] 40, is set=, 40,= will be ignored. Current value: 40,=\n",
      "[LightGBM] [Warning] params is set={'learning_rate':, params={'learning_rate': will be ignored. Current value: params={'learning_rate':\n",
      "[LightGBM] [Warning] 0.021976722901146512, is set=, 0.021976722901146512,= will be ignored. Current value: 0.021976722901146512,=\n",
      "[LightGBM] [Warning] num_leaves': is set=, num_leaves':= will be ignored. Current value: num_leaves':=\n",
      "[LightGBM] [Warning] max_depth': is set=, max_depth':= will be ignored. Current value: max_depth':=\n",
      "[LightGBM] [Warning] n_estimators': is set=, n_estimators':= will be ignored. Current value: n_estimators':=\n",
      "[LightGBM] [Warning] 195, is set=, 195,= will be ignored. Current value: 195,=\n",
      "[LightGBM] [Warning] min_child_samples': is set=, min_child_samples':= will be ignored. Current value: min_child_samples':=\n",
      "[LightGBM] [Warning] subsample': is set=, subsample':= will be ignored. Current value: subsample':=\n",
      "[LightGBM] [Warning] colsample_bytree': is set=, colsample_bytree':= will be ignored. Current value: colsample_bytree':=\n",
      "[LightGBM] [Warning] reg_alpha': is set=, reg_alpha':= will be ignored. Current value: reg_alpha':=\n",
      "[LightGBM] [Warning] 32.16335798912071, is set=, 32.16335798912071,= will be ignored. Current value: 32.16335798912071,=\n",
      "[LightGBM] [Warning] reg_lambda': is set=, reg_lambda':= will be ignored. Current value: reg_lambda':=\n",
      "[LightGBM] [Warning] scale_pos_weight': is set=, scale_pos_weight':= will be ignored. Current value: scale_pos_weight':=\n",
      "[LightGBM] [Warning] 116.58893858261321, is set=, 116.58893858261321,= will be ignored. Current value: 116.58893858261321,=\n",
      "[LightGBM] [Warning] min_split_gain': is set=, min_split_gain':= will be ignored. Current value: min_split_gain':=\n",
      "[LightGBM] [Warning] 0.09378016816755208}, is set=, 0.09378016816755208},= will be ignored. Current value: 0.09378016816755208},=\n",
      "[LightGBM] [Warning] distributions is set={'learning_rate':, distributions={'learning_rate': will be ignored. Current value: distributions={'learning_rate':\n",
      "[LightGBM] [Warning] FloatDistribution(high is set=0.1,, FloatDistribution(high=0.1, will be ignored. Current value: FloatDistribution(high=0.1,\n",
      "[LightGBM] [Warning] log is set=True,, log=True, will be ignored. Current value: log=True,\n",
      "[LightGBM] [Warning] low is set=0.0001,, low=0.0001, will be ignored. Current value: low=0.0001,\n",
      "[LightGBM] [Warning] step is set=None),, step=None), will be ignored. Current value: step=None),\n",
      "[LightGBM] [Warning] num_leaves': is set=, num_leaves':= will be ignored. Current value: num_leaves':=\n",
      "[LightGBM] [Warning] IntDistribution(high is set=300,, IntDistribution(high=300, will be ignored. Current value: IntDistribution(high=300,\n",
      "[LightGBM] [Warning] log is set=True,, log=False, will be ignored. Current value: log=True,\n",
      "[LightGBM] [Warning] low is set=0.0001,, low=2, will be ignored. Current value: low=0.0001,\n",
      "[LightGBM] [Warning] step is set=None),, step=1), will be ignored. Current value: step=None),\n",
      "[LightGBM] [Warning] max_depth': is set=, max_depth':= will be ignored. Current value: max_depth':=\n",
      "[LightGBM] [Warning] IntDistribution(high is set=300,, IntDistribution(high=300, will be ignored. Current value: IntDistribution(high=300,\n",
      "[LightGBM] [Warning] log is set=True,, log=False, will be ignored. Current value: log=True,\n",
      "[LightGBM] [Warning] low is set=0.0001,, low=1, will be ignored. Current value: low=0.0001,\n",
      "[LightGBM] [Warning] step is set=None),, step=1), will be ignored. Current value: step=None),\n",
      "[LightGBM] [Warning] n_estimators': is set=, n_estimators':= will be ignored. Current value: n_estimators':=\n",
      "[LightGBM] [Warning] IntDistribution(high is set=300,, IntDistribution(high=300, will be ignored. Current value: IntDistribution(high=300,\n",
      "[LightGBM] [Warning] log is set=True,, log=False, will be ignored. Current value: log=True,\n",
      "[LightGBM] [Warning] low is set=0.0001,, low=10, will be ignored. Current value: low=0.0001,\n",
      "[LightGBM] [Warning] step is set=None),, step=1), will be ignored. Current value: step=None),\n",
      "[LightGBM] [Warning] min_child_samples': is set=, min_child_samples':= will be ignored. Current value: min_child_samples':=\n",
      "[LightGBM] [Warning] IntDistribution(high is set=300,, IntDistribution(high=1000, will be ignored. Current value: IntDistribution(high=300,\n",
      "[LightGBM] [Warning] log is set=True,, log=False, will be ignored. Current value: log=True,\n",
      "[LightGBM] [Warning] low is set=0.0001,, low=10, will be ignored. Current value: low=0.0001,\n",
      "[LightGBM] [Warning] step is set=None),, step=1), will be ignored. Current value: step=None),\n",
      "[LightGBM] [Warning] subsample': is set=, subsample':= will be ignored. Current value: subsample':=\n",
      "[LightGBM] [Warning] FloatDistribution(high is set=0.1,, FloatDistribution(high=1.0, will be ignored. Current value: FloatDistribution(high=0.1,\n",
      "[LightGBM] [Warning] log is set=True,, log=False, will be ignored. Current value: log=True,\n",
      "[LightGBM] [Warning] low is set=0.0001,, low=0.7, will be ignored. Current value: low=0.0001,\n",
      "[LightGBM] [Warning] step is set=None),, step=None), will be ignored. Current value: step=None),\n",
      "[LightGBM] [Warning] colsample_bytree': is set=, colsample_bytree':= will be ignored. Current value: colsample_bytree':=\n",
      "[LightGBM] [Warning] FloatDistribution(high is set=0.1,, FloatDistribution(high=1.0, will be ignored. Current value: FloatDistribution(high=0.1,\n",
      "[LightGBM] [Warning] log is set=True,, log=False, will be ignored. Current value: log=True,\n",
      "[LightGBM] [Warning] low is set=0.0001,, low=0.3, will be ignored. Current value: low=0.0001,\n",
      "[LightGBM] [Warning] step is set=None),, step=None), will be ignored. Current value: step=None),\n",
      "[LightGBM] [Warning] reg_alpha': is set=, reg_alpha':= will be ignored. Current value: reg_alpha':=\n",
      "[LightGBM] [Warning] FloatDistribution(high is set=0.1,, FloatDistribution(high=200.0, will be ignored. Current value: FloatDistribution(high=0.1,\n",
      "[LightGBM] [Warning] log is set=True,, log=False, will be ignored. Current value: log=True,\n",
      "[LightGBM] [Warning] low is set=0.0001,, low=0.0, will be ignored. Current value: low=0.0001,\n",
      "[LightGBM] [Warning] step is set=None),, step=None), will be ignored. Current value: step=None),\n",
      "[LightGBM] [Warning] reg_lambda': is set=, reg_lambda':= will be ignored. Current value: reg_lambda':=\n",
      "[LightGBM] [Warning] FloatDistribution(high is set=0.1,, FloatDistribution(high=200.0, will be ignored. Current value: FloatDistribution(high=0.1,\n",
      "[LightGBM] [Warning] log is set=True,, log=False, will be ignored. Current value: log=True,\n",
      "[LightGBM] [Warning] low is set=0.0001,, low=0.0, will be ignored. Current value: low=0.0001,\n",
      "[LightGBM] [Warning] step is set=None),, step=None), will be ignored. Current value: step=None),\n",
      "[LightGBM] [Warning] scale_pos_weight': is set=, scale_pos_weight':= will be ignored. Current value: scale_pos_weight':=\n",
      "[LightGBM] [Warning] FloatDistribution(high is set=0.1,, FloatDistribution(high=1000.0, will be ignored. Current value: FloatDistribution(high=0.1,\n",
      "[LightGBM] [Warning] log is set=True,, log=False, will be ignored. Current value: log=True,\n",
      "[LightGBM] [Warning] low is set=0.0001,, low=0.0, will be ignored. Current value: low=0.0001,\n",
      "[LightGBM] [Warning] step is set=None),, step=None), will be ignored. Current value: step=None),\n",
      "[LightGBM] [Warning] min_split_gain': is set=, min_split_gain':= will be ignored. Current value: min_split_gain':=\n",
      "[LightGBM] [Warning] FloatDistribution(high is set=0.1,, FloatDistribution(high=1.0, will be ignored. Current value: FloatDistribution(high=0.1,\n",
      "[LightGBM] [Warning] log is set=True,, log=False, will be ignored. Current value: log=True,\n",
      "[LightGBM] [Warning] low is set=0.0001,, low=0.0, will be ignored. Current value: low=0.0001,\n",
      "[LightGBM] [Warning] step is set=None),, step=None)}, will be ignored. Current value: step=None),\n",
      "[LightGBM] [Warning] user_attrs is set={},, user_attrs={}, will be ignored. Current value: user_attrs={},\n",
      "[LightGBM] [Warning] system_attrs is set={'nsga2:generation':, system_attrs={'nsga2:generation': will be ignored. Current value: system_attrs={'nsga2:generation':\n",
      "[LightGBM] [Warning] 1}, is set=, 1},= will be ignored. Current value: 1},=\n",
      "[LightGBM] [Warning] intermediate_values is set={},, intermediate_values={}, will be ignored. Current value: intermediate_values={},\n",
      "[LightGBM] [Warning] trial_id is set=3,, trial_id=71, will be ignored. Current value: trial_id=3,\n",
      "[LightGBM] [Warning] state is set=TrialState.COMPLETE,, state=TrialState.COMPLETE, will be ignored. Current value: state=TrialState.COMPLETE,\n",
      "[LightGBM] [Warning] Unknown parameter value=None),FrozenTrial(number=72,\n",
      "[LightGBM] [Warning] values is set=[0.1689984454807906,, values=[0.03185695343956958, will be ignored. Current value: values=[0.1689984454807906,\n",
      "[LightGBM] [Warning] datetime_start is set=datetime.datetime(2022,, datetime_start=datetime.datetime(2022, will be ignored. Current value: datetime_start=datetime.datetime(2022,\n",
      "[LightGBM] [Warning] 12, is set=, 12,= will be ignored. Current value: 12,=\n",
      "[LightGBM] [Warning] 22, is set=, 22,= will be ignored. Current value: 22,=\n",
      "[LightGBM] [Warning] 19, is set=, 19,= will be ignored. Current value: 19,=\n",
      "[LightGBM] [Warning] 40, is set=, 40,= will be ignored. Current value: 40,=\n",
      "[LightGBM] [Warning] 36, is set=, 36,= will be ignored. Current value: 36,=\n",
      "[LightGBM] [Warning] datetime_complete is set=datetime.datetime(2022,, datetime_complete=datetime.datetime(2022, will be ignored. Current value: datetime_complete=datetime.datetime(2022,\n",
      "[LightGBM] [Warning] 12, is set=, 12,= will be ignored. Current value: 12,=\n",
      "[LightGBM] [Warning] 22, is set=, 22,= will be ignored. Current value: 22,=\n",
      "[LightGBM] [Warning] 19, is set=, 19,= will be ignored. Current value: 19,=\n",
      "[LightGBM] [Warning] params is set={'learning_rate':, params={'learning_rate': will be ignored. Current value: params={'learning_rate':\n",
      "[LightGBM] [Warning] 0.045499004586588475, is set=, 0.045499004586588475,= will be ignored. Current value: 0.045499004586588475,=\n",
      "[LightGBM] [Warning] num_leaves': is set=, num_leaves':= will be ignored. Current value: num_leaves':=\n",
      "[LightGBM] [Warning] 165, is set=, 165,= will be ignored. Current value: 165,=\n",
      "[LightGBM] [Warning] max_depth': is set=, max_depth':= will be ignored. Current value: max_depth':=\n",
      "[LightGBM] [Warning] n_estimators': is set=, n_estimators':= will be ignored. Current value: n_estimators':=\n",
      "[LightGBM] [Warning] 259, is set=, 259,= will be ignored. Current value: 259,=\n",
      "[LightGBM] [Warning] min_child_samples': is set=, min_child_samples':= will be ignored. Current value: min_child_samples':=\n",
      "[LightGBM] [Warning] subsample': is set=, subsample':= will be ignored. Current value: subsample':=\n",
      "[LightGBM] [Warning] 0.998599604882513, is set=, 0.998599604882513,= will be ignored. Current value: 0.998599604882513,=\n",
      "[LightGBM] [Warning] colsample_bytree': is set=, colsample_bytree':= will be ignored. Current value: colsample_bytree':=\n",
      "[LightGBM] [Warning] 0.3978688331263057, is set=, 0.3978688331263057,= will be ignored. Current value: 0.3978688331263057,=\n",
      "[LightGBM] [Warning] reg_alpha': is set=, reg_alpha':= will be ignored. Current value: reg_alpha':=\n",
      "[LightGBM] [Warning] 35.57021540804084, is set=, 35.57021540804084,= will be ignored. Current value: 35.57021540804084,=\n",
      "[LightGBM] [Warning] reg_lambda': is set=, reg_lambda':= will be ignored. Current value: reg_lambda':=\n",
      "[LightGBM] [Warning] 175.24789410596046, is set=, 175.24789410596046,= will be ignored. Current value: 175.24789410596046,=\n",
      "[LightGBM] [Warning] scale_pos_weight': is set=, scale_pos_weight':= will be ignored. Current value: scale_pos_weight':=\n",
      "[LightGBM] [Warning] min_split_gain': is set=, min_split_gain':= will be ignored. Current value: min_split_gain':=\n",
      "[LightGBM] [Warning] 0.6796487837469064}, is set=, 0.6796487837469064},= will be ignored. Current value: 0.6796487837469064},=\n",
      "[LightGBM] [Warning] distributions is set={'learning_rate':, distributions={'learning_rate': will be ignored. Current value: distributions={'learning_rate':\n",
      "[LightGBM] [Warning] FloatDistribution(high is set=0.1,, FloatDistribution(high=0.1, will be ignored. Current value: FloatDistribution(high=0.1,\n",
      "[LightGBM] [Warning] log is set=True,, log=True, will be ignored. Current value: log=True,\n",
      "[LightGBM] [Warning] low is set=0.0001,, low=0.0001, will be ignored. Current value: low=0.0001,\n",
      "[LightGBM] [Warning] step is set=None),, step=None), will be ignored. Current value: step=None),\n",
      "[LightGBM] [Warning] num_leaves': is set=, num_leaves':= will be ignored. Current value: num_leaves':=\n",
      "[LightGBM] [Warning] IntDistribution(high is set=300,, IntDistribution(high=300, will be ignored. Current value: IntDistribution(high=300,\n",
      "[LightGBM] [Warning] log is set=True,, log=False, will be ignored. Current value: log=True,\n",
      "[LightGBM] [Warning] low is set=0.0001,, low=2, will be ignored. Current value: low=0.0001,\n",
      "[LightGBM] [Warning] step is set=None),, step=1), will be ignored. Current value: step=None),\n",
      "[LightGBM] [Warning] max_depth': is set=, max_depth':= will be ignored. Current value: max_depth':=\n",
      "[LightGBM] [Warning] IntDistribution(high is set=300,, IntDistribution(high=300, will be ignored. Current value: IntDistribution(high=300,\n",
      "[LightGBM] [Warning] log is set=True,, log=False, will be ignored. Current value: log=True,\n",
      "[LightGBM] [Warning] low is set=0.0001,, low=1, will be ignored. Current value: low=0.0001,\n",
      "[LightGBM] [Warning] step is set=None),, step=1), will be ignored. Current value: step=None),\n",
      "[LightGBM] [Warning] n_estimators': is set=, n_estimators':= will be ignored. Current value: n_estimators':=\n",
      "[LightGBM] [Warning] IntDistribution(high is set=300,, IntDistribution(high=300, will be ignored. Current value: IntDistribution(high=300,\n",
      "[LightGBM] [Warning] log is set=True,, log=False, will be ignored. Current value: log=True,\n",
      "[LightGBM] [Warning] low is set=0.0001,, low=10, will be ignored. Current value: low=0.0001,\n",
      "[LightGBM] [Warning] step is set=None),, step=1), will be ignored. Current value: step=None),\n",
      "[LightGBM] [Warning] min_child_samples': is set=, min_child_samples':= will be ignored. Current value: min_child_samples':=\n",
      "[LightGBM] [Warning] IntDistribution(high is set=300,, IntDistribution(high=1000, will be ignored. Current value: IntDistribution(high=300,\n",
      "[LightGBM] [Warning] log is set=True,, log=False, will be ignored. Current value: log=True,\n",
      "[LightGBM] [Warning] low is set=0.0001,, low=10, will be ignored. Current value: low=0.0001,\n",
      "[LightGBM] [Warning] step is set=None),, step=1), will be ignored. Current value: step=None),\n",
      "[LightGBM] [Warning] subsample': is set=, subsample':= will be ignored. Current value: subsample':=\n",
      "[LightGBM] [Warning] FloatDistribution(high is set=0.1,, FloatDistribution(high=1.0, will be ignored. Current value: FloatDistribution(high=0.1,\n",
      "[LightGBM] [Warning] log is set=True,, log=False, will be ignored. Current value: log=True,\n",
      "[LightGBM] [Warning] low is set=0.0001,, low=0.7, will be ignored. Current value: low=0.0001,\n",
      "[LightGBM] [Warning] step is set=None),, step=None), will be ignored. Current value: step=None),\n",
      "[LightGBM] [Warning] colsample_bytree': is set=, colsample_bytree':= will be ignored. Current value: colsample_bytree':=\n",
      "[LightGBM] [Warning] FloatDistribution(high is set=0.1,, FloatDistribution(high=1.0, will be ignored. Current value: FloatDistribution(high=0.1,\n",
      "[LightGBM] [Warning] log is set=True,, log=False, will be ignored. Current value: log=True,\n",
      "[LightGBM] [Warning] low is set=0.0001,, low=0.3, will be ignored. Current value: low=0.0001,\n",
      "[LightGBM] [Warning] step is set=None),, step=None), will be ignored. Current value: step=None),\n",
      "[LightGBM] [Warning] reg_alpha': is set=, reg_alpha':= will be ignored. Current value: reg_alpha':=\n",
      "[LightGBM] [Warning] FloatDistribution(high is set=0.1,, FloatDistribution(high=200.0, will be ignored. Current value: FloatDistribution(high=0.1,\n",
      "[LightGBM] [Warning] log is set=True,, log=False, will be ignored. Current value: log=True,\n",
      "[LightGBM] [Warning] low is set=0.0001,, low=0.0, will be ignored. Current value: low=0.0001,\n",
      "[LightGBM] [Warning] step is set=None),, step=None), will be ignored. Current value: step=None),\n",
      "[LightGBM] [Warning] reg_lambda': is set=, reg_lambda':= will be ignored. Current value: reg_lambda':=\n",
      "[LightGBM] [Warning] FloatDistribution(high is set=0.1,, FloatDistribution(high=200.0, will be ignored. Current value: FloatDistribution(high=0.1,\n",
      "[LightGBM] [Warning] log is set=True,, log=False, will be ignored. Current value: log=True,\n",
      "[LightGBM] [Warning] low is set=0.0001,, low=0.0, will be ignored. Current value: low=0.0001,\n",
      "[LightGBM] [Warning] step is set=None),, step=None), will be ignored. Current value: step=None),\n",
      "[LightGBM] [Warning] scale_pos_weight': is set=, scale_pos_weight':= will be ignored. Current value: scale_pos_weight':=\n",
      "[LightGBM] [Warning] FloatDistribution(high is set=0.1,, FloatDistribution(high=1000.0, will be ignored. Current value: FloatDistribution(high=0.1,\n",
      "[LightGBM] [Warning] log is set=True,, log=False, will be ignored. Current value: log=True,\n",
      "[LightGBM] [Warning] low is set=0.0001,, low=0.0, will be ignored. Current value: low=0.0001,\n",
      "[LightGBM] [Warning] step is set=None),, step=None), will be ignored. Current value: step=None),\n",
      "[LightGBM] [Warning] min_split_gain': is set=, min_split_gain':= will be ignored. Current value: min_split_gain':=\n",
      "[LightGBM] [Warning] FloatDistribution(high is set=0.1,, FloatDistribution(high=1.0, will be ignored. Current value: FloatDistribution(high=0.1,\n",
      "[LightGBM] [Warning] log is set=True,, log=False, will be ignored. Current value: log=True,\n",
      "[LightGBM] [Warning] low is set=0.0001,, low=0.0, will be ignored. Current value: low=0.0001,\n",
      "[LightGBM] [Warning] step is set=None),, step=None)}, will be ignored. Current value: step=None),\n",
      "[LightGBM] [Warning] user_attrs is set={},, user_attrs={}, will be ignored. Current value: user_attrs={},\n",
      "[LightGBM] [Warning] system_attrs is set={'nsga2:generation':, system_attrs={'nsga2:generation': will be ignored. Current value: system_attrs={'nsga2:generation':\n",
      "[LightGBM] [Warning] 1}, is set=, 1},= will be ignored. Current value: 1},=\n",
      "[LightGBM] [Warning] intermediate_values is set={},, intermediate_values={}, will be ignored. Current value: intermediate_values={},\n",
      "[LightGBM] [Warning] trial_id is set=3,, trial_id=72, will be ignored. Current value: trial_id=3,\n",
      "[LightGBM] [Warning] state is set=TrialState.COMPLETE,, state=TrialState.COMPLETE, will be ignored. Current value: state=TrialState.COMPLETE,\n",
      "[LightGBM] [Warning] Unknown parameter value=None),FrozenTrial(number=86,\n",
      "[LightGBM] [Warning] values is set=[0.1689984454807906,, values=[0.12204545454545454, will be ignored. Current value: values=[0.1689984454807906,\n",
      "[LightGBM] [Warning] datetime_start is set=datetime.datetime(2022,, datetime_start=datetime.datetime(2022, will be ignored. Current value: datetime_start=datetime.datetime(2022,\n",
      "[LightGBM] [Warning] 12, is set=, 12,= will be ignored. Current value: 12,=\n",
      "[LightGBM] [Warning] 22, is set=, 22,= will be ignored. Current value: 22,=\n",
      "[LightGBM] [Warning] 19, is set=, 19,= will be ignored. Current value: 19,=\n",
      "[LightGBM] [Warning] datetime_complete is set=datetime.datetime(2022,, datetime_complete=datetime.datetime(2022, will be ignored. Current value: datetime_complete=datetime.datetime(2022,\n",
      "[LightGBM] [Warning] 12, is set=, 12,= will be ignored. Current value: 12,=\n",
      "[LightGBM] [Warning] 22, is set=, 22,= will be ignored. Current value: 22,=\n",
      "[LightGBM] [Warning] 19, is set=, 19,= will be ignored. Current value: 19,=\n",
      "[LightGBM] [Warning] 12, is set=, 12,= will be ignored. Current value: 12,=\n",
      "[LightGBM] [Warning] params is set={'learning_rate':, params={'learning_rate': will be ignored. Current value: params={'learning_rate':\n",
      "[LightGBM] [Warning] num_leaves': is set=, num_leaves':= will be ignored. Current value: num_leaves':=\n",
      "[LightGBM] [Warning] 165, is set=, 165,= will be ignored. Current value: 165,=\n",
      "[LightGBM] [Warning] max_depth': is set=, max_depth':= will be ignored. Current value: max_depth':=\n",
      "[LightGBM] [Warning] 259, is set=, 259,= will be ignored. Current value: 259,=\n",
      "[LightGBM] [Warning] n_estimators': is set=, n_estimators':= will be ignored. Current value: n_estimators':=\n",
      "[LightGBM] [Warning] min_child_samples': is set=, min_child_samples':= will be ignored. Current value: min_child_samples':=\n",
      "[LightGBM] [Warning] subsample': is set=, subsample':= will be ignored. Current value: subsample':=\n",
      "[LightGBM] [Warning] colsample_bytree': is set=, colsample_bytree':= will be ignored. Current value: colsample_bytree':=\n",
      "[LightGBM] [Warning] reg_alpha': is set=, reg_alpha':= will be ignored. Current value: reg_alpha':=\n",
      "[LightGBM] [Warning] reg_lambda': is set=, reg_lambda':= will be ignored. Current value: reg_lambda':=\n",
      "[LightGBM] [Warning] scale_pos_weight': is set=, scale_pos_weight':= will be ignored. Current value: scale_pos_weight':=\n",
      "[LightGBM] [Warning] min_split_gain': is set=, min_split_gain':= will be ignored. Current value: min_split_gain':=\n",
      "[LightGBM] [Warning] distributions is set={'learning_rate':, distributions={'learning_rate': will be ignored. Current value: distributions={'learning_rate':\n",
      "[LightGBM] [Warning] FloatDistribution(high is set=0.1,, FloatDistribution(high=0.1, will be ignored. Current value: FloatDistribution(high=0.1,\n",
      "[LightGBM] [Warning] log is set=True,, log=True, will be ignored. Current value: log=True,\n",
      "[LightGBM] [Warning] low is set=0.0001,, low=0.0001, will be ignored. Current value: low=0.0001,\n",
      "[LightGBM] [Warning] step is set=None),, step=None), will be ignored. Current value: step=None),\n",
      "[LightGBM] [Warning] num_leaves': is set=, num_leaves':= will be ignored. Current value: num_leaves':=\n",
      "[LightGBM] [Warning] IntDistribution(high is set=300,, IntDistribution(high=300, will be ignored. Current value: IntDistribution(high=300,\n",
      "[LightGBM] [Warning] log is set=True,, log=False, will be ignored. Current value: log=True,\n",
      "[LightGBM] [Warning] low is set=0.0001,, low=2, will be ignored. Current value: low=0.0001,\n",
      "[LightGBM] [Warning] step is set=None),, step=1), will be ignored. Current value: step=None),\n",
      "[LightGBM] [Warning] max_depth': is set=, max_depth':= will be ignored. Current value: max_depth':=\n",
      "[LightGBM] [Warning] IntDistribution(high is set=300,, IntDistribution(high=300, will be ignored. Current value: IntDistribution(high=300,\n",
      "[LightGBM] [Warning] log is set=True,, log=False, will be ignored. Current value: log=True,\n",
      "[LightGBM] [Warning] low is set=0.0001,, low=1, will be ignored. Current value: low=0.0001,\n",
      "[LightGBM] [Warning] step is set=None),, step=1), will be ignored. Current value: step=None),\n",
      "[LightGBM] [Warning] n_estimators': is set=, n_estimators':= will be ignored. Current value: n_estimators':=\n",
      "[LightGBM] [Warning] IntDistribution(high is set=300,, IntDistribution(high=300, will be ignored. Current value: IntDistribution(high=300,\n",
      "[LightGBM] [Warning] log is set=True,, log=False, will be ignored. Current value: log=True,\n",
      "[LightGBM] [Warning] low is set=0.0001,, low=10, will be ignored. Current value: low=0.0001,\n",
      "[LightGBM] [Warning] step is set=None),, step=1), will be ignored. Current value: step=None),\n",
      "[LightGBM] [Warning] min_child_samples': is set=, min_child_samples':= will be ignored. Current value: min_child_samples':=\n",
      "[LightGBM] [Warning] IntDistribution(high is set=300,, IntDistribution(high=1000, will be ignored. Current value: IntDistribution(high=300,\n",
      "[LightGBM] [Warning] log is set=True,, log=False, will be ignored. Current value: log=True,\n",
      "[LightGBM] [Warning] low is set=0.0001,, low=10, will be ignored. Current value: low=0.0001,\n",
      "[LightGBM] [Warning] step is set=None),, step=1), will be ignored. Current value: step=None),\n",
      "[LightGBM] [Warning] subsample': is set=, subsample':= will be ignored. Current value: subsample':=\n",
      "[LightGBM] [Warning] FloatDistribution(high is set=0.1,, FloatDistribution(high=1.0, will be ignored. Current value: FloatDistribution(high=0.1,\n",
      "[LightGBM] [Warning] log is set=True,, log=False, will be ignored. Current value: log=True,\n",
      "[LightGBM] [Warning] low is set=0.0001,, low=0.7, will be ignored. Current value: low=0.0001,\n",
      "[LightGBM] [Warning] step is set=None),, step=None), will be ignored. Current value: step=None),\n",
      "[LightGBM] [Warning] colsample_bytree': is set=, colsample_bytree':= will be ignored. Current value: colsample_bytree':=\n",
      "[LightGBM] [Warning] FloatDistribution(high is set=0.1,, FloatDistribution(high=1.0, will be ignored. Current value: FloatDistribution(high=0.1,\n",
      "[LightGBM] [Warning] log is set=True,, log=False, will be ignored. Current value: log=True,\n",
      "[LightGBM] [Warning] low is set=0.0001,, low=0.3, will be ignored. Current value: low=0.0001,\n",
      "[LightGBM] [Warning] step is set=None),, step=None), will be ignored. Current value: step=None),\n",
      "[LightGBM] [Warning] reg_alpha': is set=, reg_alpha':= will be ignored. Current value: reg_alpha':=\n",
      "[LightGBM] [Warning] FloatDistribution(high is set=0.1,, FloatDistribution(high=200.0, will be ignored. Current value: FloatDistribution(high=0.1,\n",
      "[LightGBM] [Warning] log is set=True,, log=False, will be ignored. Current value: log=True,\n",
      "[LightGBM] [Warning] low is set=0.0001,, low=0.0, will be ignored. Current value: low=0.0001,\n",
      "[LightGBM] [Warning] step is set=None),, step=None), will be ignored. Current value: step=None),\n",
      "[LightGBM] [Warning] reg_lambda': is set=, reg_lambda':= will be ignored. Current value: reg_lambda':=\n",
      "[LightGBM] [Warning] FloatDistribution(high is set=0.1,, FloatDistribution(high=200.0, will be ignored. Current value: FloatDistribution(high=0.1,\n",
      "[LightGBM] [Warning] log is set=True,, log=False, will be ignored. Current value: log=True,\n",
      "[LightGBM] [Warning] low is set=0.0001,, low=0.0, will be ignored. Current value: low=0.0001,\n",
      "[LightGBM] [Warning] step is set=None),, step=None), will be ignored. Current value: step=None),\n",
      "[LightGBM] [Warning] scale_pos_weight': is set=, scale_pos_weight':= will be ignored. Current value: scale_pos_weight':=\n",
      "[LightGBM] [Warning] FloatDistribution(high is set=0.1,, FloatDistribution(high=1000.0, will be ignored. Current value: FloatDistribution(high=0.1,\n",
      "[LightGBM] [Warning] log is set=True,, log=False, will be ignored. Current value: log=True,\n",
      "[LightGBM] [Warning] low is set=0.0001,, low=0.0, will be ignored. Current value: low=0.0001,\n",
      "[LightGBM] [Warning] step is set=None),, step=None), will be ignored. Current value: step=None),\n",
      "[LightGBM] [Warning] min_split_gain': is set=, min_split_gain':= will be ignored. Current value: min_split_gain':=\n",
      "[LightGBM] [Warning] FloatDistribution(high is set=0.1,, FloatDistribution(high=1.0, will be ignored. Current value: FloatDistribution(high=0.1,\n",
      "[LightGBM] [Warning] log is set=True,, log=False, will be ignored. Current value: log=True,\n",
      "[LightGBM] [Warning] low is set=0.0001,, low=0.0, will be ignored. Current value: low=0.0001,\n",
      "[LightGBM] [Warning] step is set=None),, step=None)}, will be ignored. Current value: step=None),\n",
      "[LightGBM] [Warning] user_attrs is set={},, user_attrs={}, will be ignored. Current value: user_attrs={},\n",
      "[LightGBM] [Warning] system_attrs is set={'nsga2:generation':, system_attrs={'nsga2:generation': will be ignored. Current value: system_attrs={'nsga2:generation':\n",
      "[LightGBM] [Warning] 1}, is set=, 1},= will be ignored. Current value: 1},=\n",
      "[LightGBM] [Warning] intermediate_values is set={},, intermediate_values={}, will be ignored. Current value: intermediate_values={},\n",
      "[LightGBM] [Warning] trial_id is set=3,, trial_id=86, will be ignored. Current value: trial_id=3,\n",
      "[LightGBM] [Warning] state is set=TrialState.COMPLETE,, state=TrialState.COMPLETE, will be ignored. Current value: state=TrialState.COMPLETE,\n",
      "[LightGBM] [Warning] Unknown parameter value=None),FrozenTrial(number=96,\n",
      "[LightGBM] [Warning] values is set=[0.1689984454807906,, values=[0.0930663247654517, will be ignored. Current value: values=[0.1689984454807906,\n",
      "[LightGBM] [Warning] datetime_start is set=datetime.datetime(2022,, datetime_start=datetime.datetime(2022, will be ignored. Current value: datetime_start=datetime.datetime(2022,\n",
      "[LightGBM] [Warning] 12, is set=, 12,= will be ignored. Current value: 12,=\n",
      "[LightGBM] [Warning] 22, is set=, 22,= will be ignored. Current value: 22,=\n",
      "[LightGBM] [Warning] 19, is set=, 19,= will be ignored. Current value: 19,=\n",
      "[LightGBM] [Warning] 52, is set=, 52,= will be ignored. Current value: 52,=\n",
      "[LightGBM] [Warning] 6, is set=, 6,= will be ignored. Current value: 6,=\n",
      "[LightGBM] [Warning] datetime_complete is set=datetime.datetime(2022,, datetime_complete=datetime.datetime(2022, will be ignored. Current value: datetime_complete=datetime.datetime(2022,\n",
      "[LightGBM] [Warning] 12, is set=, 12,= will be ignored. Current value: 12,=\n",
      "[LightGBM] [Warning] 22, is set=, 22,= will be ignored. Current value: 22,=\n",
      "[LightGBM] [Warning] 19, is set=, 19,= will be ignored. Current value: 19,=\n",
      "[LightGBM] [Warning] params is set={'learning_rate':, params={'learning_rate': will be ignored. Current value: params={'learning_rate':\n",
      "[LightGBM] [Warning] num_leaves': is set=, num_leaves':= will be ignored. Current value: num_leaves':=\n",
      "[LightGBM] [Warning] max_depth': is set=, max_depth':= will be ignored. Current value: max_depth':=\n",
      "[LightGBM] [Warning] 21, is set=, 21,= will be ignored. Current value: 21,=\n",
      "[LightGBM] [Warning] n_estimators': is set=, n_estimators':= will be ignored. Current value: n_estimators':=\n",
      "[LightGBM] [Warning] min_child_samples': is set=, min_child_samples':= will be ignored. Current value: min_child_samples':=\n",
      "[LightGBM] [Warning] subsample': is set=, subsample':= will be ignored. Current value: subsample':=\n",
      "[LightGBM] [Warning] colsample_bytree': is set=, colsample_bytree':= will be ignored. Current value: colsample_bytree':=\n",
      "[LightGBM] [Warning] reg_alpha': is set=, reg_alpha':= will be ignored. Current value: reg_alpha':=\n",
      "[LightGBM] [Warning] reg_lambda': is set=, reg_lambda':= will be ignored. Current value: reg_lambda':=\n",
      "[LightGBM] [Warning] scale_pos_weight': is set=, scale_pos_weight':= will be ignored. Current value: scale_pos_weight':=\n",
      "[LightGBM] [Warning] min_split_gain': is set=, min_split_gain':= will be ignored. Current value: min_split_gain':=\n",
      "[LightGBM] [Warning] distributions is set={'learning_rate':, distributions={'learning_rate': will be ignored. Current value: distributions={'learning_rate':\n",
      "[LightGBM] [Warning] FloatDistribution(high is set=0.1,, FloatDistribution(high=0.1, will be ignored. Current value: FloatDistribution(high=0.1,\n",
      "[LightGBM] [Warning] log is set=True,, log=True, will be ignored. Current value: log=True,\n",
      "[LightGBM] [Warning] low is set=0.0001,, low=0.0001, will be ignored. Current value: low=0.0001,\n",
      "[LightGBM] [Warning] step is set=None),, step=None), will be ignored. Current value: step=None),\n",
      "[LightGBM] [Warning] num_leaves': is set=, num_leaves':= will be ignored. Current value: num_leaves':=\n",
      "[LightGBM] [Warning] IntDistribution(high is set=300,, IntDistribution(high=300, will be ignored. Current value: IntDistribution(high=300,\n",
      "[LightGBM] [Warning] log is set=True,, log=False, will be ignored. Current value: log=True,\n",
      "[LightGBM] [Warning] low is set=0.0001,, low=2, will be ignored. Current value: low=0.0001,\n",
      "[LightGBM] [Warning] step is set=None),, step=1), will be ignored. Current value: step=None),\n",
      "[LightGBM] [Warning] max_depth': is set=, max_depth':= will be ignored. Current value: max_depth':=\n",
      "[LightGBM] [Warning] IntDistribution(high is set=300,, IntDistribution(high=300, will be ignored. Current value: IntDistribution(high=300,\n",
      "[LightGBM] [Warning] log is set=True,, log=False, will be ignored. Current value: log=True,\n",
      "[LightGBM] [Warning] low is set=0.0001,, low=1, will be ignored. Current value: low=0.0001,\n",
      "[LightGBM] [Warning] step is set=None),, step=1), will be ignored. Current value: step=None),\n",
      "[LightGBM] [Warning] n_estimators': is set=, n_estimators':= will be ignored. Current value: n_estimators':=\n",
      "[LightGBM] [Warning] IntDistribution(high is set=300,, IntDistribution(high=300, will be ignored. Current value: IntDistribution(high=300,\n",
      "[LightGBM] [Warning] log is set=True,, log=False, will be ignored. Current value: log=True,\n",
      "[LightGBM] [Warning] low is set=0.0001,, low=10, will be ignored. Current value: low=0.0001,\n",
      "[LightGBM] [Warning] step is set=None),, step=1), will be ignored. Current value: step=None),\n",
      "[LightGBM] [Warning] min_child_samples': is set=, min_child_samples':= will be ignored. Current value: min_child_samples':=\n",
      "[LightGBM] [Warning] IntDistribution(high is set=300,, IntDistribution(high=1000, will be ignored. Current value: IntDistribution(high=300,\n",
      "[LightGBM] [Warning] log is set=True,, log=False, will be ignored. Current value: log=True,\n",
      "[LightGBM] [Warning] low is set=0.0001,, low=10, will be ignored. Current value: low=0.0001,\n",
      "[LightGBM] [Warning] step is set=None),, step=1), will be ignored. Current value: step=None),\n",
      "[LightGBM] [Warning] subsample': is set=, subsample':= will be ignored. Current value: subsample':=\n",
      "[LightGBM] [Warning] FloatDistribution(high is set=0.1,, FloatDistribution(high=1.0, will be ignored. Current value: FloatDistribution(high=0.1,\n",
      "[LightGBM] [Warning] log is set=True,, log=False, will be ignored. Current value: log=True,\n",
      "[LightGBM] [Warning] low is set=0.0001,, low=0.7, will be ignored. Current value: low=0.0001,\n",
      "[LightGBM] [Warning] step is set=None),, step=None), will be ignored. Current value: step=None),\n",
      "[LightGBM] [Warning] colsample_bytree': is set=, colsample_bytree':= will be ignored. Current value: colsample_bytree':=\n",
      "[LightGBM] [Warning] FloatDistribution(high is set=0.1,, FloatDistribution(high=1.0, will be ignored. Current value: FloatDistribution(high=0.1,\n",
      "[LightGBM] [Warning] log is set=True,, log=False, will be ignored. Current value: log=True,\n",
      "[LightGBM] [Warning] low is set=0.0001,, low=0.3, will be ignored. Current value: low=0.0001,\n",
      "[LightGBM] [Warning] step is set=None),, step=None), will be ignored. Current value: step=None),\n",
      "[LightGBM] [Warning] reg_alpha': is set=, reg_alpha':= will be ignored. Current value: reg_alpha':=\n",
      "[LightGBM] [Warning] FloatDistribution(high is set=0.1,, FloatDistribution(high=200.0, will be ignored. Current value: FloatDistribution(high=0.1,\n",
      "[LightGBM] [Warning] log is set=True,, log=False, will be ignored. Current value: log=True,\n",
      "[LightGBM] [Warning] low is set=0.0001,, low=0.0, will be ignored. Current value: low=0.0001,\n",
      "[LightGBM] [Warning] step is set=None),, step=None), will be ignored. Current value: step=None),\n",
      "[LightGBM] [Warning] reg_lambda': is set=, reg_lambda':= will be ignored. Current value: reg_lambda':=\n",
      "[LightGBM] [Warning] FloatDistribution(high is set=0.1,, FloatDistribution(high=200.0, will be ignored. Current value: FloatDistribution(high=0.1,\n",
      "[LightGBM] [Warning] log is set=True,, log=False, will be ignored. Current value: log=True,\n",
      "[LightGBM] [Warning] low is set=0.0001,, low=0.0, will be ignored. Current value: low=0.0001,\n",
      "[LightGBM] [Warning] step is set=None),, step=None), will be ignored. Current value: step=None),\n",
      "[LightGBM] [Warning] scale_pos_weight': is set=, scale_pos_weight':= will be ignored. Current value: scale_pos_weight':=\n",
      "[LightGBM] [Warning] FloatDistribution(high is set=0.1,, FloatDistribution(high=1000.0, will be ignored. Current value: FloatDistribution(high=0.1,\n",
      "[LightGBM] [Warning] log is set=True,, log=False, will be ignored. Current value: log=True,\n",
      "[LightGBM] [Warning] low is set=0.0001,, low=0.0, will be ignored. Current value: low=0.0001,\n",
      "[LightGBM] [Warning] step is set=None),, step=None), will be ignored. Current value: step=None),\n",
      "[LightGBM] [Warning] min_split_gain': is set=, min_split_gain':= will be ignored. Current value: min_split_gain':=\n",
      "[LightGBM] [Warning] FloatDistribution(high is set=0.1,, FloatDistribution(high=1.0, will be ignored. Current value: FloatDistribution(high=0.1,\n",
      "[LightGBM] [Warning] log is set=True,, log=False, will be ignored. Current value: log=True,\n",
      "[LightGBM] [Warning] low is set=0.0001,, low=0.0, will be ignored. Current value: low=0.0001,\n",
      "[LightGBM] [Warning] step is set=None),, step=None)}, will be ignored. Current value: step=None),\n",
      "[LightGBM] [Warning] user_attrs is set={},, user_attrs={}, will be ignored. Current value: user_attrs={},\n",
      "[LightGBM] [Warning] system_attrs is set={'nsga2:generation':, system_attrs={'nsga2:generation': will be ignored. Current value: system_attrs={'nsga2:generation':\n",
      "[LightGBM] [Warning] 1}, is set=, 1},= will be ignored. Current value: 1},=\n",
      "[LightGBM] [Warning] intermediate_values is set={},, intermediate_values={}, will be ignored. Current value: intermediate_values={},\n",
      "[LightGBM] [Warning] trial_id is set=3,, trial_id=96, will be ignored. Current value: trial_id=3,\n",
      "[LightGBM] [Warning] state is set=TrialState.COMPLETE,, state=TrialState.COMPLETE, will be ignored. Current value: state=TrialState.COMPLETE,\n",
      "[LightGBM] [Warning] Unknown parameter: 0.7227322662519879},\n",
      "[LightGBM] [Warning] Unknown parameter: 505.9692488390168,\n",
      "[LightGBM] [Warning] Unknown parameter: 184.08902546588166,\n",
      "[LightGBM] [Warning] Unknown parameter: 578,\n",
      "[LightGBM] [Warning] Unknown parameter: 246,\n",
      "[LightGBM] [Warning] Unknown parameter: 799059),\n",
      "[LightGBM] [Warning] Unknown parameter: 53,\n",
      "[LightGBM] [Warning] Unknown parameter: 266.806554199829,\n",
      "[LightGBM] [Warning] Unknown parameter: value\n",
      "[LightGBM] [Warning] Unknown parameter: 13.506200061837026,\n",
      "[LightGBM] [Warning] Unknown parameter: 0.6472516416562913,\n",
      "[LightGBM] [Warning] Unknown parameter: 0.9514792323628996,\n",
      "[LightGBM] [Warning] Unknown parameter: 0.8360207083773059,\n",
      "[LightGBM] [Warning] Unknown parameter: 506,\n",
      "[LightGBM] [Warning] Unknown parameter: 0.0199419091044948,\n",
      "[LightGBM] [Warning] Unknown parameter: 0.9991260651081495],\n",
      "[LightGBM] [Warning] Unknown parameter: 414573),\n",
      "[LightGBM] [Warning] Unknown parameter: 48,\n",
      "[LightGBM] [Warning] Unknown parameter: 47,\n",
      "[LightGBM] [Warning] Unknown parameter: 0.2346515184618746],\n",
      "[LightGBM] [Warning] Unknown parameter: 848.459104687216,\n",
      "[LightGBM] [Warning] Unknown parameter: 196,\n",
      "[LightGBM] [Warning] Unknown parameter: 52,\n",
      "[LightGBM] [Warning] Unknown parameter: 41,\n",
      "[LightGBM] [Warning] Unknown parameter: 1.0],\n",
      "[LightGBM] [Warning] Unknown parameter: 136.33917163028576,\n",
      "[LightGBM] [Warning] Unknown parameter: 0.9997815162770374],\n",
      "[LightGBM] [Warning] Unknown parameter: 137.16775365614635,\n",
      "[LightGBM] [Warning] Unknown parameter: intermediate_values\n",
      "[LightGBM] [Warning] Unknown parameter: 0.0540031066277866,\n",
      "[LightGBM] [Warning] Unknown parameter: IntDistribution(high\n",
      "[LightGBM] [Warning] Unknown parameter: 0.998599604882513,\n",
      "[LightGBM] [Warning] Unknown parameter: 563648),\n",
      "[LightGBM] [Warning] Unknown parameter: user_attrs\n",
      "[LightGBM] [Warning] Unknown parameter: FloatDistribution(high\n",
      "[LightGBM] [Warning] Unknown parameter: 26,\n",
      "[LightGBM] [Warning] Unknown parameter: 116.58893858261321,\n",
      "[LightGBM] [Warning] Unknown parameter: scale_pos_weight':\n",
      "[LightGBM] [Warning] Unknown parameter: 156,\n",
      "[LightGBM] [Warning] Unknown parameter: 22,\n",
      "[LightGBM] [Warning] Unknown parameter: 35,\n",
      "[LightGBM] [Warning] Unknown parameter: 10,\n",
      "[LightGBM] [Warning] Unknown parameter: 97.20549761507655,\n",
      "[LightGBM] [Warning] Unknown parameter: 33.60957118906853,\n",
      "[LightGBM] [Warning] Unknown parameter: reg_lambda':\n",
      "[LightGBM] [Warning] Unknown parameter: 0.3978688331263057,\n",
      "[LightGBM] [Warning] Unknown parameter: min_split_gain':\n",
      "[LightGBM] [Warning] Unknown parameter: 0.605603474727223,\n",
      "[LightGBM] [Warning] Unknown parameter: 580240),\n",
      "[LightGBM] [Warning] Unknown parameter: reg_alpha':\n",
      "[LightGBM] [Warning] Unknown parameter: 34.720805304565936,\n",
      "[LightGBM] [Warning] Unknown parameter: 12,\n",
      "[LightGBM] [Warning] Unknown parameter: 0.8990881827943769,\n",
      "[LightGBM] [Warning] Unknown parameter: 361,\n",
      "[LightGBM] [Warning] Unknown parameter: 175.24789410596046,\n",
      "[LightGBM] [Warning] Unknown parameter: 21,\n",
      "[LightGBM] [Warning] Unknown parameter: 17,\n",
      "[LightGBM] [Warning] Unknown parameter: 9,\n",
      "[LightGBM] [Warning] Unknown parameter: 221,\n",
      "[LightGBM] [Warning] Unknown parameter: 0.1662661131745685],\n",
      "[LightGBM] [Warning] Unknown parameter: 40,\n",
      "[LightGBM] [Warning] Unknown parameter: max_depth':\n",
      "[LightGBM] [Warning] Unknown parameter: values\n",
      "[LightGBM] [Warning] Unknown parameter: datetime_complete\n",
      "[LightGBM] [Warning] Unknown parameter: 151,\n",
      "[LightGBM] [Warning] Unknown parameter: system_attrs\n",
      "[LightGBM] [Warning] Unknown parameter: 992688),\n",
      "[LightGBM] [Warning] Unknown parameter: n_estimators':\n",
      "[LightGBM] [Warning] Unknown parameter: 27,\n",
      "[LightGBM] [Warning] Unknown parameter: 228,\n",
      "[LightGBM] [Warning] Unknown parameter: 28,\n",
      "[LightGBM] [Warning] Unknown parameter: trial_id\n",
      "[LightGBM] [Warning] Unknown parameter: 216,\n",
      "[LightGBM] [Warning] Unknown parameter: log\n",
      "[LightGBM] [Warning] Unknown parameter: 195,\n",
      "[LightGBM] [Warning] Unknown parameter: 0.34897862385912104,\n",
      "[LightGBM] [Warning] Unknown parameter: step\n",
      "[LightGBM] [Warning] Unknown parameter: 0.047103377852706324,\n",
      "[LightGBM] [Warning] Unknown parameter: 807.0082493837816,\n",
      "[LightGBM] [Warning] Unknown parameter: colsample_bytree':\n",
      "[LightGBM] [Warning] Unknown parameter: 0.9995630325540747],\n",
      "[LightGBM] [Warning] Unknown parameter: 0.5758277511088711},\n",
      "[LightGBM] [Warning] Unknown parameter: 118492),\n",
      "[LightGBM] [Warning] Unknown parameter: params\n",
      "[LightGBM] [Warning] Unknown parameter: 46,\n",
      "[LightGBM] [Warning] Unknown parameter: 32.16335798912071,\n",
      "[LightGBM] [Warning] Unknown parameter: 0.021976722901146512,\n",
      "[LightGBM] [Warning] Unknown parameter: 45,\n",
      "[LightGBM] [Warning] Unknown parameter: 0.09378016816755208},\n",
      "[LightGBM] [Warning] Unknown parameter: 369,\n",
      "[LightGBM] [Warning] Unknown parameter: min_child_samples':\n",
      "[LightGBM] [Warning] Unknown parameter: 43.64895297579028,\n",
      "[LightGBM] [Warning] Unknown parameter: 19,\n",
      "[LightGBM] [Warning] Unknown parameter: subsample':\n",
      "[LightGBM] [Warning] Unknown parameter: 996705),\n",
      "[LightGBM] [Warning] Unknown parameter: 6,\n",
      "[LightGBM] [Warning] Unknown parameter: 278,\n",
      "[LightGBM] [Warning] Unknown parameter: 163043),\n",
      "[LightGBM] [Warning] Unknown parameter: 496981),\n",
      "[LightGBM] [Warning] Unknown parameter: 0},\n",
      "[LightGBM] [Warning] Unknown parameter: 5,\n",
      "[LightGBM] [Warning] Unknown parameter: 209,\n",
      "[LightGBM] [Warning] Unknown parameter: 239,\n",
      "[LightGBM] [Warning] Unknown parameter: datetime_start\n",
      "[LightGBM] [Warning] Unknown parameter: 636.9142177020569,\n",
      "[LightGBM] [Warning] Unknown parameter: 0.6086572111020716,\n",
      "[LightGBM] [Warning] Unknown parameter: 193,\n",
      "[LightGBM] [Warning] Unknown parameter: state\n",
      "[LightGBM] [Warning] Unknown parameter: 244,\n",
      "[LightGBM] [Warning] Unknown parameter: 31,\n",
      "[LightGBM] [Warning] Unknown parameter: 653,\n",
      "[LightGBM] [Warning] Unknown parameter: 809169),\n",
      "[LightGBM] [Warning] Unknown parameter: 149.42857471341938,\n",
      "[LightGBM] [Warning] Unknown parameter: 0.981185065673528,\n",
      "[LightGBM] [Warning] Unknown parameter: 0.24335657433139601},\n",
      "[LightGBM] [Warning] Unknown parameter: 164194),\n",
      "[LightGBM] [Warning] Unknown parameter: num_leaves':\n",
      "[LightGBM] [Warning] Unknown parameter: distributions\n",
      "[LightGBM] [Warning] Unknown parameter: 413951),\n",
      "[LightGBM] [Warning] Unknown parameter: 36,\n",
      "[LightGBM] [Warning] Unknown parameter: 165,\n",
      "[LightGBM] [Warning] Unknown parameter: 260,\n",
      "[LightGBM] [Warning] Unknown parameter: 576,\n",
      "[LightGBM] [Warning] Unknown parameter: low\n",
      "[LightGBM] [Warning] Unknown parameter: 35.57021540804084,\n",
      "[LightGBM] [Warning] Unknown parameter: 0.9326533348469404,\n",
      "[LightGBM] [Warning] Unknown parameter: 0.6796487837469064},\n",
      "[LightGBM] [Warning] Unknown parameter: 0.9963250686881654},\n",
      "[LightGBM] [Warning] Unknown parameter: 526658),\n",
      "[LightGBM] [Warning] Unknown parameter: 259,\n",
      "[LightGBM] [Warning] Unknown parameter: 0.045499004586588475,\n",
      "[LightGBM] [Warning] Unknown parameter: 1},\n",
      "[LightGBM] [Warning] Unknown parameter: 66674),\n",
      "[LightGBM] [Warning] Unknown parameter: 777751),\n",
      "[LightGBM] [Warning] Unknown parameter: 562470),\n",
      "[LightGBM] [Warning] Unknown parameter: 291,\n",
      "[LightGBM] [Warning] Unknown parameter: 0.711629475269932,\n",
      "[LightGBM] [Warning] Unknown parameter: 181,\n"
     ]
    },
    {
     "data": {
      "text/plain": [
       "LGBMClassifier(boosting_type=[FrozenTrial(number=3, values=[0.1689984454807906, 0.1662661131745685], datetime_start=datetime.datetime(2022, 12, 22, 19, 9, 17, 996705), datetime_complete=datetime.datetime(2022, 12, 22, 19, 9, 45, 118492), params={'learning_rate': 0.021976722901146512, 'num_leaves': 228, 'max_depth': 151, 'n_estimators': 195, 'min_child_samples': 361, 'subsamp...\n",
       "                              FrozenTrial(number=96, values=[0.0930663247654517, 0.9991260651081495], datetime_start=datetime.datetime(2022, 12, 22, 19, 52, 6, 992688), datetime_complete=datetime.datetime(2022, 12, 22, 19, 53, 21, 799059), params={'learning_rate': 0.0540031066277866, 'num_leaves': 246, 'max_depth': 21, 'n_estimators': 216, 'min_child_samples': 578, 'subsample': 0.9514792323628996, 'colsample_bytree': 0.6086572111020716, 'reg_alpha': 34.720805304565936, 'reg_lambda': 184.08902546588166, 'scale_pos_weight': 505.9692488390168, 'min_split_gain': 0.7227322662519879}, distributions={'learning_rate': FloatDistribution(high=0.1, log=True, low=0.0001, step=None), 'num_leaves': IntDistribution(high=300, log=False, low=2, step=1), 'max_depth': IntDistribution(high=300, log=False, low=1, step=1), 'n_estimators': IntDistribution(high=300, log=False, low=10, step=1), 'min_child_samples': IntDistribution(high=1000, log=False, low=10, step=1), 'subsample': FloatDistribution(high=1.0, log=False, low=0.7, step=None), 'colsample_bytree': FloatDistribution(high=1.0, log=False, low=0.3, step=None), 'reg_alpha': FloatDistribution(high=200.0, log=False, low=0.0, step=None), 'reg_lambda': FloatDistribution(high=200.0, log=False, low=0.0, step=None), 'scale_pos_weight': FloatDistribution(high=1000.0, log=False, low=0.0, step=None), 'min_split_gain': FloatDistribution(high=1.0, log=False, low=0.0, step=None)}, user_attrs={}, system_attrs={'nsga2:generation': 1}, intermediate_values={}, trial_id=96, state=TrialState.COMPLETE, value=None)],\n",
       "               class_weight=None, colsample_bytree=1.0, importance_type='split',\n",
       "               learning_rate=0.1, max_depth=-1, min_child_samples=20,\n",
       "               min_child_weight=0.001, min_split_gain=0.0, n_estimators=100,\n",
       "               n_jobs=-1, num_leaves=31, objective=None, random_state=None,\n",
       "               reg_alpha=0.0, reg_lambda=0.0, silent='warn', subsample=1.0,\n",
       "               subsample_for_bin=200000, subsample_freq=0)"
      ]
     },
     "execution_count": 28,
     "metadata": {},
     "output_type": "execute_result"
    }
   ],
   "source": [
    "#best param\n",
    "clf = LGBMClassifier(study.best_trials)\n",
    "clf.fit(train_X, train_Y)"
   ]
  },
  {
   "cell_type": "code",
   "execution_count": 29,
   "metadata": {},
   "outputs": [
    {
     "data": {
      "text/plain": [
       "['lgbm_12_22_2022.pkl']"
      ]
     },
     "execution_count": 29,
     "metadata": {},
     "output_type": "execute_result"
    }
   ],
   "source": [
    "# export\n",
    "joblib.dump(clf, 'lgbm_12_22_2022.pkl')"
   ]
  },
  {
   "cell_type": "code",
   "execution_count": null,
   "metadata": {},
   "outputs": [],
   "source": [
    "# import pickle\n",
    "#load pickle local python\n",
    "# clf =joblib.load('lgbm_12_22_2022_macro.pkl')"
   ]
  },
  {
   "cell_type": "markdown",
   "metadata": {},
   "source": [
    "### Feature Importance"
   ]
  },
  {
   "cell_type": "code",
   "execution_count": 46,
   "metadata": {},
   "outputs": [
    {
     "ename": "NameError",
     "evalue": "name 'train_X' is not defined",
     "output_type": "error",
     "traceback": [
      "\u001b[0;31m---------------------------------------------------------------------------\u001b[0m",
      "\u001b[0;31mNameError\u001b[0m                                 Traceback (most recent call last)",
      "\u001b[0;32m<ipython-input-46-d1e5e51d90b4>\u001b[0m in \u001b[0;36m<module>\u001b[0;34m\u001b[0m\n\u001b[0;32m----> 1\u001b[0;31m \u001b[0mfn_importance_features\u001b[0m\u001b[0;34m(\u001b[0m\u001b[0mclf\u001b[0m\u001b[0;34m)\u001b[0m\u001b[0;34m\u001b[0m\u001b[0;34m\u001b[0m\u001b[0m\n\u001b[0m",
      "\u001b[0;32m<ipython-input-12-bb38045e44b6>\u001b[0m in \u001b[0;36mfn_importance_features\u001b[0;34m(model)\u001b[0m\n\u001b[1;32m      2\u001b[0m     \u001b[0mclf\u001b[0m \u001b[0;34m=\u001b[0m \u001b[0mmodel\u001b[0m\u001b[0;34m\u001b[0m\u001b[0;34m\u001b[0m\u001b[0m\n\u001b[1;32m      3\u001b[0m     \u001b[0mfeature_importances_data\u001b[0m \u001b[0;34m=\u001b[0m \u001b[0;34m[\u001b[0m\u001b[0;34m]\u001b[0m\u001b[0;34m\u001b[0m\u001b[0;34m\u001b[0m\u001b[0m\n\u001b[0;32m----> 4\u001b[0;31m     \u001b[0mfeatures\u001b[0m \u001b[0;34m=\u001b[0m \u001b[0mtrain_X\u001b[0m\u001b[0;34m.\u001b[0m\u001b[0mcolumns\u001b[0m\u001b[0;34m\u001b[0m\u001b[0;34m\u001b[0m\u001b[0m\n\u001b[0m\u001b[1;32m      5\u001b[0m     \u001b[0;32mfor\u001b[0m \u001b[0mfeature_name\u001b[0m\u001b[0;34m,\u001b[0m \u001b[0mfeature_importance\u001b[0m \u001b[0;32min\u001b[0m \u001b[0mzip\u001b[0m\u001b[0;34m(\u001b[0m\u001b[0mfeatures\u001b[0m\u001b[0;34m,\u001b[0m \u001b[0mclf\u001b[0m\u001b[0;34m.\u001b[0m\u001b[0mfeature_importances_\u001b[0m\u001b[0;34m)\u001b[0m\u001b[0;34m:\u001b[0m\u001b[0;34m\u001b[0m\u001b[0;34m\u001b[0m\u001b[0m\n\u001b[1;32m      6\u001b[0m         feature_importances_data.append({\n",
      "\u001b[0;31mNameError\u001b[0m: name 'train_X' is not defined"
     ]
    }
   ],
   "source": [
    "fn_importance_features(clf)"
   ]
  },
  {
   "cell_type": "markdown",
   "metadata": {},
   "source": [
    "### In-sample Fit"
   ]
  },
  {
   "cell_type": "code",
   "execution_count": 30,
   "metadata": {},
   "outputs": [
    {
     "data": {
      "image/png": "[encoded data removed]",
      "text/plain": [
       "<Figure size 640x480 with 1 Axes>"
      ]
     },
     "metadata": {},
     "output_type": "display_data"
    },
    {
     "name": "stdout",
     "output_type": "stream",
     "text": [
      "ROC value of:75.70\n",
      "Accuracy:99.71\n",
      "F1 score:20.27\n",
      "Recall:12.96\n",
      "Precision:46.57\n",
      "\n",
      " clasification report:\n",
      "               precision    recall  f1-score   support\n",
      "\n",
      "           0       1.00      1.00      1.00   3237322\n",
      "           1       0.47      0.13      0.20      9230\n",
      "\n",
      "    accuracy                           1.00   3246552\n",
      "   macro avg       0.73      0.56      0.60   3246552\n",
      "weighted avg       1.00      1.00      1.00   3246552\n",
      "\n"
     ]
    },
    {
     "data": {
      "image/png": "[encoded data removed]",
      "text/plain": [
       "<Figure size 800x600 with 2 Axes>"
      ]
     },
     "metadata": {},
     "output_type": "display_data"
    }
   ],
   "source": [
    "#### In-sample metrics\n",
    "pred_Y_in = clf.predict(train_X)\n",
    "pred_Y_prob_in = clf.predict_proba(train_X)[:,1]\n",
    "tuned_lgb_prob_in = [train_Y, pred_Y_prob_in]\n",
    "fn_metrics(train_Y, pred_Y_prob_in, pred_Y_in)"
   ]
  },
  {
   "cell_type": "markdown",
   "metadata": {},
   "source": [
    "### Out-of-sample Fit"
   ]
  },
  {
   "cell_type": "code",
   "execution_count": 31,
   "metadata": {},
   "outputs": [
    {
     "data": {
      "image/png": "[encoded data removed]",
      "text/plain": [
       "<Figure size 640x480 with 1 Axes>"
      ]
     },
     "metadata": {},
     "output_type": "display_data"
    },
    {
     "name": "stdout",
     "output_type": "stream",
     "text": [
      "ROC value of:75.73\n",
      "Accuracy:99.71\n",
      "F1 score:19.86\n",
      "Recall:12.63\n",
      "Precision:46.46\n",
      "\n",
      " clasification report:\n",
      "               precision    recall  f1-score   support\n",
      "\n",
      "           0       1.00      1.00      1.00   1618699\n",
      "           1       0.46      0.13      0.20      4577\n",
      "\n",
      "    accuracy                           1.00   1623276\n",
      "   macro avg       0.73      0.56      0.60   1623276\n",
      "weighted avg       1.00      1.00      1.00   1623276\n",
      "\n"
     ]
    },
    {
     "data": {
      "image/png": "[encoded data removed]",
      "text/plain": [
       "<Figure size 800x600 with 2 Axes>"
      ]
     },
     "metadata": {},
     "output_type": "display_data"
    }
   ],
   "source": [
    "#Out-of-sample metrics \n",
    "pred_Y_out = clf.predict(test_X)\n",
    "pred_Y_prob_out = clf.predict_proba(test_X)[:,1]\n",
    "tuned_lgb_prob_out = [test_Y, pred_Y_prob_out]\n",
    "\n",
    "#print out ROC curve, metrics, and confuction matrix\n",
    "fn_metrics(test_Y, pred_Y_prob_out, pred_Y_out)"
   ]
  },
  {
   "cell_type": "code",
   "execution_count": 32,
   "metadata": {},
   "outputs": [
    {
     "name": "stdout",
     "output_type": "stream",
     "text": [
      "CPU times: user 6.62 ms, sys: 0 ns, total: 6.62 ms\n",
      "Wall time: 6.86 ms\n"
     ]
    }
   ],
   "source": [
    "%%time\n",
    "# out-of-sample results \n",
    "df_out_predict = pd.DataFrame({'prob': pred_Y_prob_out, 'predict': pred_Y_out}, columns=['prob', 'predict'], index = test_X.index.copy())"
   ]
  },
  {
   "cell_type": "code",
   "execution_count": 33,
   "metadata": {},
   "outputs": [
    {
     "name": "stdout",
     "output_type": "stream",
     "text": [
      "CPU times: user 857 ms, sys: 864 ms, total: 1.72 s\n",
      "Wall time: 1.72 s\n"
     ]
    }
   ],
   "source": [
    "%%time\n",
    "# input dataset\n",
    "test_df_processed = test_X.join(df_out_predict, how='right')\n",
    "test_df_processed.drop(['prob', 'predict'], axis=1, inplace=True)"
   ]
  },
  {
   "cell_type": "code",
   "execution_count": 41,
   "metadata": {},
   "outputs": [
    {
     "name": "stdout",
     "output_type": "stream",
     "text": [
      "(1623276, 71)\n"
     ]
    }
   ],
   "source": [
    "print(test_df_processed.shape)"
   ]
  },
  {
   "cell_type": "code",
   "execution_count": 34,
   "metadata": {},
   "outputs": [],
   "source": [
    "del ml_dataset, train_X, train_Y, test_X, test_Y"
   ]
  },
  {
   "cell_type": "markdown",
   "metadata": {},
   "source": [
    "### Shap Values"
   ]
  },
  {
   "cell_type": "code",
   "execution_count": 35,
   "metadata": {},
   "outputs": [
    {
     "name": "stdout",
     "output_type": "stream",
     "text": [
      "CPU times: user 40min 58s, sys: 3.63 s, total: 41min 1s\n",
      "Wall time: 2min 35s\n"
     ]
    }
   ],
   "source": [
    "%%time\n",
    "# shap values with light gbm core model\n",
    "lgbm_shap = clf.predict(test_df_processed, pred_contrib=True)\n",
    "lgbm_shap_df = pd.DataFrame(lgbm_shap[:, :-1], columns=test_df_processed.columns.tolist(), index = test_df_processed.index.copy())"
   ]
  },
  {
   "cell_type": "code",
   "execution_count": 36,
   "metadata": {},
   "outputs": [
    {
     "name": "stdout",
     "output_type": "stream",
     "text": [
      "(1623276, 97)\n"
     ]
    }
   ],
   "source": [
    "print(lgbm_shap_df.shape)"
   ]
  },
  {
   "cell_type": "markdown",
   "metadata": {},
   "source": [
    "### export"
   ]
  },
  {
   "cell_type": "code",
   "execution_count": 37,
   "metadata": {},
   "outputs": [
    {
     "name": "stdout",
     "output_type": "stream",
     "text": [
      "\u001b[31mERROR: pip's dependency resolver does not currently take into account all the packages that are installed. This behaviour is the source of the following dependency conflicts.\n",
      "aiobotocore 2.4.1 requires botocore<1.27.60,>=1.27.59, but you have botocore 1.29.24 which is incompatible.\u001b[0m\u001b[31m\n",
      "\u001b[0m\u001b[33mWARNING: Running pip as the 'root' user can result in broken permissions and conflicting behaviour with the system package manager. It is recommended to use a virtual environment instead: https://pip.pypa.io/warnings/venv\u001b[0m\u001b[33m\n",
      "\u001b[0m"
     ]
    }
   ],
   "source": [
    "!pip install awswrangler --q"
   ]
  },
  {
   "cell_type": "code",
   "execution_count": 38,
   "metadata": {},
   "outputs": [],
   "source": [
    "import awswrangler as wr"
   ]
  },
  {
   "cell_type": "code",
   "execution_count": 39,
   "metadata": {},
   "outputs": [
    {
     "name": "stdout",
     "output_type": "stream",
     "text": [
      "CPU times: user 455 ms, sys: 96 ms, total: 551 ms\n",
      "Wall time: 971 ms\n"
     ]
    },
    {
     "data": {
      "text/plain": [
       "{'paths': ['s3://cdo-ililapse-364524684987-bucket/x266754/lapse/lgbm_df_out_12_22_2022.parquet'],\n",
       " 'partitions_values': {}}"
      ]
     },
     "execution_count": 39,
     "metadata": {},
     "output_type": "execute_result"
    }
   ],
   "source": [
    "%%time\n",
    "\n",
    "# inputs to the model\n",
    "wr.s3.to_parquet(\n",
    "    df=df_out_predict,\n",
    "    path='s3://cdo-ililapse-364524684987-bucket/x266754/lapse/lgbm_df_out_12_22_2022.parquet'\n",
    ")\n"
   ]
  },
  {
   "cell_type": "code",
   "execution_count": 40,
   "metadata": {},
   "outputs": [
    {
     "name": "stdout",
     "output_type": "stream",
     "text": [
      "CPU times: user 14.9 s, sys: 5.79 s, total: 20.7 s\n",
      "Wall time: 11.2 s\n"
     ]
    }
   ],
   "source": [
    "%%time\n",
    "\n",
    "# inputs to the model\n",
    "wr.s3.to_parquet(\n",
    "    df=test_df_processed,\n",
    "    path='s3://cdo-ililapse-364524684987-bucket/x266754/lapse/lgbm_input_out_12_22_2022.parquet'\n",
    ")\n",
    "\n",
    "del test_df_processed"
   ]
  },
  {
   "cell_type": "code",
   "execution_count": 41,
   "metadata": {},
   "outputs": [
    {
     "name": "stdout",
     "output_type": "stream",
     "text": [
      "CPU times: user 46.8 s, sys: 19.9 s, total: 1min 6s\n",
      "Wall time: 34.5 s\n"
     ]
    }
   ],
   "source": [
    "%%time\n",
    "\n",
    "# shap values\n",
    "wr.s3.to_parquet(\n",
    "    df=lgbm_shap_df,\n",
    "    path='s3://cdo-ililapse-364524684987-bucket/x266754/lapse/shap_values_out_12_22_2022.parquet'\n",
    ")\n",
    "\n",
    "del lgbm_shap_df"
   ]
  },
  {
   "cell_type": "code",
   "execution_count": 43,
   "metadata": {},
   "outputs": [],
   "source": [
    "new_df= df [['policy_id', \n",
    "         'pfmc_cur_month',\n",
    "         'val_dt',\n",
    "\n",
    "         # demographic info\n",
    "         'holder_age',\n",
    "         'policy_age',\n",
    "         'gndr_cd', \n",
    "         'mrtl_stat_cd', \n",
    "         'prmr_prsnc_chld_ind', \n",
    "         'subj_state_cd', \n",
    "         'prim_occup_cd',\n",
    "         'incm_rng_cd',\n",
    "         'ixi_fin_cohort_cd', \n",
    "         'net_wrth_gold_cd',\n",
    "\n",
    "\n",
    "        #policy info\n",
    "        'num_policies_hh',\n",
    "        'prod_grp',\n",
    "        'issue_year',\n",
    "        #'policy_age_bucket',\n",
    "        'base_face_amt',   \n",
    "        'mod_mpt_total',\n",
    "        #'cash_val_bucket',\n",
    "        'accum_actual_prem_paid',\n",
    "        'mom_accum_prem_paid',\n",
    "        'rtl_dstrb_orphn_cd',\n",
    "        'prem_mode',\n",
    "        'prem_mode_change_flag',\n",
    "\n",
    "         #SR category\n",
    "        'SR_TYPE_CATG',\n",
    "        'sr_create_month',\n",
    "        'num_sr_catg',\n",
    "        'max_sr_time',\n",
    "        'num_sr_6m',\n",
    "     \n",
    "        #macro\n",
    "        'Unemp',\n",
    "        'ICSA',\n",
    "        'Dincome',\n",
    "        'PCE',\n",
    "        'CPI',\n",
    "        'Leading',\n",
    "        'CS_HPI',\n",
    "        'SP500',\n",
    "        'ICE_Corp',\n",
    "        'ICE_HY',\n",
    "        'FF',\n",
    "        'T3M',\n",
    "        'T10Y2Y',\n",
    "        'Unemp_chg',\n",
    "        'ICSA_per',\n",
    "        'Dincome_per',\n",
    "        'PCE_per',\n",
    "        'CPI_per',\n",
    "        'Leading_per',\n",
    "        'CS_HPI_per',\n",
    "        'SP500_per',\n",
    "        'ICE_Corp_chg',\n",
    "        'ICE_HY_chg',\n",
    "        'FF_chg',\n",
    "        'T3M_chg',\n",
    "        'T10Y2Y_chg',\n",
    "\n",
    "        '3mo_ahead_Lapse']]\n"
   ]
  },
  {
   "cell_type": "code",
   "execution_count": 44,
   "metadata": {},
   "outputs": [
    {
     "name": "stdout",
     "output_type": "stream",
     "text": [
      "CPU times: user 15 s, sys: 1.28 s, total: 16.3 s\n",
      "Wall time: 16.3 s\n"
     ]
    }
   ],
   "source": [
    "%%time\n",
    "\n",
    "del df\n",
    "# score dataset\n",
    "score = new_df.merge(df_out_predict, how='right', left_index=True, right_index=True)"
   ]
  },
  {
   "cell_type": "code",
   "execution_count": 45,
   "metadata": {},
   "outputs": [],
   "source": [
    "# output from the model\n",
    "wr.s3.to_parquet(\n",
    "    df=score,\n",
    "    path='s3://cdo-ililapse-364524684987-bucket/x266754/lapse/lgbm_results_out_12_22_2022.parquet'\n",
    ")\n",
    "\n",
    "del score"
   ]
  },
  {
   "cell_type": "markdown",
   "metadata": {},
   "source": [
    "### examples"
   ]
  },
  {
   "cell_type": "code",
   "execution_count": 23,
   "metadata": {},
   "outputs": [
    {
     "data": {
      "text/html": [
       "<div>\n",
       "<style scoped>\n",
       "    .dataframe tbody tr th:only-of-type {\n",
       "        vertical-align: middle;\n",
       "    }\n",
       "\n",
       "    .dataframe tbody tr th {\n",
       "        vertical-align: top;\n",
       "    }\n",
       "\n",
       "    .dataframe thead th {\n",
       "        text-align: right;\n",
       "    }\n",
       "</style>\n",
       "<table border=\"1\" class=\"dataframe\">\n",
       "  <thead>\n",
       "    <tr style=\"text-align: right;\">\n",
       "      <th></th>\n",
       "      <th>policy_id</th>\n",
       "      <th>val_dt</th>\n",
       "      <th>base_face_amt</th>\n",
       "      <th>mod_mpt_total</th>\n",
       "      <th>accum_actual_prem_paid</th>\n",
       "      <th>current_status</th>\n",
       "      <th>3mo_ahead_status</th>\n",
       "    </tr>\n",
       "  </thead>\n",
       "  <tbody>\n",
       "    <tr>\n",
       "      <th>2960216</th>\n",
       "      <td>V1138179</td>\n",
       "      <td>2022-01-31</td>\n",
       "      <td>300000.0</td>\n",
       "      <td>111492.0</td>\n",
       "      <td>60393.1</td>\n",
       "      <td>current</td>\n",
       "      <td>current</td>\n",
       "    </tr>\n",
       "    <tr>\n",
       "      <th>2960217</th>\n",
       "      <td>V1138179</td>\n",
       "      <td>2022-02-28</td>\n",
       "      <td>300000.0</td>\n",
       "      <td>108834.0</td>\n",
       "      <td>60657.0</td>\n",
       "      <td>current</td>\n",
       "      <td>current</td>\n",
       "    </tr>\n",
       "    <tr>\n",
       "      <th>2960218</th>\n",
       "      <td>V1138179</td>\n",
       "      <td>2022-03-31</td>\n",
       "      <td>300000.0</td>\n",
       "      <td>110684.0</td>\n",
       "      <td>60920.9</td>\n",
       "      <td>current</td>\n",
       "      <td>surrender</td>\n",
       "    </tr>\n",
       "  </tbody>\n",
       "</table>\n",
       "</div>"
      ],
      "text/plain": [
       "        policy_id     val_dt  base_face_amt  mod_mpt_total  \\\n",
       "2960216  V1138179 2022-01-31       300000.0       111492.0   \n",
       "2960217  V1138179 2022-02-28       300000.0       108834.0   \n",
       "2960218  V1138179 2022-03-31       300000.0       110684.0   \n",
       "\n",
       "         accum_actual_prem_paid current_status 3mo_ahead_status  \n",
       "2960216                 60393.1        current          current  \n",
       "2960217                 60657.0        current          current  \n",
       "2960218                 60920.9        current        surrender  "
      ]
     },
     "execution_count": 23,
     "metadata": {},
     "output_type": "execute_result"
    }
   ],
   "source": [
    "# df[df['policy_id']=='V1138179'][['policy_id', 'val_dt',  'base_face_amt',\n",
    "#                                 'mod_mpt_total', 'accum_actual_prem_paid', #'mom_accum_prem_paid', 'prem_mode',\n",
    "#                                  'current_status', \n",
    "#                                  '3mo_ahead_status']]"
   ]
  }
 ],
 "metadata": {
  "instance_type": "ml.m5.4xlarge",
  "kernelspec": {
   "display_name": "Python 3 (Data Science)",
   "language": "python",
   "name": "python3__SAGEMAKER_INTERNAL__arn:aws:sagemaker:us-east-1:081325390199:image/datascience-1.0"
  },
  "language_info": {
   "codemirror_mode": {
    "name": "ipython",
    "version": 3
   },
   "file_extension": ".py",
   "mimetype": "text/x-python",
   "name": "python",
   "nbconvert_exporter": "python",
   "pygments_lexer": "ipython3",
   "version": "3.7.10"
  },
  "lcc_arn": "arn:aws:sagemaker:us-east-1:364524684987:studio-lifecycle-config/kernel-start-43"
 },
 "nbformat": 4,
 "nbformat_minor": 4
}
