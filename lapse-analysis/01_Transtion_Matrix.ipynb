{
 "cells": [
  {
   "cell_type": "code",
   "execution_count": 1,
   "id": "50b55fae",
   "metadata": {},
   "outputs": [],
   "source": [
    "import os\n",
    "import io\n",
    "import pandas as pd\n",
    "import numpy as np\n",
    "import glob\n",
    "import matplotlib.pyplot as plt\n",
    "import seaborn as sns; sns.set()\n",
    "\n",
    "import datetime\n",
    "\n",
    "#dask\n",
    "import dask.dataframe as dd\n",
    "\n",
    "import warnings\n",
    "warnings.filterwarnings(\"ignore\")"
   ]
  },
  {
   "cell_type": "markdown",
   "id": "69d66e58",
   "metadata": {},
   "source": [
    "### Path"
   ]
  },
  {
   "cell_type": "code",
   "execution_count": 2,
   "id": "850d1f3a",
   "metadata": {},
   "outputs": [],
   "source": [
    "path = r\"\\\\VNCRP1002\\\\ud03$\\\\X266754\\\\My Documents\\\\Lapse\\\\Data\\\\\""
   ]
  },
  {
   "cell_type": "markdown",
   "id": "0cf47c39",
   "metadata": {},
   "source": [
    "### PFMC"
   ]
  },
  {
   "cell_type": "code",
   "execution_count": 3,
   "id": "13406a89",
   "metadata": {},
   "outputs": [
    {
     "name": "stdout",
     "output_type": "stream",
     "text": [
      "['\\\\\\\\VNCRP1002\\\\\\\\ud03$\\\\\\\\X266754\\\\\\\\My Documents\\\\\\\\Lapse\\\\\\\\Data\\\\vul_pfmc_inf_monthly_2022_4.csv', '\\\\\\\\VNCRP1002\\\\\\\\ud03$\\\\\\\\X266754\\\\\\\\My Documents\\\\\\\\Lapse\\\\\\\\Data\\\\vul_pfmc_inf_monthly_2022_5.csv', '\\\\\\\\VNCRP1002\\\\\\\\ud03$\\\\\\\\X266754\\\\\\\\My Documents\\\\\\\\Lapse\\\\\\\\Data\\\\vul_pfmc_inf_monthly_2022_6.csv', '\\\\\\\\VNCRP1002\\\\\\\\ud03$\\\\\\\\X266754\\\\\\\\My Documents\\\\\\\\Lapse\\\\\\\\Data\\\\vul_pfmc_inf_monthly_2022_7.csv', '\\\\\\\\VNCRP1002\\\\\\\\ud03$\\\\\\\\X266754\\\\\\\\My Documents\\\\\\\\Lapse\\\\\\\\Data\\\\vul_pfmc_inf_monthly_2022_8.csv', '\\\\\\\\VNCRP1002\\\\\\\\ud03$\\\\\\\\X266754\\\\\\\\My Documents\\\\\\\\Lapse\\\\\\\\Data\\\\vul_pfmc_inf_monthly_2022_9.csv']\n"
     ]
    }
   ],
   "source": [
    "filenames = glob.glob(path + \"\\*pfmc*.csv\")\n",
    "print(filenames)"
   ]
  },
  {
   "cell_type": "code",
   "execution_count": 4,
   "id": "ff110327",
   "metadata": {},
   "outputs": [
    {
     "name": "stdout",
     "output_type": "stream",
     "text": [
      "\\\\VNCRP1002\\\\ud03$\\\\X266754\\\\My Documents\\\\Lapse\\\\Data\\vul_pfmc_inf_monthly_2022_4.csv\n",
      "\\\\VNCRP1002\\\\ud03$\\\\X266754\\\\My Documents\\\\Lapse\\\\Data\\vul_pfmc_inf_monthly_2022_5.csv\n",
      "\\\\VNCRP1002\\\\ud03$\\\\X266754\\\\My Documents\\\\Lapse\\\\Data\\vul_pfmc_inf_monthly_2022_6.csv\n",
      "\\\\VNCRP1002\\\\ud03$\\\\X266754\\\\My Documents\\\\Lapse\\\\Data\\vul_pfmc_inf_monthly_2022_7.csv\n",
      "\\\\VNCRP1002\\\\ud03$\\\\X266754\\\\My Documents\\\\Lapse\\\\Data\\vul_pfmc_inf_monthly_2022_8.csv\n",
      "\\\\VNCRP1002\\\\ud03$\\\\X266754\\\\My Documents\\\\Lapse\\\\Data\\vul_pfmc_inf_monthly_2022_9.csv\n"
     ]
    }
   ],
   "source": [
    "#list of all df\n",
    "dfs = []\n",
    "for f in filenames: \n",
    "    print(f)\n",
    "    d = pd.read_csv(f, encoding=\"ISO-8859-1\") \n",
    "    dfs.append(d) \n",
    "pfmc = pd.concat(dfs, ignore_index=True)\n",
    "del dfs"
   ]
  },
  {
   "cell_type": "code",
   "execution_count": 5,
   "id": "c1363228",
   "metadata": {},
   "outputs": [],
   "source": [
    "# remove duplicates\n",
    "pfmc = pfmc.drop_duplicates()"
   ]
  },
  {
   "cell_type": "code",
   "execution_count": 6,
   "id": "fc65f3ff",
   "metadata": {},
   "outputs": [],
   "source": [
    "# create current and previous months for pfmc\n",
    "# pfmc cur_month,  pfmc_prev_month\n",
    "pfmc['val_dt']= pfmc['val_dt'].astype('datetime64[ns]')\n",
    "pfmc['cur_month'] = pfmc['val_dt'].astype('datetime64[ns]').map(lambda x: x.strftime('%Y-%m'))\n",
    "pfmc['prev_month'] =  ((pfmc['val_dt'] - pd.DateOffset(months=1)).dt.to_period(\"M\")).astype(str)"
   ]
  },
  {
   "cell_type": "code",
   "execution_count": 7,
   "id": "536bc019",
   "metadata": {},
   "outputs": [
    {
     "data": {
      "text/html": [
       "<div>\n",
       "<style scoped>\n",
       "    .dataframe tbody tr th:only-of-type {\n",
       "        vertical-align: middle;\n",
       "    }\n",
       "\n",
       "    .dataframe tbody tr th {\n",
       "        vertical-align: top;\n",
       "    }\n",
       "\n",
       "    .dataframe thead th {\n",
       "        text-align: right;\n",
       "    }\n",
       "</style>\n",
       "<table border=\"1\" class=\"dataframe\">\n",
       "  <thead>\n",
       "    <tr style=\"text-align: right;\">\n",
       "      <th></th>\n",
       "      <th>agmt_pkge_id</th>\n",
       "      <th>prev_month</th>\n",
       "      <th>cur_month</th>\n",
       "    </tr>\n",
       "  </thead>\n",
       "  <tbody>\n",
       "    <tr>\n",
       "      <th>49041</th>\n",
       "      <td>V30059210000</td>\n",
       "      <td>2022-03</td>\n",
       "      <td>2022-04</td>\n",
       "    </tr>\n",
       "    <tr>\n",
       "      <th>1870004</th>\n",
       "      <td>V30059210000</td>\n",
       "      <td>2022-05</td>\n",
       "      <td>2022-06</td>\n",
       "    </tr>\n",
       "    <tr>\n",
       "      <th>3167383</th>\n",
       "      <td>V30059210000</td>\n",
       "      <td>2022-06</td>\n",
       "      <td>2022-07</td>\n",
       "    </tr>\n",
       "    <tr>\n",
       "      <th>3479468</th>\n",
       "      <td>V30059210000</td>\n",
       "      <td>2022-07</td>\n",
       "      <td>2022-08</td>\n",
       "    </tr>\n",
       "    <tr>\n",
       "      <th>4876885</th>\n",
       "      <td>V30059210000</td>\n",
       "      <td>2022-08</td>\n",
       "      <td>2022-09</td>\n",
       "    </tr>\n",
       "  </tbody>\n",
       "</table>\n",
       "</div>"
      ],
      "text/plain": [
       "         agmt_pkge_id prev_month cur_month\n",
       "49041    V30059210000    2022-03   2022-04\n",
       "1870004  V30059210000    2022-05   2022-06\n",
       "3167383  V30059210000    2022-06   2022-07\n",
       "3479468  V30059210000    2022-07   2022-08\n",
       "4876885  V30059210000    2022-08   2022-09"
      ]
     },
     "execution_count": 7,
     "metadata": {},
     "output_type": "execute_result"
    }
   ],
   "source": [
    "pd.set_option('display.max_columns', None)\n",
    "#pfmc.head()\n",
    "pfmc[pfmc['agmt_pkge_id']=='V30059210000'][['agmt_pkge_id','prev_month', 'cur_month']]"
   ]
  },
  {
   "cell_type": "markdown",
   "id": "96712883",
   "metadata": {},
   "source": [
    "### Events_Monthly"
   ]
  },
  {
   "cell_type": "code",
   "execution_count": 8,
   "id": "a8838ba2",
   "metadata": {},
   "outputs": [
    {
     "name": "stdout",
     "output_type": "stream",
     "text": [
      "['\\\\\\\\VNCRP1002\\\\\\\\ud03$\\\\\\\\X266754\\\\\\\\My Documents\\\\\\\\Lapse\\\\\\\\Data\\\\events_monthly_2022_4.csv', '\\\\\\\\VNCRP1002\\\\\\\\ud03$\\\\\\\\X266754\\\\\\\\My Documents\\\\\\\\Lapse\\\\\\\\Data\\\\events_monthly_2022_5.csv', '\\\\\\\\VNCRP1002\\\\\\\\ud03$\\\\\\\\X266754\\\\\\\\My Documents\\\\\\\\Lapse\\\\\\\\Data\\\\events_monthly_2022_6.csv', '\\\\\\\\VNCRP1002\\\\\\\\ud03$\\\\\\\\X266754\\\\\\\\My Documents\\\\\\\\Lapse\\\\\\\\Data\\\\events_monthly_2022_7.csv', '\\\\\\\\VNCRP1002\\\\\\\\ud03$\\\\\\\\X266754\\\\\\\\My Documents\\\\\\\\Lapse\\\\\\\\Data\\\\events_monthly_2022_8.csv', '\\\\\\\\VNCRP1002\\\\\\\\ud03$\\\\\\\\X266754\\\\\\\\My Documents\\\\\\\\Lapse\\\\\\\\Data\\\\events_monthly_2022_9.csv']\n"
     ]
    }
   ],
   "source": [
    "filenames = glob.glob(path + \"\\*events_monthly*.csv\")\n",
    "print(filenames)"
   ]
  },
  {
   "cell_type": "code",
   "execution_count": 9,
   "id": "20401654",
   "metadata": {},
   "outputs": [
    {
     "name": "stdout",
     "output_type": "stream",
     "text": [
      "\\\\VNCRP1002\\\\ud03$\\\\X266754\\\\My Documents\\\\Lapse\\\\Data\\events_monthly_2022_4.csv\n",
      "\\\\VNCRP1002\\\\ud03$\\\\X266754\\\\My Documents\\\\Lapse\\\\Data\\events_monthly_2022_5.csv\n",
      "\\\\VNCRP1002\\\\ud03$\\\\X266754\\\\My Documents\\\\Lapse\\\\Data\\events_monthly_2022_6.csv\n",
      "\\\\VNCRP1002\\\\ud03$\\\\X266754\\\\My Documents\\\\Lapse\\\\Data\\events_monthly_2022_7.csv\n",
      "\\\\VNCRP1002\\\\ud03$\\\\X266754\\\\My Documents\\\\Lapse\\\\Data\\events_monthly_2022_8.csv\n",
      "\\\\VNCRP1002\\\\ud03$\\\\X266754\\\\My Documents\\\\Lapse\\\\Data\\events_monthly_2022_9.csv\n"
     ]
    }
   ],
   "source": [
    "#list of all df\n",
    "dfs = []\n",
    "for f in filenames: \n",
    "    print(f)\n",
    "    d = pd.read_csv(f, encoding=\"ISO-8859-1\") \n",
    "    dfs.append(d) \n",
    "events = pd.concat(dfs, ignore_index=True)\n",
    "del dfs"
   ]
  },
  {
   "cell_type": "code",
   "execution_count": 10,
   "id": "ea4f1bab",
   "metadata": {},
   "outputs": [],
   "source": [
    "# remove duplicates\n",
    "events = events.drop_duplicates()"
   ]
  },
  {
   "cell_type": "code",
   "execution_count": 11,
   "id": "96dea60d",
   "metadata": {},
   "outputs": [],
   "source": [
    "# create current and previous months for events \n",
    "events['prcs_dt']= events['prcs_dt'].astype('datetime64[ns]')\n",
    "events['evnt_cur_month'] = events['prcs_dt'].map(lambda x: x.strftime('%Y-%m'))\n",
    "events['evnt_prev_month'] =  ((events['prcs_dt'] - pd.DateOffset(months=1)).dt.to_period(\"M\")).astype(str)"
   ]
  },
  {
   "cell_type": "code",
   "execution_count": 14,
   "id": "2fb171f0",
   "metadata": {},
   "outputs": [
    {
     "data": {
      "text/html": [
       "<div>\n",
       "<style scoped>\n",
       "    .dataframe tbody tr th:only-of-type {\n",
       "        vertical-align: middle;\n",
       "    }\n",
       "\n",
       "    .dataframe tbody tr th {\n",
       "        vertical-align: top;\n",
       "    }\n",
       "\n",
       "    .dataframe thead th {\n",
       "        text-align: right;\n",
       "    }\n",
       "</style>\n",
       "<table border=\"1\" class=\"dataframe\">\n",
       "  <thead>\n",
       "    <tr style=\"text-align: right;\">\n",
       "      <th></th>\n",
       "      <th>agmt_pkge_id</th>\n",
       "      <th>evnt_desc</th>\n",
       "      <th>evnt_prev_month</th>\n",
       "      <th>evnt_cur_month</th>\n",
       "    </tr>\n",
       "  </thead>\n",
       "  <tbody>\n",
       "    <tr>\n",
       "      <th>30556</th>\n",
       "      <td>V30059210000</td>\n",
       "      <td>Lapse With No Value</td>\n",
       "      <td>2022-04</td>\n",
       "      <td>2022-05</td>\n",
       "    </tr>\n",
       "  </tbody>\n",
       "</table>\n",
       "</div>"
      ],
      "text/plain": [
       "       agmt_pkge_id            evnt_desc evnt_prev_month evnt_cur_month\n",
       "30556  V30059210000  Lapse With No Value         2022-04        2022-05"
      ]
     },
     "execution_count": 14,
     "metadata": {},
     "output_type": "execute_result"
    }
   ],
   "source": [
    "# example\n",
    "pd.set_option('display.max_columns', None)\n",
    "events[events['agmt_pkge_id']=='V30059210000'][['agmt_pkge_id','evnt_desc','evnt_prev_month', 'evnt_cur_month']]"
   ]
  },
  {
   "cell_type": "markdown",
   "id": "a59e914e",
   "metadata": {},
   "source": [
    "### Join PFMC Inf and Events to get Lapse policiies"
   ]
  },
  {
   "cell_type": "code",
   "execution_count": 16,
   "id": "9c04e90d",
   "metadata": {},
   "outputs": [],
   "source": [
    "# Merge pfmv and events\n",
    "df = pfmc.merge(events[['agmt_pkge_id','evnt_desc','evnt_prev_month', 'evnt_cur_month']], \n",
    "              how='left', \n",
    "              left_on=['agmt_pkge_id', 'cur_month'], \n",
    "              right_on=['agmt_pkge_id', 'evnt_prev_month'], \n",
    "              suffixes=('', '_remove'))\n",
    "df.drop([i for i in df.columns if 'remove' in i],axis=1, inplace=True)"
   ]
  },
  {
   "cell_type": "code",
   "execution_count": 17,
   "id": "7a6cbe1e",
   "metadata": {},
   "outputs": [
    {
     "data": {
      "text/plain": [
       "(4982168, 239)"
      ]
     },
     "execution_count": 17,
     "metadata": {},
     "output_type": "execute_result"
    }
   ],
   "source": [
    "df.shape"
   ]
  },
  {
   "cell_type": "code",
   "execution_count": 32,
   "id": "f3f0cd33",
   "metadata": {},
   "outputs": [
    {
     "data": {
      "text/html": [
       "<div>\n",
       "<style scoped>\n",
       "    .dataframe tbody tr th:only-of-type {\n",
       "        vertical-align: middle;\n",
       "    }\n",
       "\n",
       "    .dataframe tbody tr th {\n",
       "        vertical-align: top;\n",
       "    }\n",
       "\n",
       "    .dataframe thead th {\n",
       "        text-align: right;\n",
       "    }\n",
       "</style>\n",
       "<table border=\"1\" class=\"dataframe\">\n",
       "  <thead>\n",
       "    <tr style=\"text-align: right;\">\n",
       "      <th></th>\n",
       "      <th>agmt_pkge_id</th>\n",
       "      <th>evnt_desc</th>\n",
       "      <th>prev_month</th>\n",
       "      <th>cur_month</th>\n",
       "      <th>evnt_prev_month</th>\n",
       "      <th>evnt_cur_month</th>\n",
       "    </tr>\n",
       "  </thead>\n",
       "  <tbody>\n",
       "    <tr>\n",
       "      <th>49041</th>\n",
       "      <td>V30059210000</td>\n",
       "      <td>Lapse With No Value</td>\n",
       "      <td>2022-03</td>\n",
       "      <td>2022-04</td>\n",
       "      <td>2022-04</td>\n",
       "      <td>2022-05</td>\n",
       "    </tr>\n",
       "    <tr>\n",
       "      <th>1870004</th>\n",
       "      <td>V30059210000</td>\n",
       "      <td>Lapse With No Value</td>\n",
       "      <td>2022-05</td>\n",
       "      <td>2022-06</td>\n",
       "      <td>NaN</td>\n",
       "      <td>NaN</td>\n",
       "    </tr>\n",
       "    <tr>\n",
       "      <th>3167383</th>\n",
       "      <td>V30059210000</td>\n",
       "      <td>Lapse With No Value</td>\n",
       "      <td>2022-06</td>\n",
       "      <td>2022-07</td>\n",
       "      <td>NaN</td>\n",
       "      <td>NaN</td>\n",
       "    </tr>\n",
       "    <tr>\n",
       "      <th>3479468</th>\n",
       "      <td>V30059210000</td>\n",
       "      <td>Lapse With No Value</td>\n",
       "      <td>2022-07</td>\n",
       "      <td>2022-08</td>\n",
       "      <td>NaN</td>\n",
       "      <td>NaN</td>\n",
       "    </tr>\n",
       "    <tr>\n",
       "      <th>4876885</th>\n",
       "      <td>V30059210000</td>\n",
       "      <td>Lapse With No Value</td>\n",
       "      <td>2022-08</td>\n",
       "      <td>2022-09</td>\n",
       "      <td>NaN</td>\n",
       "      <td>NaN</td>\n",
       "    </tr>\n",
       "  </tbody>\n",
       "</table>\n",
       "</div>"
      ],
      "text/plain": [
       "         agmt_pkge_id            evnt_desc prev_month cur_month  \\\n",
       "49041    V30059210000  Lapse With No Value    2022-03   2022-04   \n",
       "1870004  V30059210000  Lapse With No Value    2022-05   2022-06   \n",
       "3167383  V30059210000  Lapse With No Value    2022-06   2022-07   \n",
       "3479468  V30059210000  Lapse With No Value    2022-07   2022-08   \n",
       "4876885  V30059210000  Lapse With No Value    2022-08   2022-09   \n",
       "\n",
       "        evnt_prev_month evnt_cur_month  \n",
       "49041           2022-04        2022-05  \n",
       "1870004             NaN            NaN  \n",
       "3167383             NaN            NaN  \n",
       "3479468             NaN            NaN  \n",
       "4876885             NaN            NaN  "
      ]
     },
     "execution_count": 32,
     "metadata": {},
     "output_type": "execute_result"
    }
   ],
   "source": [
    "# check\n",
    "df[df['agmt_pkge_id']=='V30059210000'][['agmt_pkge_id','evnt_desc',\n",
    "                                        'prev_month', 'cur_month',\n",
    "                                        'evnt_prev_month', 'evnt_cur_month']]"
   ]
  },
  {
   "cell_type": "code",
   "execution_count": 18,
   "id": "baca7645",
   "metadata": {},
   "outputs": [],
   "source": [
    "#del pfmc, events"
   ]
  },
  {
   "cell_type": "markdown",
   "id": "e4b98790",
   "metadata": {},
   "source": [
    "### Lapse and Surrender Indicators (reinstatement, to be done)"
   ]
  },
  {
   "cell_type": "code",
   "execution_count": 19,
   "id": "aba64042",
   "metadata": {},
   "outputs": [],
   "source": [
    "# forward fill indicators\n",
    "df['evnt_desc']= df.groupby('agmt_pkge_id')['evnt_desc'].ffill()"
   ]
  },
  {
   "cell_type": "code",
   "execution_count": 20,
   "id": "19006860",
   "metadata": {},
   "outputs": [],
   "source": [
    "# indicator\n",
    "df['lapse_ind'] = (np.where(df['evnt_desc'].str.contains('Lapse', na=False),1, 0)).astype(int)\n",
    "df['surrender_ind'] = (np.where(df['evnt_desc'].str.contains('Surrender',na=False),1, 0)).astype(int)"
   ]
  },
  {
   "cell_type": "code",
   "execution_count": 22,
   "id": "91e9ded4",
   "metadata": {},
   "outputs": [],
   "source": [
    "## create lag indicators\n",
    "df['lapse_ind']= df['lapse_ind'].fillna(0)\n",
    "df['lapse_ind_lag1'] = df.groupby('agmt_pkge_id')['lapse_ind'].shift(1)\n",
    "df['lapse_ind_lag1']=df['lapse_ind_lag1'].fillna(0)\n",
    "\n",
    "df['surrender_ind']= df['surrender_ind'].fillna(0)\n",
    "df['surrender_ind_lag1'] = df.groupby('agmt_pkge_id')['surrender_ind'].shift(1)\n",
    "df['surrender_ind_lag1']=df['surrender_ind_lag1'].fillna(0)"
   ]
  },
  {
   "cell_type": "code",
   "execution_count": 23,
   "id": "b5717d1c",
   "metadata": {},
   "outputs": [],
   "source": [
    "df['cur_status']= np.where(df['lapse_ind']==1, 'lapse', \n",
    "                           (np.where(df['surrender_ind']==1, 'surrender', \"current\")))"
   ]
  },
  {
   "cell_type": "code",
   "execution_count": 24,
   "id": "7a6744dd",
   "metadata": {},
   "outputs": [],
   "source": [
    "df['prior_status']= np.where(df['lapse_ind_lag1']==1, 'lapse', \n",
    "                           (np.where(df['surrender_ind_lag1']==1, 'surrender', \"current\")))"
   ]
  },
  {
   "cell_type": "code",
   "execution_count": 34,
   "id": "26e7e845",
   "metadata": {},
   "outputs": [
    {
     "data": {
      "text/html": [
       "<div>\n",
       "<style scoped>\n",
       "    .dataframe tbody tr th:only-of-type {\n",
       "        vertical-align: middle;\n",
       "    }\n",
       "\n",
       "    .dataframe tbody tr th {\n",
       "        vertical-align: top;\n",
       "    }\n",
       "\n",
       "    .dataframe thead th {\n",
       "        text-align: right;\n",
       "    }\n",
       "</style>\n",
       "<table border=\"1\" class=\"dataframe\">\n",
       "  <thead>\n",
       "    <tr style=\"text-align: right;\">\n",
       "      <th></th>\n",
       "      <th>agmt_pkge_id</th>\n",
       "      <th>evnt_desc</th>\n",
       "      <th>lapse_ind</th>\n",
       "      <th>surrender_ind</th>\n",
       "      <th>prior_status</th>\n",
       "      <th>cur_status</th>\n",
       "      <th>prev_month</th>\n",
       "      <th>cur_month</th>\n",
       "      <th>evnt_prev_month</th>\n",
       "      <th>evnt_cur_month</th>\n",
       "    </tr>\n",
       "  </thead>\n",
       "  <tbody>\n",
       "    <tr>\n",
       "      <th>684</th>\n",
       "      <td>965390970000</td>\n",
       "      <td>Surrender</td>\n",
       "      <td>0</td>\n",
       "      <td>1</td>\n",
       "      <td>current</td>\n",
       "      <td>surrender</td>\n",
       "      <td>2022-03</td>\n",
       "      <td>2022-04</td>\n",
       "      <td>2022-04</td>\n",
       "      <td>2022-05</td>\n",
       "    </tr>\n",
       "  </tbody>\n",
       "</table>\n",
       "</div>"
      ],
      "text/plain": [
       "     agmt_pkge_id  evnt_desc  lapse_ind  surrender_ind prior_status  \\\n",
       "684  965390970000  Surrender          0              1      current   \n",
       "\n",
       "    cur_status prev_month cur_month evnt_prev_month evnt_cur_month  \n",
       "684  surrender    2022-03   2022-04         2022-04        2022-05  "
      ]
     },
     "execution_count": 34,
     "metadata": {},
     "output_type": "execute_result"
    }
   ],
   "source": [
    "# check\n",
    "df[df['agmt_pkge_id']=='965390970000'][['agmt_pkge_id','evnt_desc','lapse_ind', 'surrender_ind',\n",
    "                                        'prior_status', 'cur_status',\n",
    "                                        'prev_month', 'cur_month',\n",
    "                                        'evnt_prev_month', 'evnt_cur_month']]"
   ]
  },
  {
   "cell_type": "code",
   "execution_count": 26,
   "id": "0a4d7703",
   "metadata": {},
   "outputs": [
    {
     "data": {
      "text/plain": [
       "cur_month  lapse_ind\n",
       "2022-04    0            829299\n",
       "           1               238\n",
       "2022-05    0            829676\n",
       "           1               245\n",
       "2022-06    0            829721\n",
       "           1               256\n",
       "2022-07    0            830342\n",
       "           1               312\n",
       "2022-08    0            830213\n",
       "           1               299\n",
       "2022-09    0            831480\n",
       "           1                87\n",
       "Name: lapse_ind, dtype: int64"
      ]
     },
     "execution_count": 26,
     "metadata": {},
     "output_type": "execute_result"
    }
   ],
   "source": [
    "dgroup = df.groupby([\"cur_month\", \"lapse_ind\"], as_index=True)['lapse_ind'].count()\n",
    "dgroup"
   ]
  },
  {
   "cell_type": "code",
   "execution_count": 27,
   "id": "c1afb506",
   "metadata": {},
   "outputs": [
    {
     "data": {
      "text/plain": [
       "cur_month  surrender_ind\n",
       "2022-04    0                828099\n",
       "           1                  1438\n",
       "2022-05    0                828521\n",
       "           1                  1400\n",
       "2022-06    0                828620\n",
       "           1                  1357\n",
       "2022-07    0                829055\n",
       "           1                  1599\n",
       "2022-08    0                829042\n",
       "           1                  1470\n",
       "2022-09    0                831558\n",
       "           1                     9\n",
       "Name: agmt_pkge_id, dtype: int64"
      ]
     },
     "execution_count": 27,
     "metadata": {},
     "output_type": "execute_result"
    }
   ],
   "source": [
    "dgroup = df.groupby([\"cur_month\", \"surrender_ind\"], as_index=True)['agmt_pkge_id'].count()\n",
    "dgroup"
   ]
  },
  {
   "cell_type": "markdown",
   "id": "75c34767",
   "metadata": {},
   "source": [
    "### Transition Matrix"
   ]
  },
  {
   "cell_type": "code",
   "execution_count": 28,
   "id": "883525eb",
   "metadata": {},
   "outputs": [
    {
     "data": {
      "text/html": [
       "<div>\n",
       "<style scoped>\n",
       "    .dataframe tbody tr th:only-of-type {\n",
       "        vertical-align: middle;\n",
       "    }\n",
       "\n",
       "    .dataframe tbody tr th {\n",
       "        vertical-align: top;\n",
       "    }\n",
       "\n",
       "    .dataframe thead th {\n",
       "        text-align: right;\n",
       "    }\n",
       "</style>\n",
       "<table border=\"1\" class=\"dataframe\">\n",
       "  <thead>\n",
       "    <tr style=\"text-align: right;\">\n",
       "      <th>cur_status</th>\n",
       "      <th>prior_status</th>\n",
       "      <th>current</th>\n",
       "      <th>lapse</th>\n",
       "      <th>surrender</th>\n",
       "    </tr>\n",
       "  </thead>\n",
       "  <tbody>\n",
       "    <tr>\n",
       "      <th>0</th>\n",
       "      <td>current</td>\n",
       "      <td>828743</td>\n",
       "      <td>234</td>\n",
       "      <td>1464</td>\n",
       "    </tr>\n",
       "    <tr>\n",
       "      <th>1</th>\n",
       "      <td>lapse</td>\n",
       "      <td>0</td>\n",
       "      <td>65</td>\n",
       "      <td>0</td>\n",
       "    </tr>\n",
       "    <tr>\n",
       "      <th>2</th>\n",
       "      <td>surrender</td>\n",
       "      <td>0</td>\n",
       "      <td>0</td>\n",
       "      <td>6</td>\n",
       "    </tr>\n",
       "  </tbody>\n",
       "</table>\n",
       "</div>"
      ],
      "text/plain": [
       "cur_status prior_status  current  lapse  surrender\n",
       "0               current   828743    234       1464\n",
       "1                 lapse        0     65          0\n",
       "2             surrender        0      0          6"
      ]
     },
     "execution_count": 28,
     "metadata": {},
     "output_type": "execute_result"
    }
   ],
   "source": [
    "sample = df[df['cur_month']=='2022-08']\n",
    "tmatrix = pd.crosstab(index=sample['prior_status'], columns=[sample['cur_status']]).reset_index()\n",
    "tmatrix"
   ]
  },
  {
   "cell_type": "code",
   "execution_count": 29,
   "id": "7fc730b7",
   "metadata": {
    "scrolled": false
   },
   "outputs": [
    {
     "data": {
      "text/html": [
       "<div>\n",
       "<style scoped>\n",
       "    .dataframe tbody tr th:only-of-type {\n",
       "        vertical-align: middle;\n",
       "    }\n",
       "\n",
       "    .dataframe tbody tr th {\n",
       "        vertical-align: top;\n",
       "    }\n",
       "\n",
       "    .dataframe thead th {\n",
       "        text-align: right;\n",
       "    }\n",
       "</style>\n",
       "<table border=\"1\" class=\"dataframe\">\n",
       "  <thead>\n",
       "    <tr style=\"text-align: right;\">\n",
       "      <th>cur_status</th>\n",
       "      <th>current</th>\n",
       "      <th>lapse</th>\n",
       "      <th>surrender</th>\n",
       "    </tr>\n",
       "    <tr>\n",
       "      <th>prior_status</th>\n",
       "      <th></th>\n",
       "      <th></th>\n",
       "      <th></th>\n",
       "    </tr>\n",
       "  </thead>\n",
       "  <tbody>\n",
       "    <tr>\n",
       "      <th>current</th>\n",
       "      <td>99.8</td>\n",
       "      <td>0.03</td>\n",
       "      <td>0.18</td>\n",
       "    </tr>\n",
       "    <tr>\n",
       "      <th>lapse</th>\n",
       "      <td>0.0</td>\n",
       "      <td>100.00</td>\n",
       "      <td>0.00</td>\n",
       "    </tr>\n",
       "    <tr>\n",
       "      <th>surrender</th>\n",
       "      <td>0.0</td>\n",
       "      <td>0.00</td>\n",
       "      <td>100.00</td>\n",
       "    </tr>\n",
       "  </tbody>\n",
       "</table>\n",
       "</div>"
      ],
      "text/plain": [
       "cur_status    current   lapse  surrender\n",
       "prior_status                            \n",
       "current          99.8    0.03       0.18\n",
       "lapse             0.0  100.00       0.00\n",
       "surrender         0.0    0.00     100.00"
      ]
     },
     "execution_count": 29,
     "metadata": {},
     "output_type": "execute_result"
    }
   ],
   "source": [
    "pd.crosstab(index=sample['prior_status'], columns=[sample['cur_status']],normalize='index').round(4)*100"
   ]
  },
  {
   "cell_type": "markdown",
   "id": "068bbc41",
   "metadata": {},
   "source": [
    "#### check"
   ]
  },
  {
   "cell_type": "code",
   "execution_count": 1,
   "id": "b2ff6a13",
   "metadata": {},
   "outputs": [
    {
     "ename": "NameError",
     "evalue": "name 'df' is not defined",
     "output_type": "error",
     "traceback": [
      "\u001b[1;31m---------------------------------------------------------------------------\u001b[0m",
      "\u001b[1;31mNameError\u001b[0m                                 Traceback (most recent call last)",
      "Input \u001b[1;32mIn [1]\u001b[0m, in \u001b[0;36m<cell line: 1>\u001b[1;34m()\u001b[0m\n\u001b[1;32m----> 1\u001b[0m \u001b[43mdf\u001b[49m[(df[\u001b[38;5;124m'\u001b[39m\u001b[38;5;124mprior_status\u001b[39m\u001b[38;5;124m'\u001b[39m]\u001b[38;5;241m==\u001b[39m\u001b[38;5;124m'\u001b[39m\u001b[38;5;124mcurrent\u001b[39m\u001b[38;5;124m'\u001b[39m)\u001b[38;5;241m&\u001b[39m(df[\u001b[38;5;124m'\u001b[39m\u001b[38;5;124mcur_status\u001b[39m\u001b[38;5;124m'\u001b[39m]\u001b[38;5;241m==\u001b[39m\u001b[38;5;124m'\u001b[39m\u001b[38;5;124msurrender\u001b[39m\u001b[38;5;124m'\u001b[39m)]\u001b[38;5;241m.\u001b[39mhead()\n",
      "\u001b[1;31mNameError\u001b[0m: name 'df' is not defined"
     ]
    }
   ],
   "source": [
    "df[(df['prior_status']=='current')&(df['cur_status']=='surrender')].head()"
   ]
  },
  {
   "cell_type": "markdown",
   "id": "b732b125",
   "metadata": {},
   "source": [
    "#### export to parquet"
   ]
  },
  {
   "cell_type": "code",
   "execution_count": 35,
   "id": "95a69274",
   "metadata": {},
   "outputs": [],
   "source": [
    "df=df[df['cur_month']<='2022-08']\n",
    "df.to_parquet('pfmc_events_apr_aug.parquet')"
   ]
  }
 ],
 "metadata": {
  "kernelspec": {
   "display_name": "Python 3 (ipykernel)",
   "language": "python",
   "name": "python3"
  },
  "language_info": {
   "codemirror_mode": {
    "name": "ipython",
    "version": 3
   },
   "file_extension": ".py",
   "mimetype": "text/x-python",
   "name": "python",
   "nbconvert_exporter": "python",
   "pygments_lexer": "ipython3",
   "version": "3.9.12"
  }
 },
 "nbformat": 4,
 "nbformat_minor": 5
}
