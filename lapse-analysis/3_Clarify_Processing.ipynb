{
 "cells": [
  {
   "cell_type": "code",
   "execution_count": 2,
   "metadata": {},
   "outputs": [
    {
     "name": "stdout",
     "output_type": "stream",
     "text": [
      "Keyring is skipped due to an exception: 'keyring.backends'\n",
      "\u001b[33mWARNING: Running pip as the 'root' user can result in broken permissions and conflicting behaviour with the system package manager. It is recommended to use a virtual environment instead: https://pip.pypa.io/warnings/venv\u001b[0m\u001b[33m\n",
      "\u001b[0m"
     ]
    }
   ],
   "source": [
    "!pip install awswrangler --q"
   ]
  },
  {
   "cell_type": "code",
   "execution_count": 3,
   "metadata": {},
   "outputs": [],
   "source": [
    "import sagemaker\n",
    "import io\n",
    "import os\n",
    "\n",
    "from sagemaker.sklearn.processing import SKLearnProcessor\n",
    "from sagemaker.network import NetworkConfig\n",
    "from sagemaker.processing import ProcessingInput, ProcessingOutput\n",
    "\n",
    "import pandas as pd\n",
    "import numpy as np\n",
    "import boto3\n",
    "import warnings\n",
    "warnings.filterwarnings(\"ignore\")"
   ]
  },
  {
   "cell_type": "markdown",
   "metadata": {},
   "source": [
    "### set-up"
   ]
  },
  {
   "cell_type": "code",
   "execution_count": 4,
   "metadata": {},
   "outputs": [],
   "source": [
    "session = boto3.Session()\n",
    "s3 = session.client('s3')"
   ]
  },
  {
   "cell_type": "markdown",
   "metadata": {},
   "source": [
    "### bucket location"
   ]
  },
  {
   "cell_type": "code",
   "execution_count": 5,
   "metadata": {},
   "outputs": [],
   "source": [
    "bucket_name = \"cdo-ililapse-364524684987-bucket\"\n",
    "file_path = \"nfrm_data/clarify/2022/\"\n",
    "#s3_path = \"s3://\"+bucket_name+file_path\n",
    "response = s3.list_objects(Bucket = bucket_name, Prefix = file_path + 'clarify_report_sr_notes')"
   ]
  },
  {
   "cell_type": "code",
   "execution_count": 6,
   "metadata": {},
   "outputs": [
    {
     "name": "stdout",
     "output_type": "stream",
     "text": [
      "0  =  nfrm_data/clarify/2022/clarify_report_sr_notes_Apr2022_OLTP.csv\n",
      "1  =  nfrm_data/clarify/2022/clarify_report_sr_notes_Aug2022_OLTP.csv\n",
      "2  =  nfrm_data/clarify/2022/clarify_report_sr_notes_Feb2022_OLTP.csv\n",
      "3  =  nfrm_data/clarify/2022/clarify_report_sr_notes_Jan2022_OLTP.csv\n",
      "4  =  nfrm_data/clarify/2022/clarify_report_sr_notes_Jul2022_OLTP.csv\n",
      "5  =  nfrm_data/clarify/2022/clarify_report_sr_notes_Jun2022_OLTP.csv\n",
      "6  =  nfrm_data/clarify/2022/clarify_report_sr_notes_Mar2022_OLTP.csv\n",
      "7  =  nfrm_data/clarify/2022/clarify_report_sr_notes_May2022_OLTP.csv\n",
      "8  =  nfrm_data/clarify/2022/clarify_report_sr_notes_Sep2022_OLTP.csv\n",
      "CPU times: user 1min 46s, sys: 35.7 s, total: 2min 22s\n",
      "Wall time: 7min 17s\n"
     ]
    }
   ],
   "source": [
    "%%time\n",
    "\n",
    "df = []\n",
    "for i in range(len(response['Contents'])):\n",
    "    key = response['Contents'][i]['Key']\n",
    "    obj = s3.get_object(Bucket = bucket_name, Key = key)\n",
    "    df_temp = pd.read_csv(io.BytesIO(obj['Body'].read()), encoding=\"ISO-8859-1\",header=None, skiprows=1, na_values=\" \")\n",
    "    df.append(df_temp)\n",
    "    print(i,' = ',response['Contents'][i]['Key'])\n",
    "df = pd.concat(df, ignore_index = True)"
   ]
  },
  {
   "cell_type": "code",
   "execution_count": 7,
   "metadata": {},
   "outputs": [],
   "source": [
    "df.columns =[\n",
    "'POLICY_NBR',\n",
    "'CASE_ID',\n",
    "'CASE_TITLE',\n",
    "'CASE_CREATE_DATE',\n",
    "'CLIENT_ID',\n",
    "'SR_ID',\n",
    "'SR_TITLE',\n",
    "'SR_TYPE_CATG',\n",
    "'SR_TYPE_DESC',\n",
    "'SUB_TYPE',\n",
    "'SR_CREATE_DT',\n",
    "'SR_CLOSE_DT',\n",
    "'ACTION_TYPE',\n",
    "'SR_NOTES'\n",
    "]"
   ]
  },
  {
   "cell_type": "code",
   "execution_count": 8,
   "metadata": {},
   "outputs": [],
   "source": [
    "df=df.sort_values(['POLICY_NBR', 'SR_CREATE_DT'])"
   ]
  },
  {
   "cell_type": "code",
   "execution_count": 9,
   "metadata": {},
   "outputs": [],
   "source": [
    "pd.set_option('display.max_colwidth', 1000)\n",
    "sample = df[df['POLICY_NBR']=='V3077010']\n",
    "sample.to_csv(\"clarify_sample.csv\")"
   ]
  },
  {
   "cell_type": "markdown",
   "metadata": {},
   "source": [
    "### processing"
   ]
  },
  {
   "cell_type": "code",
   "execution_count": 10,
   "metadata": {},
   "outputs": [],
   "source": [
    "df_clarify = df[['POLICY_NBR', 'SR_CREATE_DT', 'SR_CLOSE_DT','SR_TYPE_CATG']]"
   ]
  },
  {
   "cell_type": "code",
   "execution_count": 11,
   "metadata": {},
   "outputs": [],
   "source": [
    "# remove whitespaces\n",
    "for col in df_clarify.columns:\n",
    "    try:\n",
    "        df_clarify[col] = df_clarify[col].str.strip()\n",
    "    except AttributeError:\n",
    "        pass"
   ]
  },
  {
   "cell_type": "code",
   "execution_count": 12,
   "metadata": {},
   "outputs": [],
   "source": [
    "df_clarify[\"SR_TYPE_CATG\"]= df_clarify[\"SR_TYPE_CATG\"].str.replace(\" \",\"\")"
   ]
  },
  {
   "cell_type": "code",
   "execution_count": 13,
   "metadata": {},
   "outputs": [],
   "source": [
    "df_clarify['SR_CREATE_DT']= pd.to_datetime(df_clarify['SR_CREATE_DT'], format=\"%Y-%m-%d-%H.%M.%S.%f\").dt.strftime('%m/%d/%y')\n",
    "df_clarify['SR_CREATE_DT']=pd.to_datetime(df_clarify['SR_CREATE_DT'])\n",
    "\n",
    "df_clarify['SR_CLOSE_DT']= pd.to_datetime(df_clarify['SR_CLOSE_DT'], format=\"%Y-%m-%d-%H.%M.%S.%f\").dt.strftime('%m/%d/%y')\n",
    "df_clarify['SR_CLOSE_DT']=pd.to_datetime(df_clarify['SR_CLOSE_DT'])"
   ]
  },
  {
   "cell_type": "markdown",
   "metadata": {},
   "source": [
    "#### max time to process"
   ]
  },
  {
   "cell_type": "code",
   "execution_count": 14,
   "metadata": {},
   "outputs": [],
   "source": [
    "min_create_dt= pd.DataFrame(df_clarify.groupby(['POLICY_NBR','SR_TYPE_CATG'])['SR_CREATE_DT'].min()).reset_index()\n",
    "max_close_dt= pd.DataFrame(df_clarify.groupby(['POLICY_NBR','SR_TYPE_CATG'])['SR_CLOSE_DT'].max()).reset_index()\n",
    "min_max_df = min_create_dt.merge(max_close_dt, how= 'inner', on =['POLICY_NBR','SR_TYPE_CATG'])\n",
    "min_max_df['sr_create_month'] = min_max_df['SR_CREATE_DT'].dt.to_period('M')\n",
    "\n",
    "min_max_df['closed'] = np.where(min_max_df['SR_CLOSE_DT'].isnull() , 0, 1)\n",
    "min_max_df['time_to_close']= np.round((min_max_df['SR_CLOSE_DT'] - min_max_df['SR_CREATE_DT'])/np.timedelta64(1, 'D'), 0)"
   ]
  },
  {
   "cell_type": "code",
   "execution_count": 15,
   "metadata": {},
   "outputs": [],
   "source": [
    "min_max_df['closed'] = np.where(min_max_df['SR_CLOSE_DT'].isnull() , 0, 1)\n",
    "min_max_df['time_to_close']= np.round((min_max_df['SR_CLOSE_DT'] - min_max_df['SR_CREATE_DT'])/np.timedelta64(1, 'D'), 0)"
   ]
  },
  {
   "cell_type": "markdown",
   "metadata": {},
   "source": [
    "#### Number of cases"
   ]
  },
  {
   "cell_type": "code",
   "execution_count": 16,
   "metadata": {},
   "outputs": [],
   "source": [
    "df_count = pd.DataFrame(min_max_df.groupby(['POLICY_NBR','sr_create_month'])['SR_TYPE_CATG'].count()).reset_index()\n",
    "df_count.columns = ['POLICY_NBR', 'sr_create_month', 'num_sr_catg']"
   ]
  },
  {
   "cell_type": "markdown",
   "metadata": {},
   "source": [
    "#### Longest taking SR Category"
   ]
  },
  {
   "cell_type": "code",
   "execution_count": 17,
   "metadata": {},
   "outputs": [],
   "source": [
    "# service category that took the longest in each month\n",
    "df_sr_time = pd.DataFrame(min_max_df.groupby(['POLICY_NBR','sr_create_month'])['time_to_close'].max()).reset_index()\n",
    "df_sr_time.columns = ['POLICY_NBR', 'sr_create_month', 'max_sr_time']"
   ]
  },
  {
   "cell_type": "code",
   "execution_count": 18,
   "metadata": {},
   "outputs": [],
   "source": [
    "df_out = df_count.merge(df_sr_time, how= 'inner', on =['POLICY_NBR','sr_create_month'])"
   ]
  },
  {
   "cell_type": "code",
   "execution_count": 19,
   "metadata": {},
   "outputs": [],
   "source": [
    "del df_count, df_sr_time"
   ]
  },
  {
   "cell_type": "code",
   "execution_count": 20,
   "metadata": {},
   "outputs": [],
   "source": [
    "df_out = df_out.merge(min_max_df, how= 'inner', \n",
    "                      left_on =['POLICY_NBR','sr_create_month','max_sr_time'],\n",
    "                      right_on =['POLICY_NBR','sr_create_month','time_to_close']\n",
    "                     )"
   ]
  },
  {
   "cell_type": "code",
   "execution_count": 21,
   "metadata": {},
   "outputs": [
    {
     "data": {
      "text/html": [
       "<div>\n",
       "<style scoped>\n",
       "    .dataframe tbody tr th:only-of-type {\n",
       "        vertical-align: middle;\n",
       "    }\n",
       "\n",
       "    .dataframe tbody tr th {\n",
       "        vertical-align: top;\n",
       "    }\n",
       "\n",
       "    .dataframe thead th {\n",
       "        text-align: right;\n",
       "    }\n",
       "</style>\n",
       "<table border=\"1\" class=\"dataframe\">\n",
       "  <thead>\n",
       "    <tr style=\"text-align: right;\">\n",
       "      <th></th>\n",
       "      <th>POLICY_NBR</th>\n",
       "      <th>sr_create_month</th>\n",
       "      <th>num_sr_catg</th>\n",
       "      <th>max_sr_time</th>\n",
       "      <th>SR_TYPE_CATG</th>\n",
       "      <th>SR_CREATE_DT</th>\n",
       "      <th>SR_CLOSE_DT</th>\n",
       "      <th>closed</th>\n",
       "      <th>time_to_close</th>\n",
       "    </tr>\n",
       "  </thead>\n",
       "  <tbody>\n",
       "    <tr>\n",
       "      <th>2074312</th>\n",
       "      <td>V3077010</td>\n",
       "      <td>2022-02</td>\n",
       "      <td>2</td>\n",
       "      <td>6.0</td>\n",
       "      <td>CVC-Illustration</td>\n",
       "      <td>2022-02-24</td>\n",
       "      <td>2022-03-02</td>\n",
       "      <td>1</td>\n",
       "      <td>6.0</td>\n",
       "    </tr>\n",
       "    <tr>\n",
       "      <th>2074313</th>\n",
       "      <td>V3077010</td>\n",
       "      <td>2022-03</td>\n",
       "      <td>1</td>\n",
       "      <td>78.0</td>\n",
       "      <td>Corres</td>\n",
       "      <td>2022-03-16</td>\n",
       "      <td>2022-06-02</td>\n",
       "      <td>1</td>\n",
       "      <td>78.0</td>\n",
       "    </tr>\n",
       "    <tr>\n",
       "      <th>2074314</th>\n",
       "      <td>V3077010</td>\n",
       "      <td>2022-04</td>\n",
       "      <td>1</td>\n",
       "      <td>0.0</td>\n",
       "      <td>CustomerValueCenter</td>\n",
       "      <td>2022-04-07</td>\n",
       "      <td>2022-04-07</td>\n",
       "      <td>1</td>\n",
       "      <td>0.0</td>\n",
       "    </tr>\n",
       "    <tr>\n",
       "      <th>2074315</th>\n",
       "      <td>V3077010</td>\n",
       "      <td>2022-05</td>\n",
       "      <td>3</td>\n",
       "      <td>32.0</td>\n",
       "      <td>CVC-Correspondence</td>\n",
       "      <td>2022-05-05</td>\n",
       "      <td>2022-06-06</td>\n",
       "      <td>1</td>\n",
       "      <td>32.0</td>\n",
       "    </tr>\n",
       "    <tr>\n",
       "      <th>2074316</th>\n",
       "      <td>V3077010</td>\n",
       "      <td>2022-06</td>\n",
       "      <td>1</td>\n",
       "      <td>1.0</td>\n",
       "      <td>EFT</td>\n",
       "      <td>2022-06-02</td>\n",
       "      <td>2022-06-03</td>\n",
       "      <td>1</td>\n",
       "      <td>1.0</td>\n",
       "    </tr>\n",
       "  </tbody>\n",
       "</table>\n",
       "</div>"
      ],
      "text/plain": [
       "        POLICY_NBR sr_create_month  num_sr_catg  max_sr_time  \\\n",
       "2074312   V3077010         2022-02            2          6.0   \n",
       "2074313   V3077010         2022-03            1         78.0   \n",
       "2074314   V3077010         2022-04            1          0.0   \n",
       "2074315   V3077010         2022-05            3         32.0   \n",
       "2074316   V3077010         2022-06            1          1.0   \n",
       "\n",
       "                SR_TYPE_CATG SR_CREATE_DT SR_CLOSE_DT  closed  time_to_close  \n",
       "2074312     CVC-Illustration   2022-02-24  2022-03-02       1            6.0  \n",
       "2074313               Corres   2022-03-16  2022-06-02       1           78.0  \n",
       "2074314  CustomerValueCenter   2022-04-07  2022-04-07       1            0.0  \n",
       "2074315   CVC-Correspondence   2022-05-05  2022-06-06       1           32.0  \n",
       "2074316                  EFT   2022-06-02  2022-06-03       1            1.0  "
      ]
     },
     "execution_count": 21,
     "metadata": {},
     "output_type": "execute_result"
    }
   ],
   "source": [
    "df_out[df_out['POLICY_NBR']=='V3077010']"
   ]
  },
  {
   "cell_type": "markdown",
   "metadata": {},
   "source": [
    "#### export to S3"
   ]
  },
  {
   "cell_type": "code",
   "execution_count": 22,
   "metadata": {},
   "outputs": [],
   "source": [
    "# %%time\n",
    "# df_out =pd.read_csv(\"clarify_sample.csv\")\n",
    "\n",
    "\n",
    "# import awswrangler as wr\n",
    "# wr.s3.to_csv(\n",
    "#     df=df_out,\n",
    "#     path='s3://cdo-ililapse-364524684987-bucket/x266754/temp/clarify_sample.csv'\n",
    "# )"
   ]
  },
  {
   "cell_type": "code",
   "execution_count": 23,
   "metadata": {},
   "outputs": [
    {
     "name": "stdout",
     "output_type": "stream",
     "text": [
      "CPU times: user 9.89 s, sys: 325 ms, total: 10.2 s\n",
      "Wall time: 10.3 s\n"
     ]
    },
    {
     "data": {
      "text/plain": [
       "{'paths': ['s3://cdo-ililapse-364524684987-bucket/x266754/lapse/clarify_jan_jun.parquet'],\n",
       " 'partitions_values': {}}"
      ]
     },
     "execution_count": 23,
     "metadata": {},
     "output_type": "execute_result"
    }
   ],
   "source": [
    "%%time\n",
    "import awswrangler as wr\n",
    "\n",
    "wr.s3.to_parquet(\n",
    "    df=df_out,\n",
    "    path='s3://cdo-ililapse-364524684987-bucket/x266754/lapse/clarify_jan_jun.parquet'\n",
    "    #dataset=True\n",
    ")"
   ]
  }
 ],
 "metadata": {
  "instance_type": "ml.m5.4xlarge",
  "kernelspec": {
   "display_name": "Python 3 (Data Science)",
   "language": "python",
   "name": "python3__SAGEMAKER_INTERNAL__arn:aws:sagemaker:us-east-1:081325390199:image/datascience-1.0"
  },
  "language_info": {
   "codemirror_mode": {
    "name": "ipython",
    "version": 3
   },
   "file_extension": ".py",
   "mimetype": "text/x-python",
   "name": "python",
   "nbconvert_exporter": "python",
   "pygments_lexer": "ipython3",
   "version": "3.7.10"
  },
  "lcc_arn": "arn:aws:sagemaker:us-east-1:364524684987:studio-lifecycle-config/kernel-start-43"
 },
 "nbformat": 4,
 "nbformat_minor": 4
}
